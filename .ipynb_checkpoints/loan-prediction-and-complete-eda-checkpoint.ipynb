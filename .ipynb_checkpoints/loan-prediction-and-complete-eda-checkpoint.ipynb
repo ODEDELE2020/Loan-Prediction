{
 "cells": [
  {
   "cell_type": "markdown",
   "id": "951213f1",
   "metadata": {
    "_cell_guid": "b1076dfc-b9ad-4769-8c92-a6c4dae69d19",
    "_uuid": "8f2839f25d086af736a60e9eeb907d3b93b6e0e5",
    "papermill": {
     "duration": 0.007205,
     "end_time": "2022-11-15T12:17:36.132595",
     "exception": false,
     "start_time": "2022-11-15T12:17:36.125390",
     "status": "completed"
    },
    "tags": []
   },
   "source": [
    " # <h1 style='background:#F7B2B0; border:0; color:black'><center> Bank Loan Prediction</center></h1> \n",
    " \n"
   ]
  },
  {
   "cell_type": "markdown",
   "id": "28c2eaae",
   "metadata": {
    "papermill": {
     "duration": 0.005545,
     "end_time": "2022-11-15T12:17:36.144262",
     "exception": false,
     "start_time": "2022-11-15T12:17:36.138717",
     "status": "completed"
    },
    "tags": []
   },
   "source": [
    "Dream Housing Finance company deals in all kinds of home loans. They have presence across all urban, semi urban and rural areas. Customer first applies for home loan and after that company validates the customer eligibility for loan.\n",
    "Company wants to automate the loan eligibility process (real time) based on customer detail provided while filling online application form. These details are Gender, Marital Status, Education, Number of Dependents, Income, Loan Amount, Credit History and others. To automate this process, they have provided a dataset to identify the customers segments that are eligible for loan amount so that they can specifically target these customers.\n",
    "\n",
    "Loan prediction is a very common real life problem that each retail bank faces atleast one in it lifetime. if done corretly, it can save a lot of man hours at the end of retail bank.\n"
   ]
  },
  {
   "cell_type": "markdown",
   "id": "815ee3d1",
   "metadata": {
    "execution": {
     "iopub.execute_input": "2022-11-15T10:31:34.794936Z",
     "iopub.status.busy": "2022-11-15T10:31:34.794263Z",
     "iopub.status.idle": "2022-11-15T10:31:34.834011Z",
     "shell.execute_reply": "2022-11-15T10:31:34.832174Z",
     "shell.execute_reply.started": "2022-11-15T10:31:34.794836Z"
    },
    "papermill": {
     "duration": 0.005578,
     "end_time": "2022-11-15T12:17:36.155785",
     "exception": false,
     "start_time": "2022-11-15T12:17:36.150207",
     "status": "completed"
    },
    "tags": []
   },
   "source": [
    "# **<span style=\"color:#F7B2B0;\">Goal</span>**\n",
    " \n",
    "The goal is to Predict weather loan would be approved or Not\n",
    "\n",
    "# **<span style=\"color:#F7B2B0;\">Data</span>**\n",
    "\n",
    "Each row contians the attribe of person and the last attribute loan status contanins wheather loan should be approved or not.\n",
    "**Files**\n",
    "> - ``` Loan_Data.csv``` - Dataset given\n",
    "\n",
    "**Columns**\n",
    "\n",
    "|Variable  | Description |\n",
    "| --- | --- |\n",
    "| Loan_ID | Unique Loan ID |\n",
    "| Gender| Male/ Female |\n",
    "|Married|Applicant married (Y/N)|\n",
    "|Dependents|Number of dependents|\n",
    "|Education|Applicant Education (Graduate/ Under Graduate)|\n",
    "|Self_Employed|Self employed (Y/N)|\n",
    "|ApplicantIncome|Applicant income|\n",
    "|CoapplicantIncome|Coapplicant income|\n",
    "|LoanAmount|Loan amount in thousands|\n",
    "|Loan_Amount_Term|Term of loan in months|\n",
    "|Credit_History|credit history meets guidelines|\n",
    "|Property_Area|Urban/ Semi Urban/ Rural|\n",
    "|Loan_Status|(Target) Loan approved (Y/N)|\n"
   ]
  },
  {
   "cell_type": "markdown",
   "id": "7faf021e",
   "metadata": {
    "papermill": {
     "duration": 0.005744,
     "end_time": "2022-11-15T12:17:36.169027",
     "exception": false,
     "start_time": "2022-11-15T12:17:36.163283",
     "status": "completed"
    },
    "tags": []
   },
   "source": [
    "# **<span style=\"color:#e76f51;\">Loading Packages </span>**"
   ]
  },
  {
   "cell_type": "code",
   "execution_count": 1,
   "id": "727f47be",
   "metadata": {
    "execution": {
     "iopub.execute_input": "2022-11-15T12:17:36.183965Z",
     "iopub.status.busy": "2022-11-15T12:17:36.182967Z",
     "iopub.status.idle": "2022-11-15T12:17:37.626152Z",
     "shell.execute_reply": "2022-11-15T12:17:37.624818Z"
    },
    "papermill": {
     "duration": 1.454043,
     "end_time": "2022-11-15T12:17:37.629097",
     "exception": false,
     "start_time": "2022-11-15T12:17:36.175054",
     "status": "completed"
    },
    "tags": []
   },
   "outputs": [],
   "source": [
    "import pandas as pd \n",
    "import numpy as np # for mathematical calculation\n",
    "import seaborn as sns # for data visualization\n",
    "import matplotlib.pyplot as plt # for plotting graphs\n",
    "from sklearn.model_selection import train_test_split # to split data fro training and testing \n",
    "%matplotlib inline \n",
    "import warnings \n",
    "warnings.filterwarnings(\"ignore\")\n"
   ]
  },
  {
   "cell_type": "markdown",
   "id": "b9be08c9",
   "metadata": {
    "papermill": {
     "duration": 0.005537,
     "end_time": "2022-11-15T12:17:37.640582",
     "exception": false,
     "start_time": "2022-11-15T12:17:37.635045",
     "status": "completed"
    },
    "tags": []
   },
   "source": [
    "# **<span style=\"color:#e76f51;\">Loading Packages </span>**"
   ]
  },
  {
   "cell_type": "code",
   "execution_count": 2,
   "id": "1d4ed648",
   "metadata": {
    "execution": {
     "iopub.execute_input": "2022-11-15T12:17:37.654146Z",
     "iopub.status.busy": "2022-11-15T12:17:37.653662Z",
     "iopub.status.idle": "2022-11-15T12:17:37.704587Z",
     "shell.execute_reply": "2022-11-15T12:17:37.703242Z"
    },
    "papermill": {
     "duration": 0.060931,
     "end_time": "2022-11-15T12:17:37.707133",
     "exception": false,
     "start_time": "2022-11-15T12:17:37.646202",
     "status": "completed"
    },
    "tags": []
   },
   "outputs": [
    {
     "data": {
      "text/html": [
       "<div>\n",
       "<style scoped>\n",
       "    .dataframe tbody tr th:only-of-type {\n",
       "        vertical-align: middle;\n",
       "    }\n",
       "\n",
       "    .dataframe tbody tr th {\n",
       "        vertical-align: top;\n",
       "    }\n",
       "\n",
       "    .dataframe thead th {\n",
       "        text-align: right;\n",
       "    }\n",
       "</style>\n",
       "<table border=\"1\" class=\"dataframe\">\n",
       "  <thead>\n",
       "    <tr style=\"text-align: right;\">\n",
       "      <th></th>\n",
       "      <th>Loan_ID</th>\n",
       "      <th>Gender</th>\n",
       "      <th>Married</th>\n",
       "      <th>Dependents</th>\n",
       "      <th>Education</th>\n",
       "      <th>Self_Employed</th>\n",
       "      <th>ApplicantIncome</th>\n",
       "      <th>CoapplicantIncome</th>\n",
       "      <th>LoanAmount</th>\n",
       "      <th>Loan_Amount_Term</th>\n",
       "      <th>Credit_History</th>\n",
       "      <th>Property_Area</th>\n",
       "      <th>Loan_Status</th>\n",
       "    </tr>\n",
       "  </thead>\n",
       "  <tbody>\n",
       "    <tr>\n",
       "      <th>0</th>\n",
       "      <td>LP001002</td>\n",
       "      <td>Male</td>\n",
       "      <td>No</td>\n",
       "      <td>0</td>\n",
       "      <td>Graduate</td>\n",
       "      <td>No</td>\n",
       "      <td>5849</td>\n",
       "      <td>0.0</td>\n",
       "      <td>NaN</td>\n",
       "      <td>360.0</td>\n",
       "      <td>1.0</td>\n",
       "      <td>Urban</td>\n",
       "      <td>Y</td>\n",
       "    </tr>\n",
       "    <tr>\n",
       "      <th>1</th>\n",
       "      <td>LP001003</td>\n",
       "      <td>Male</td>\n",
       "      <td>Yes</td>\n",
       "      <td>1</td>\n",
       "      <td>Graduate</td>\n",
       "      <td>No</td>\n",
       "      <td>4583</td>\n",
       "      <td>1508.0</td>\n",
       "      <td>128.0</td>\n",
       "      <td>360.0</td>\n",
       "      <td>1.0</td>\n",
       "      <td>Rural</td>\n",
       "      <td>N</td>\n",
       "    </tr>\n",
       "    <tr>\n",
       "      <th>2</th>\n",
       "      <td>LP001005</td>\n",
       "      <td>Male</td>\n",
       "      <td>Yes</td>\n",
       "      <td>0</td>\n",
       "      <td>Graduate</td>\n",
       "      <td>Yes</td>\n",
       "      <td>3000</td>\n",
       "      <td>0.0</td>\n",
       "      <td>66.0</td>\n",
       "      <td>360.0</td>\n",
       "      <td>1.0</td>\n",
       "      <td>Urban</td>\n",
       "      <td>Y</td>\n",
       "    </tr>\n",
       "    <tr>\n",
       "      <th>3</th>\n",
       "      <td>LP001006</td>\n",
       "      <td>Male</td>\n",
       "      <td>Yes</td>\n",
       "      <td>0</td>\n",
       "      <td>Not Graduate</td>\n",
       "      <td>No</td>\n",
       "      <td>2583</td>\n",
       "      <td>2358.0</td>\n",
       "      <td>120.0</td>\n",
       "      <td>360.0</td>\n",
       "      <td>1.0</td>\n",
       "      <td>Urban</td>\n",
       "      <td>Y</td>\n",
       "    </tr>\n",
       "    <tr>\n",
       "      <th>4</th>\n",
       "      <td>LP001008</td>\n",
       "      <td>Male</td>\n",
       "      <td>No</td>\n",
       "      <td>0</td>\n",
       "      <td>Graduate</td>\n",
       "      <td>No</td>\n",
       "      <td>6000</td>\n",
       "      <td>0.0</td>\n",
       "      <td>141.0</td>\n",
       "      <td>360.0</td>\n",
       "      <td>1.0</td>\n",
       "      <td>Urban</td>\n",
       "      <td>Y</td>\n",
       "    </tr>\n",
       "  </tbody>\n",
       "</table>\n",
       "</div>"
      ],
      "text/plain": [
       "    Loan_ID Gender Married Dependents     Education Self_Employed  \\\n",
       "0  LP001002   Male      No          0      Graduate            No   \n",
       "1  LP001003   Male     Yes          1      Graduate            No   \n",
       "2  LP001005   Male     Yes          0      Graduate           Yes   \n",
       "3  LP001006   Male     Yes          0  Not Graduate            No   \n",
       "4  LP001008   Male      No          0      Graduate            No   \n",
       "\n",
       "   ApplicantIncome  CoapplicantIncome  LoanAmount  Loan_Amount_Term  \\\n",
       "0             5849                0.0         NaN             360.0   \n",
       "1             4583             1508.0       128.0             360.0   \n",
       "2             3000                0.0        66.0             360.0   \n",
       "3             2583             2358.0       120.0             360.0   \n",
       "4             6000                0.0       141.0             360.0   \n",
       "\n",
       "   Credit_History Property_Area Loan_Status  \n",
       "0             1.0         Urban           Y  \n",
       "1             1.0         Rural           N  \n",
       "2             1.0         Urban           Y  \n",
       "3             1.0         Urban           Y  \n",
       "4             1.0         Urban           Y  "
      ]
     },
     "execution_count": 2,
     "metadata": {},
     "output_type": "execute_result"
    }
   ],
   "source": [
    "#read data\n",
    "data = pd.read_csv(\"../input/eligibility-prediction-for-loan/Loan_Data.csv\")  \n",
    "#see snapshot of dataset\n",
    "data.head()"
   ]
  },
  {
   "cell_type": "markdown",
   "id": "dc2ea4b9",
   "metadata": {
    "papermill": {
     "duration": 0.005712,
     "end_time": "2022-11-15T12:17:37.718999",
     "exception": false,
     "start_time": "2022-11-15T12:17:37.713287",
     "status": "completed"
    },
    "tags": []
   },
   "source": [
    "# **<span style=\"color:#e76f51;\"> Understanding the Data </span>**\n",
    "\n",
    "In this section, we will look at the structure of the data. Firstly we will cheek the features or attributes present in our data then we will look at their data types.\n"
   ]
  },
  {
   "cell_type": "code",
   "execution_count": 3,
   "id": "e1bc29aa",
   "metadata": {
    "execution": {
     "iopub.execute_input": "2022-11-15T12:17:37.734611Z",
     "iopub.status.busy": "2022-11-15T12:17:37.734091Z",
     "iopub.status.idle": "2022-11-15T12:17:37.741877Z",
     "shell.execute_reply": "2022-11-15T12:17:37.740440Z"
    },
    "papermill": {
     "duration": 0.017904,
     "end_time": "2022-11-15T12:17:37.744385",
     "exception": false,
     "start_time": "2022-11-15T12:17:37.726481",
     "status": "completed"
    },
    "tags": []
   },
   "outputs": [
    {
     "name": "stdout",
     "output_type": "stream",
     "text": [
      "Index(['Loan_ID', 'Gender', 'Married', 'Dependents', 'Education',\n",
      "       'Self_Employed', 'ApplicantIncome', 'CoapplicantIncome', 'LoanAmount',\n",
      "       'Loan_Amount_Term', 'Credit_History', 'Property_Area', 'Loan_Status'],\n",
      "      dtype='object')\n",
      "13\n",
      "(614, 13)\n"
     ]
    }
   ],
   "source": [
    "print(data.columns)\n",
    "print(len(data.columns)) # total features including target varible.\n",
    "print(data.shape) # shape also gives us the row and colums "
   ]
  },
  {
   "cell_type": "markdown",
   "id": "06685b01",
   "metadata": {
    "papermill": {
     "duration": 0.006001,
     "end_time": "2022-11-15T12:17:37.756907",
     "exception": false,
     "start_time": "2022-11-15T12:17:37.750906",
     "status": "completed"
    },
    "tags": []
   },
   "source": [
    "We have 12 independent variables and 1 target variable, that is loan_status."
   ]
  },
  {
   "cell_type": "code",
   "execution_count": 4,
   "id": "19787557",
   "metadata": {
    "execution": {
     "iopub.execute_input": "2022-11-15T12:17:37.771108Z",
     "iopub.status.busy": "2022-11-15T12:17:37.770700Z",
     "iopub.status.idle": "2022-11-15T12:17:37.780627Z",
     "shell.execute_reply": "2022-11-15T12:17:37.779187Z"
    },
    "papermill": {
     "duration": 0.020117,
     "end_time": "2022-11-15T12:17:37.783091",
     "exception": false,
     "start_time": "2022-11-15T12:17:37.762974",
     "status": "completed"
    },
    "tags": []
   },
   "outputs": [
    {
     "data": {
      "text/plain": [
       "Loan_ID               object\n",
       "Gender                object\n",
       "Married               object\n",
       "Dependents            object\n",
       "Education             object\n",
       "Self_Employed         object\n",
       "ApplicantIncome        int64\n",
       "CoapplicantIncome    float64\n",
       "LoanAmount           float64\n",
       "Loan_Amount_Term     float64\n",
       "Credit_History       float64\n",
       "Property_Area         object\n",
       "Loan_Status           object\n",
       "dtype: object"
      ]
     },
     "execution_count": 4,
     "metadata": {},
     "output_type": "execute_result"
    }
   ],
   "source": [
    "data.dtypes"
   ]
  },
  {
   "cell_type": "markdown",
   "id": "a9b333aa",
   "metadata": {
    "papermill": {
     "duration": 0.006256,
     "end_time": "2022-11-15T12:17:37.795989",
     "exception": false,
     "start_time": "2022-11-15T12:17:37.789733",
     "status": "completed"
    },
    "tags": []
   },
   "source": [
    "WE can see three format of data types:\n",
    "> - ``` object``` - Object format means variables are categorical.\n",
    "> - ``` int64``` - It represent the integer variables.\n",
    "> - ``` float64``` -It represent the variable which have some decimal values involved. \n"
   ]
  },
  {
   "cell_type": "markdown",
   "id": "61fde1c3",
   "metadata": {
    "papermill": {
     "duration": 0.005975,
     "end_time": "2022-11-15T12:17:37.808213",
     "exception": false,
     "start_time": "2022-11-15T12:17:37.802238",
     "status": "completed"
    },
    "tags": []
   },
   "source": [
    "# **<span style=\"color:#e76f51;\"> Univeriate Analysis  </span>**\n",
    "In this section we will do univariate analysis. it is the simplest form of analysing the data where we examine each variable individually. For categorical features we can use frequency table or bar plots which will calculate the number of each category in a plarticular variable. For numerical features. Probability density plots can be used to look at the distribution of the variable.\n",
    "\n",
    "# **<span style=\"color:#e76f51;\"> Target Variable  </span>**\n",
    "WE will first look at the target variable, Loan_Status. As it is categorical variable, let us look at its frequency table, percentage distribution and bar plot\n"
   ]
  },
  {
   "cell_type": "code",
   "execution_count": 5,
   "id": "e26b189c",
   "metadata": {
    "execution": {
     "iopub.execute_input": "2022-11-15T12:17:37.822822Z",
     "iopub.status.busy": "2022-11-15T12:17:37.822429Z",
     "iopub.status.idle": "2022-11-15T12:17:37.836830Z",
     "shell.execute_reply": "2022-11-15T12:17:37.835971Z"
    },
    "papermill": {
     "duration": 0.024593,
     "end_time": "2022-11-15T12:17:37.839005",
     "exception": false,
     "start_time": "2022-11-15T12:17:37.814412",
     "status": "completed"
    },
    "tags": []
   },
   "outputs": [
    {
     "data": {
      "text/plain": [
       "Y    422\n",
       "N    192\n",
       "Name: Loan_Status, dtype: int64"
      ]
     },
     "execution_count": 5,
     "metadata": {},
     "output_type": "execute_result"
    }
   ],
   "source": [
    "data['Loan_Status'].value_counts()"
   ]
  },
  {
   "cell_type": "code",
   "execution_count": 6,
   "id": "3bfe4cbc",
   "metadata": {
    "execution": {
     "iopub.execute_input": "2022-11-15T12:17:37.853756Z",
     "iopub.status.busy": "2022-11-15T12:17:37.853287Z",
     "iopub.status.idle": "2022-11-15T12:17:37.863807Z",
     "shell.execute_reply": "2022-11-15T12:17:37.862603Z"
    },
    "papermill": {
     "duration": 0.020542,
     "end_time": "2022-11-15T12:17:37.865996",
     "exception": false,
     "start_time": "2022-11-15T12:17:37.845454",
     "status": "completed"
    },
    "tags": []
   },
   "outputs": [
    {
     "data": {
      "text/plain": [
       "Y    0.687296\n",
       "N    0.312704\n",
       "Name: Loan_Status, dtype: float64"
      ]
     },
     "execution_count": 6,
     "metadata": {},
     "output_type": "execute_result"
    }
   ],
   "source": [
    "# normalize can be set to true to print the proportion instead of number \n",
    "data['Loan_Status'].value_counts(normalize=True)"
   ]
  },
  {
   "cell_type": "code",
   "execution_count": 7,
   "id": "df5de1e8",
   "metadata": {
    "execution": {
     "iopub.execute_input": "2022-11-15T12:17:37.882017Z",
     "iopub.status.busy": "2022-11-15T12:17:37.881226Z",
     "iopub.status.idle": "2022-11-15T12:17:38.140738Z",
     "shell.execute_reply": "2022-11-15T12:17:38.139457Z"
    },
    "papermill": {
     "duration": 0.270641,
     "end_time": "2022-11-15T12:17:38.143130",
     "exception": false,
     "start_time": "2022-11-15T12:17:37.872489",
     "status": "completed"
    },
    "tags": []
   },
   "outputs": [
    {
     "data": {
      "text/plain": [
       "<AxesSubplot:>"
      ]
     },
     "execution_count": 7,
     "metadata": {},
     "output_type": "execute_result"
    },
    {
     "data": {
      "image/png": "[encoded data removed]",
      "text/plain": [
       "<Figure size 432x288 with 1 Axes>"
      ]
     },
     "metadata": {
      "needs_background": "light"
     },
     "output_type": "display_data"
    }
   ],
   "source": [
    "data['Loan_Status'].value_counts().plot.bar()"
   ]
  },
  {
   "cell_type": "markdown",
   "id": "4d8a67f6",
   "metadata": {
    "papermill": {
     "duration": 0.006593,
     "end_time": "2022-11-15T12:17:38.156624",
     "exception": false,
     "start_time": "2022-11-15T12:17:38.150031",
     "status": "completed"
    },
    "tags": []
   },
   "source": [
    "## Independent Variable (Categorical) "
   ]
  },
  {
   "cell_type": "code",
   "execution_count": 8,
   "id": "f2ef8059",
   "metadata": {
    "execution": {
     "iopub.execute_input": "2022-11-15T12:17:38.171707Z",
     "iopub.status.busy": "2022-11-15T12:17:38.171290Z",
     "iopub.status.idle": "2022-11-15T12:17:38.715717Z",
     "shell.execute_reply": "2022-11-15T12:17:38.714580Z"
    },
    "papermill": {
     "duration": 0.555128,
     "end_time": "2022-11-15T12:17:38.718404",
     "exception": false,
     "start_time": "2022-11-15T12:17:38.163276",
     "status": "completed"
    },
    "tags": []
   },
   "outputs": [
    {
     "data": {
      "image/png": "[encoded data removed]",
      "text/plain": [
       "<Figure size 1440x720 with 4 Axes>"
      ]
     },
     "metadata": {
      "needs_background": "light"
     },
     "output_type": "display_data"
    }
   ],
   "source": [
    "plt.figure(1)\n",
    "plt.subplot(221)\n",
    "data['Gender'].value_counts(normalize=True).plot.bar(figsize=(20,10),title=\"Gender\")\n",
    "plt.subplot(222)\n",
    "data['Married'].value_counts(normalize=True).plot.bar(figsize=(20,10),title=\"Married\")\n",
    "plt.subplot(223)\n",
    "data['Self_Employed'].value_counts(normalize=True).plot.bar(figsize=(20,10),title=\"Self_Employed\")\n",
    "plt.subplot(224)\n",
    "data['Credit_History'].value_counts(normalize=True).plot.bar(figsize=(20,10),title=\"Credit_History\")\n",
    "\n",
    "plt.show()"
   ]
  },
  {
   "cell_type": "markdown",
   "id": "b9ad661e",
   "metadata": {
    "papermill": {
     "duration": 0.006987,
     "end_time": "2022-11-15T12:17:38.732752",
     "exception": false,
     "start_time": "2022-11-15T12:17:38.725765",
     "status": "completed"
    },
    "tags": []
   },
   "source": [
    "## Independent Variable(Ordinal)"
   ]
  },
  {
   "cell_type": "code",
   "execution_count": 9,
   "id": "ebbac552",
   "metadata": {
    "execution": {
     "iopub.execute_input": "2022-11-15T12:17:38.749627Z",
     "iopub.status.busy": "2022-11-15T12:17:38.748463Z",
     "iopub.status.idle": "2022-11-15T12:17:39.194342Z",
     "shell.execute_reply": "2022-11-15T12:17:39.193040Z"
    },
    "papermill": {
     "duration": 0.457319,
     "end_time": "2022-11-15T12:17:39.197261",
     "exception": false,
     "start_time": "2022-11-15T12:17:38.739942",
     "status": "completed"
    },
    "tags": []
   },
   "outputs": [
    {
     "data": {
      "image/png": "[encoded data removed]",
      "text/plain": [
       "<Figure size 1440x720 with 3 Axes>"
      ]
     },
     "metadata": {
      "needs_background": "light"
     },
     "output_type": "display_data"
    }
   ],
   "source": [
    "plt.figure(1)\n",
    "plt.subplot(131)\n",
    "data['Dependents'].value_counts(normalize=True).plot.bar(figsize=(24,6),title=\"Dependents\")\n",
    "plt.subplot(132)\n",
    "data['Education'].value_counts(normalize=True).plot.bar(figsize=(24,6),title=\"Education\")\n",
    "plt.subplot(133)\n",
    "data['Property_Area'].value_counts(normalize=True).plot.bar(figsize=(20,10),title=\"Property_Area\")\n",
    "plt.show()"
   ]
  },
  {
   "cell_type": "markdown",
   "id": "e02bf5e8",
   "metadata": {
    "papermill": {
     "duration": 0.007547,
     "end_time": "2022-11-15T12:17:39.213239",
     "exception": false,
     "start_time": "2022-11-15T12:17:39.205692",
     "status": "completed"
    },
    "tags": []
   },
   "source": [
    "## Independent Variable(Numerical)"
   ]
  },
  {
   "cell_type": "code",
   "execution_count": 10,
   "id": "c8c2775f",
   "metadata": {
    "execution": {
     "iopub.execute_input": "2022-11-15T12:17:39.230814Z",
     "iopub.status.busy": "2022-11-15T12:17:39.230291Z",
     "iopub.status.idle": "2022-11-15T12:17:39.238679Z",
     "shell.execute_reply": "2022-11-15T12:17:39.237202Z"
    },
    "papermill": {
     "duration": 0.020049,
     "end_time": "2022-11-15T12:17:39.241053",
     "exception": false,
     "start_time": "2022-11-15T12:17:39.221004",
     "status": "completed"
    },
    "tags": []
   },
   "outputs": [
    {
     "data": {
      "text/plain": [
       "Index(['Loan_ID', 'Gender', 'Married', 'Dependents', 'Education',\n",
       "       'Self_Employed', 'ApplicantIncome', 'CoapplicantIncome', 'LoanAmount',\n",
       "       'Loan_Amount_Term', 'Credit_History', 'Property_Area', 'Loan_Status'],\n",
       "      dtype='object')"
      ]
     },
     "execution_count": 10,
     "metadata": {},
     "output_type": "execute_result"
    }
   ],
   "source": [
    "data.columns"
   ]
  },
  {
   "cell_type": "code",
   "execution_count": 11,
   "id": "8d39aa0d",
   "metadata": {
    "execution": {
     "iopub.execute_input": "2022-11-15T12:17:39.258760Z",
     "iopub.status.busy": "2022-11-15T12:17:39.258244Z",
     "iopub.status.idle": "2022-11-15T12:17:40.648084Z",
     "shell.execute_reply": "2022-11-15T12:17:40.646728Z"
    },
    "papermill": {
     "duration": 1.401581,
     "end_time": "2022-11-15T12:17:40.650489",
     "exception": false,
     "start_time": "2022-11-15T12:17:39.248908",
     "status": "completed"
    },
    "tags": []
   },
   "outputs": [
    {
     "data": {
      "text/plain": [
       "<seaborn.axisgrid.FacetGrid at 0x7fa10b6ba8d0>"
      ]
     },
     "execution_count": 11,
     "metadata": {},
     "output_type": "execute_result"
    },
    {
     "data": {
      "image/png": "[encoded data removed]",
      "text/plain": [
       "<Figure size 360x360 with 1 Axes>"
      ]
     },
     "metadata": {
      "needs_background": "light"
     },
     "output_type": "display_data"
    },
    {
     "data": {
      "image/png": "[encoded data removed]",
      "text/plain": [
       "<Figure size 360x360 with 1 Axes>"
      ]
     },
     "metadata": {
      "needs_background": "light"
     },
     "output_type": "display_data"
    },
    {
     "data": {
      "image/png": "[encoded data removed]",
      "text/plain": [
       "<Figure size 360x360 with 1 Axes>"
      ]
     },
     "metadata": {
      "needs_background": "light"
     },
     "output_type": "display_data"
    }
   ],
   "source": [
    "sns.displot(data['ApplicantIncome'])\n",
    "sns.displot(data['CoapplicantIncome'])\n",
    "sns.displot(data['LoanAmount'])\n"
   ]
  },
  {
   "cell_type": "markdown",
   "id": "82c567a7",
   "metadata": {
    "papermill": {
     "duration": 0.008132,
     "end_time": "2022-11-15T12:17:40.667109",
     "exception": false,
     "start_time": "2022-11-15T12:17:40.658977",
     "status": "completed"
    },
    "tags": []
   },
   "source": [
    "# **<span style=\"color:#e76f51;\"> Missing Value</span>**"
   ]
  },
  {
   "cell_type": "code",
   "execution_count": 12,
   "id": "737f00a4",
   "metadata": {
    "execution": {
     "iopub.execute_input": "2022-11-15T12:17:40.685880Z",
     "iopub.status.busy": "2022-11-15T12:17:40.685486Z",
     "iopub.status.idle": "2022-11-15T12:17:40.695155Z",
     "shell.execute_reply": "2022-11-15T12:17:40.693946Z"
    },
    "papermill": {
     "duration": 0.022069,
     "end_time": "2022-11-15T12:17:40.697503",
     "exception": false,
     "start_time": "2022-11-15T12:17:40.675434",
     "status": "completed"
    },
    "tags": []
   },
   "outputs": [
    {
     "data": {
      "text/plain": [
       "Loan_ID               0\n",
       "Gender               13\n",
       "Married               3\n",
       "Dependents           15\n",
       "Education             0\n",
       "Self_Employed        32\n",
       "ApplicantIncome       0\n",
       "CoapplicantIncome     0\n",
       "LoanAmount           22\n",
       "Loan_Amount_Term     14\n",
       "Credit_History       50\n",
       "Property_Area         0\n",
       "Loan_Status           0\n",
       "dtype: int64"
      ]
     },
     "execution_count": 12,
     "metadata": {},
     "output_type": "execute_result"
    }
   ],
   "source": [
    "data.isnull().sum()"
   ]
  },
  {
   "cell_type": "code",
   "execution_count": 13,
   "id": "84ed9a06",
   "metadata": {
    "execution": {
     "iopub.execute_input": "2022-11-15T12:17:40.716691Z",
     "iopub.status.busy": "2022-11-15T12:17:40.716291Z",
     "iopub.status.idle": "2022-11-15T12:17:40.724534Z",
     "shell.execute_reply": "2022-11-15T12:17:40.723338Z"
    },
    "papermill": {
     "duration": 0.02046,
     "end_time": "2022-11-15T12:17:40.726792",
     "exception": false,
     "start_time": "2022-11-15T12:17:40.706332",
     "status": "completed"
    },
    "tags": []
   },
   "outputs": [],
   "source": [
    "#remove missing values\n",
    "data.dropna(inplace = True)"
   ]
  },
  {
   "cell_type": "markdown",
   "id": "80403b13",
   "metadata": {
    "papermill": {
     "duration": 0.008346,
     "end_time": "2022-11-15T12:17:40.743739",
     "exception": false,
     "start_time": "2022-11-15T12:17:40.735393",
     "status": "completed"
    },
    "tags": []
   },
   "source": [
    "# **<span style=\"color:#e76f51;\">Contined.... </span>**"
   ]
  }
 ],
 "metadata": {
  "kernelspec": {
   "display_name": "Python 3 (ipykernel)",
   "language": "python",
   "name": "python3"
  },
  "language_info": {
   "codemirror_mode": {
    "name": "ipython",
    "version": 3
   },
   "file_extension": ".py",
   "mimetype": "text/x-python",
   "name": "python",
   "nbconvert_exporter": "python",
   "pygments_lexer": "ipython3",
   "version": "3.9.7"
  },
  "papermill": {
   "default_parameters": {},
   "duration": 14.215711,
   "end_time": "2022-11-15T12:17:41.573916",
   "environment_variables": {},
   "exception": null,
   "input_path": "__notebook__.ipynb",
   "output_path": "__notebook__.ipynb",
   "parameters": {},
   "start_time": "2022-11-15T12:17:27.358205",
   "version": "2.3.4"
  }
 },
 "nbformat": 4,
 "nbformat_minor": 5
}
