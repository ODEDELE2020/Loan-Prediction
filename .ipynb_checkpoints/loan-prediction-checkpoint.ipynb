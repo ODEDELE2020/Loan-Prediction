{
 "cells": [
  {
   "cell_type": "markdown",
   "id": "aece344c",
   "metadata": {
    "papermill": {
     "duration": 0.019157,
     "end_time": "2022-09-13T10:51:47.287674",
     "exception": false,
     "start_time": "2022-09-13T10:51:47.268517",
     "status": "completed"
    },
    "tags": []
   },
   "source": [
    "# Loan Prediction"
   ]
  },
  {
   "cell_type": "raw",
   "id": "c3657f77",
   "metadata": {},
   "source": [
    "Steps to solve machine learning projects\n",
    "start\n",
    "data selection\n",
    "data description : A story of data is all abot and the features present in the data\n",
    "performing both statistical and graphical data analysis\n",
    "data tranformation and derivation of new attributes , if necessary\n",
    "selection of machine learning algorithms based on the patterns observed in EDA\n",
    "data standardization and normalization\n",
    "creation of train and test data sets\n",
    "model training using machine learning algorithms\n",
    "calculation of model accuracy : both training and testing accuracy\n",
    "hyper parameter tuning to achieve a better accuracy\n",
    "saving the created model file\n",
    "Deployement strategies for model\n",
    "production deployment and testing"
   ]
  },
  {
   "cell_type": "markdown",
   "id": "969e97ea",
   "metadata": {},
   "source": [
    "# About the company"
   ]
  },
  {
   "cell_type": "markdown",
   "id": "fd6473d6",
   "metadata": {},
   "source": [
    "Dream Housing Finance company deals in all home loans. They have a presence across all urban, semi-urban, and rural areas. Customer-first applies for a home loan after that company validates the customer eligibility for a loan"
   ]
  },
  {
   "cell_type": "markdown",
   "id": "bcbda00e",
   "metadata": {},
   "source": [
    "# Problem Statement:-"
   ]
  },
  {
   "cell_type": "markdown",
   "id": "5d42e9e1",
   "metadata": {},
   "source": [
    "The company wants to automate the loan eligibility process (real-time) based on customer detail provided while filling the online application form. These details are Gender, Marital Status, Education, Number of Dependents, Income, Loan Amount, Credit History, and others. To automate this process, they have given a problem to identify the customer segments, those are \n",
    "\n",
    "**Eligible for loan amount so that they can specifically target these customers**"
   ]
  },
  {
   "cell_type": "markdown",
   "id": "f2a3ed29",
   "metadata": {},
   "source": [
    "# Features of our data"
   ]
  },
  {
   "cell_type": "markdown",
   "id": "ca8126e2",
   "metadata": {},
   "source": [
    "1.LoanID= Unique Loan ID          \n",
    "2.Gender= Male/ Female           \n",
    "3.Married= Applicant married (Y/N)                  \n",
    "4.Dependents= Number of dependents          \n",
    "5.Education= Applicant Education (Graduate/ Under Graduate)                   \n",
    "6.SelfEmployed= Self-employed (Y/N)         \n",
    "7.ApplicantIncome= Applicant income           \n",
    "8.CoapplicantIncome= Coapplicant income              \n",
    "9.LoanAmount= Loan amount in thousands           \n",
    "10.LoanAmountTerm= Term of the loan in months          \n",
    "11.CreditHistory= Credit history meets guidelines \n",
    "12.PropertyArea= Urban/ Semi-Urban/ Rural              \n",
    "13.LoanStatus= (Target) Loan approved (Y/N) ##Features of a Testing dataset:- "
   ]
  },
  {
   "cell_type": "markdown",
   "id": "59b12b5e",
   "metadata": {
    "papermill": {
     "duration": 0.017677,
     "end_time": "2022-09-13T10:51:47.324202",
     "exception": false,
     "start_time": "2022-09-13T10:51:47.306525",
     "status": "completed"
    },
    "tags": []
   },
   "source": [
    "# Importing Libraries"
   ]
  },
  {
   "cell_type": "code",
   "execution_count": 1,
   "id": "831583b7",
   "metadata": {
    "execution": {
     "iopub.execute_input": "2022-09-13T10:51:47.363442Z",
     "iopub.status.busy": "2022-09-13T10:51:47.362388Z",
     "iopub.status.idle": "2022-09-13T10:51:48.506225Z",
     "shell.execute_reply": "2022-09-13T10:51:48.504528Z"
    },
    "papermill": {
     "duration": 1.167416,
     "end_time": "2022-09-13T10:51:48.510000",
     "exception": false,
     "start_time": "2022-09-13T10:51:47.342584",
     "status": "completed"
    },
    "tags": []
   },
   "outputs": [],
   "source": [
    "import  numpy as np\n",
    "import  pandas as pd\n",
    "import seaborn as sns\n",
    "import matplotlib.pyplot as plt\n",
    "%matplotlib inline"
   ]
  },
  {
   "cell_type": "code",
   "execution_count": 2,
   "id": "ba306b8c",
   "metadata": {
    "execution": {
     "iopub.execute_input": "2022-09-13T10:51:48.557452Z",
     "iopub.status.busy": "2022-09-13T10:51:48.557043Z",
     "iopub.status.idle": "2022-09-13T10:51:49.030413Z",
     "shell.execute_reply": "2022-09-13T10:51:49.029460Z"
    },
    "papermill": {
     "duration": 0.500773,
     "end_time": "2022-09-13T10:51:49.032892",
     "exception": false,
     "start_time": "2022-09-13T10:51:48.532119",
     "status": "completed"
    },
    "scrolled": true,
    "tags": []
   },
   "outputs": [],
   "source": [
    "from sklearn.model_selection import train_test_split\n",
    "from sklearn import feature_selection\n",
    "from sklearn import model_selection\n",
    "from sklearn.metrics import accuracy_score \n",
    "from sklearn.linear_model import LogisticRegression\n",
    "from sklearn.svm import SVC\n",
    "from sklearn.naive_bayes import GaussianNB\n",
    "from sklearn.ensemble import RandomForestClassifier,GradientBoostingClassifier\n",
    "from sklearn.neighbors import KNeighborsClassifier\n",
    "\n",
    "import warnings\n",
    "warnings.filterwarnings('ignore')"
   ]
  },
  {
   "cell_type": "markdown",
   "id": "76d0b745",
   "metadata": {
    "papermill": {
     "duration": 0.017621,
     "end_time": "2022-09-13T10:51:49.068975",
     "exception": false,
     "start_time": "2022-09-13T10:51:49.051354",
     "status": "completed"
    },
    "tags": []
   },
   "source": [
    "# Importing data "
   ]
  },
  {
   "cell_type": "code",
   "execution_count": 9,
   "id": "26855e28",
   "metadata": {
    "execution": {
     "iopub.execute_input": "2022-09-13T10:51:49.107788Z",
     "iopub.status.busy": "2022-09-13T10:51:49.107424Z",
     "iopub.status.idle": "2022-09-13T10:51:49.144458Z",
     "shell.execute_reply": "2022-09-13T10:51:49.143249Z"
    },
    "papermill": {
     "duration": 0.05904,
     "end_time": "2022-09-13T10:51:49.146674",
     "exception": false,
     "start_time": "2022-09-13T10:51:49.087634",
     "status": "completed"
    },
    "tags": []
   },
   "outputs": [],
   "source": [
    "train = pd.read_csv(r'C:\\Users\\Pelux\\Desktop\\Jupyter Notebook\\LOAN PREDICTION\\train_u6lujuX_CVtuZ9i.csv')\n",
    "test = pd.read_csv(r'C:\\Users\\Pelux\\Desktop\\Jupyter Notebook\\LOAN PREDICTION\\test_Y3wMUE5_7gLdaTN.csv')"
   ]
  },
  {
   "cell_type": "code",
   "execution_count": 10,
   "id": "197c7679",
   "metadata": {
    "execution": {
     "iopub.execute_input": "2022-09-13T10:51:49.184745Z",
     "iopub.status.busy": "2022-09-13T10:51:49.184399Z",
     "iopub.status.idle": "2022-09-13T10:51:49.190653Z",
     "shell.execute_reply": "2022-09-13T10:51:49.188369Z"
    },
    "papermill": {
     "duration": 0.02877,
     "end_time": "2022-09-13T10:51:49.193636",
     "exception": false,
     "start_time": "2022-09-13T10:51:49.164866",
     "status": "completed"
    },
    "tags": []
   },
   "outputs": [
    {
     "name": "stdout",
     "output_type": "stream",
     "text": [
      "(614, 13) (367, 12)\n"
     ]
    }
   ],
   "source": [
    "print (train.shape, test.shape)"
   ]
  },
  {
   "cell_type": "markdown",
   "id": "7bd881f8",
   "metadata": {
    "papermill": {
     "duration": 0.019748,
     "end_time": "2022-09-13T10:51:49.232788",
     "exception": false,
     "start_time": "2022-09-13T10:51:49.213040",
     "status": "completed"
    },
    "tags": []
   },
   "source": [
    "# EDA & Data-Preprocessing"
   ]
  },
  {
   "cell_type": "markdown",
   "id": "dcc3b8c0",
   "metadata": {
    "papermill": {
     "duration": 0.020711,
     "end_time": "2022-09-13T10:51:49.272392",
     "exception": false,
     "start_time": "2022-09-13T10:51:49.251681",
     "status": "completed"
    },
    "tags": []
   },
   "source": [
    "### Viewing the train dataset"
   ]
  },
  {
   "cell_type": "code",
   "execution_count": 11,
   "id": "8efcf0d0",
   "metadata": {
    "execution": {
     "iopub.execute_input": "2022-09-13T10:51:49.310713Z",
     "iopub.status.busy": "2022-09-13T10:51:49.310242Z",
     "iopub.status.idle": "2022-09-13T10:51:49.336662Z",
     "shell.execute_reply": "2022-09-13T10:51:49.335617Z"
    },
    "papermill": {
     "duration": 0.047721,
     "end_time": "2022-09-13T10:51:49.338491",
     "exception": false,
     "start_time": "2022-09-13T10:51:49.290770",
     "status": "completed"
    },
    "tags": []
   },
   "outputs": [
    {
     "data": {
      "text/html": [
       "<div>\n",
       "<style scoped>\n",
       "    .dataframe tbody tr th:only-of-type {\n",
       "        vertical-align: middle;\n",
       "    }\n",
       "\n",
       "    .dataframe tbody tr th {\n",
       "        vertical-align: top;\n",
       "    }\n",
       "\n",
       "    .dataframe thead th {\n",
       "        text-align: right;\n",
       "    }\n",
       "</style>\n",
       "<table border=\"1\" class=\"dataframe\">\n",
       "  <thead>\n",
       "    <tr style=\"text-align: right;\">\n",
       "      <th></th>\n",
       "      <th>Loan_ID</th>\n",
       "      <th>Gender</th>\n",
       "      <th>Married</th>\n",
       "      <th>Dependents</th>\n",
       "      <th>Education</th>\n",
       "      <th>Self_Employed</th>\n",
       "      <th>ApplicantIncome</th>\n",
       "      <th>CoapplicantIncome</th>\n",
       "      <th>LoanAmount</th>\n",
       "      <th>Loan_Amount_Term</th>\n",
       "      <th>Credit_History</th>\n",
       "      <th>Property_Area</th>\n",
       "      <th>Loan_Status</th>\n",
       "    </tr>\n",
       "  </thead>\n",
       "  <tbody>\n",
       "    <tr>\n",
       "      <th>0</th>\n",
       "      <td>LP001002</td>\n",
       "      <td>Male</td>\n",
       "      <td>No</td>\n",
       "      <td>0</td>\n",
       "      <td>Graduate</td>\n",
       "      <td>No</td>\n",
       "      <td>5849</td>\n",
       "      <td>0.0</td>\n",
       "      <td>NaN</td>\n",
       "      <td>360.0</td>\n",
       "      <td>1.0</td>\n",
       "      <td>Urban</td>\n",
       "      <td>Y</td>\n",
       "    </tr>\n",
       "    <tr>\n",
       "      <th>1</th>\n",
       "      <td>LP001003</td>\n",
       "      <td>Male</td>\n",
       "      <td>Yes</td>\n",
       "      <td>1</td>\n",
       "      <td>Graduate</td>\n",
       "      <td>No</td>\n",
       "      <td>4583</td>\n",
       "      <td>1508.0</td>\n",
       "      <td>128.0</td>\n",
       "      <td>360.0</td>\n",
       "      <td>1.0</td>\n",
       "      <td>Rural</td>\n",
       "      <td>N</td>\n",
       "    </tr>\n",
       "    <tr>\n",
       "      <th>2</th>\n",
       "      <td>LP001005</td>\n",
       "      <td>Male</td>\n",
       "      <td>Yes</td>\n",
       "      <td>0</td>\n",
       "      <td>Graduate</td>\n",
       "      <td>Yes</td>\n",
       "      <td>3000</td>\n",
       "      <td>0.0</td>\n",
       "      <td>66.0</td>\n",
       "      <td>360.0</td>\n",
       "      <td>1.0</td>\n",
       "      <td>Urban</td>\n",
       "      <td>Y</td>\n",
       "    </tr>\n",
       "    <tr>\n",
       "      <th>3</th>\n",
       "      <td>LP001006</td>\n",
       "      <td>Male</td>\n",
       "      <td>Yes</td>\n",
       "      <td>0</td>\n",
       "      <td>Not Graduate</td>\n",
       "      <td>No</td>\n",
       "      <td>2583</td>\n",
       "      <td>2358.0</td>\n",
       "      <td>120.0</td>\n",
       "      <td>360.0</td>\n",
       "      <td>1.0</td>\n",
       "      <td>Urban</td>\n",
       "      <td>Y</td>\n",
       "    </tr>\n",
       "    <tr>\n",
       "      <th>4</th>\n",
       "      <td>LP001008</td>\n",
       "      <td>Male</td>\n",
       "      <td>No</td>\n",
       "      <td>0</td>\n",
       "      <td>Graduate</td>\n",
       "      <td>No</td>\n",
       "      <td>6000</td>\n",
       "      <td>0.0</td>\n",
       "      <td>141.0</td>\n",
       "      <td>360.0</td>\n",
       "      <td>1.0</td>\n",
       "      <td>Urban</td>\n",
       "      <td>Y</td>\n",
       "    </tr>\n",
       "  </tbody>\n",
       "</table>\n",
       "</div>"
      ],
      "text/plain": [
       "    Loan_ID Gender Married Dependents     Education Self_Employed  \\\n",
       "0  LP001002   Male      No          0      Graduate            No   \n",
       "1  LP001003   Male     Yes          1      Graduate            No   \n",
       "2  LP001005   Male     Yes          0      Graduate           Yes   \n",
       "3  LP001006   Male     Yes          0  Not Graduate            No   \n",
       "4  LP001008   Male      No          0      Graduate            No   \n",
       "\n",
       "   ApplicantIncome  CoapplicantIncome  LoanAmount  Loan_Amount_Term  \\\n",
       "0             5849                0.0         NaN             360.0   \n",
       "1             4583             1508.0       128.0             360.0   \n",
       "2             3000                0.0        66.0             360.0   \n",
       "3             2583             2358.0       120.0             360.0   \n",
       "4             6000                0.0       141.0             360.0   \n",
       "\n",
       "   Credit_History Property_Area Loan_Status  \n",
       "0             1.0         Urban           Y  \n",
       "1             1.0         Rural           N  \n",
       "2             1.0         Urban           Y  \n",
       "3             1.0         Urban           Y  \n",
       "4             1.0         Urban           Y  "
      ]
     },
     "execution_count": 11,
     "metadata": {},
     "output_type": "execute_result"
    }
   ],
   "source": [
    "train.head() "
   ]
  },
  {
   "cell_type": "code",
   "execution_count": 12,
   "id": "89daa746",
   "metadata": {
    "execution": {
     "iopub.execute_input": "2022-09-13T10:51:49.377637Z",
     "iopub.status.busy": "2022-09-13T10:51:49.376996Z",
     "iopub.status.idle": "2022-09-13T10:51:49.403388Z",
     "shell.execute_reply": "2022-09-13T10:51:49.402361Z"
    },
    "papermill": {
     "duration": 0.048185,
     "end_time": "2022-09-13T10:51:49.405059",
     "exception": false,
     "start_time": "2022-09-13T10:51:49.356874",
     "status": "completed"
    },
    "tags": []
   },
   "outputs": [
    {
     "name": "stdout",
     "output_type": "stream",
     "text": [
      "<class 'pandas.core.frame.DataFrame'>\n",
      "RangeIndex: 614 entries, 0 to 613\n",
      "Data columns (total 13 columns):\n",
      " #   Column             Non-Null Count  Dtype  \n",
      "---  ------             --------------  -----  \n",
      " 0   Loan_ID            614 non-null    object \n",
      " 1   Gender             601 non-null    object \n",
      " 2   Married            611 non-null    object \n",
      " 3   Dependents         599 non-null    object \n",
      " 4   Education          614 non-null    object \n",
      " 5   Self_Employed      582 non-null    object \n",
      " 6   ApplicantIncome    614 non-null    int64  \n",
      " 7   CoapplicantIncome  614 non-null    float64\n",
      " 8   LoanAmount         592 non-null    float64\n",
      " 9   Loan_Amount_Term   600 non-null    float64\n",
      " 10  Credit_History     564 non-null    float64\n",
      " 11  Property_Area      614 non-null    object \n",
      " 12  Loan_Status        614 non-null    object \n",
      "dtypes: float64(4), int64(1), object(8)\n",
      "memory usage: 62.5+ KB\n"
     ]
    }
   ],
   "source": [
    "train.info() "
   ]
  },
  {
   "cell_type": "markdown",
   "id": "95f1245a",
   "metadata": {
    "papermill": {
     "duration": 0.017583,
     "end_time": "2022-09-13T10:51:49.440605",
     "exception": false,
     "start_time": "2022-09-13T10:51:49.423022",
     "status": "completed"
    },
    "tags": []
   },
   "source": [
    "### Viewing no of null data in each feature of the train dataset"
   ]
  },
  {
   "cell_type": "code",
   "execution_count": 13,
   "id": "c212064d",
   "metadata": {
    "execution": {
     "iopub.execute_input": "2022-09-13T10:51:49.478334Z",
     "iopub.status.busy": "2022-09-13T10:51:49.477720Z",
     "iopub.status.idle": "2022-09-13T10:51:49.486838Z",
     "shell.execute_reply": "2022-09-13T10:51:49.486175Z"
    },
    "papermill": {
     "duration": 0.030351,
     "end_time": "2022-09-13T10:51:49.489156",
     "exception": false,
     "start_time": "2022-09-13T10:51:49.458805",
     "status": "completed"
    },
    "scrolled": true,
    "tags": []
   },
   "outputs": [
    {
     "data": {
      "text/plain": [
       "Loan_ID               0\n",
       "Gender               13\n",
       "Married               3\n",
       "Dependents           15\n",
       "Education             0\n",
       "Self_Employed        32\n",
       "ApplicantIncome       0\n",
       "CoapplicantIncome     0\n",
       "LoanAmount           22\n",
       "Loan_Amount_Term     14\n",
       "Credit_History       50\n",
       "Property_Area         0\n",
       "Loan_Status           0\n",
       "dtype: int64"
      ]
     },
     "execution_count": 13,
     "metadata": {},
     "output_type": "execute_result"
    }
   ],
   "source": [
    "train.isnull().sum()"
   ]
  },
  {
   "cell_type": "markdown",
   "id": "60a93b10",
   "metadata": {
    "papermill": {
     "duration": 0.0183,
     "end_time": "2022-09-13T10:51:49.526011",
     "exception": false,
     "start_time": "2022-09-13T10:51:49.507711",
     "status": "completed"
    },
    "tags": []
   },
   "source": [
    "### Viewing the test dataset"
   ]
  },
  {
   "cell_type": "code",
   "execution_count": 14,
   "id": "7be42f3d",
   "metadata": {
    "execution": {
     "iopub.execute_input": "2022-09-13T10:51:49.567984Z",
     "iopub.status.busy": "2022-09-13T10:51:49.566578Z",
     "iopub.status.idle": "2022-09-13T10:51:49.581683Z",
     "shell.execute_reply": "2022-09-13T10:51:49.580605Z"
    },
    "papermill": {
     "duration": 0.037989,
     "end_time": "2022-09-13T10:51:49.583409",
     "exception": false,
     "start_time": "2022-09-13T10:51:49.545420",
     "status": "completed"
    },
    "tags": []
   },
   "outputs": [
    {
     "data": {
      "text/html": [
       "<div>\n",
       "<style scoped>\n",
       "    .dataframe tbody tr th:only-of-type {\n",
       "        vertical-align: middle;\n",
       "    }\n",
       "\n",
       "    .dataframe tbody tr th {\n",
       "        vertical-align: top;\n",
       "    }\n",
       "\n",
       "    .dataframe thead th {\n",
       "        text-align: right;\n",
       "    }\n",
       "</style>\n",
       "<table border=\"1\" class=\"dataframe\">\n",
       "  <thead>\n",
       "    <tr style=\"text-align: right;\">\n",
       "      <th></th>\n",
       "      <th>Loan_ID</th>\n",
       "      <th>Gender</th>\n",
       "      <th>Married</th>\n",
       "      <th>Dependents</th>\n",
       "      <th>Education</th>\n",
       "      <th>Self_Employed</th>\n",
       "      <th>ApplicantIncome</th>\n",
       "      <th>CoapplicantIncome</th>\n",
       "      <th>LoanAmount</th>\n",
       "      <th>Loan_Amount_Term</th>\n",
       "      <th>Credit_History</th>\n",
       "      <th>Property_Area</th>\n",
       "    </tr>\n",
       "  </thead>\n",
       "  <tbody>\n",
       "    <tr>\n",
       "      <th>0</th>\n",
       "      <td>LP001015</td>\n",
       "      <td>Male</td>\n",
       "      <td>Yes</td>\n",
       "      <td>0</td>\n",
       "      <td>Graduate</td>\n",
       "      <td>No</td>\n",
       "      <td>5720</td>\n",
       "      <td>0</td>\n",
       "      <td>110.0</td>\n",
       "      <td>360.0</td>\n",
       "      <td>1.0</td>\n",
       "      <td>Urban</td>\n",
       "    </tr>\n",
       "    <tr>\n",
       "      <th>1</th>\n",
       "      <td>LP001022</td>\n",
       "      <td>Male</td>\n",
       "      <td>Yes</td>\n",
       "      <td>1</td>\n",
       "      <td>Graduate</td>\n",
       "      <td>No</td>\n",
       "      <td>3076</td>\n",
       "      <td>1500</td>\n",
       "      <td>126.0</td>\n",
       "      <td>360.0</td>\n",
       "      <td>1.0</td>\n",
       "      <td>Urban</td>\n",
       "    </tr>\n",
       "    <tr>\n",
       "      <th>2</th>\n",
       "      <td>LP001031</td>\n",
       "      <td>Male</td>\n",
       "      <td>Yes</td>\n",
       "      <td>2</td>\n",
       "      <td>Graduate</td>\n",
       "      <td>No</td>\n",
       "      <td>5000</td>\n",
       "      <td>1800</td>\n",
       "      <td>208.0</td>\n",
       "      <td>360.0</td>\n",
       "      <td>1.0</td>\n",
       "      <td>Urban</td>\n",
       "    </tr>\n",
       "    <tr>\n",
       "      <th>3</th>\n",
       "      <td>LP001035</td>\n",
       "      <td>Male</td>\n",
       "      <td>Yes</td>\n",
       "      <td>2</td>\n",
       "      <td>Graduate</td>\n",
       "      <td>No</td>\n",
       "      <td>2340</td>\n",
       "      <td>2546</td>\n",
       "      <td>100.0</td>\n",
       "      <td>360.0</td>\n",
       "      <td>NaN</td>\n",
       "      <td>Urban</td>\n",
       "    </tr>\n",
       "    <tr>\n",
       "      <th>4</th>\n",
       "      <td>LP001051</td>\n",
       "      <td>Male</td>\n",
       "      <td>No</td>\n",
       "      <td>0</td>\n",
       "      <td>Not Graduate</td>\n",
       "      <td>No</td>\n",
       "      <td>3276</td>\n",
       "      <td>0</td>\n",
       "      <td>78.0</td>\n",
       "      <td>360.0</td>\n",
       "      <td>1.0</td>\n",
       "      <td>Urban</td>\n",
       "    </tr>\n",
       "  </tbody>\n",
       "</table>\n",
       "</div>"
      ],
      "text/plain": [
       "    Loan_ID Gender Married Dependents     Education Self_Employed  \\\n",
       "0  LP001015   Male     Yes          0      Graduate            No   \n",
       "1  LP001022   Male     Yes          1      Graduate            No   \n",
       "2  LP001031   Male     Yes          2      Graduate            No   \n",
       "3  LP001035   Male     Yes          2      Graduate            No   \n",
       "4  LP001051   Male      No          0  Not Graduate            No   \n",
       "\n",
       "   ApplicantIncome  CoapplicantIncome  LoanAmount  Loan_Amount_Term  \\\n",
       "0             5720                  0       110.0             360.0   \n",
       "1             3076               1500       126.0             360.0   \n",
       "2             5000               1800       208.0             360.0   \n",
       "3             2340               2546       100.0             360.0   \n",
       "4             3276                  0        78.0             360.0   \n",
       "\n",
       "   Credit_History Property_Area  \n",
       "0             1.0         Urban  \n",
       "1             1.0         Urban  \n",
       "2             1.0         Urban  \n",
       "3             NaN         Urban  \n",
       "4             1.0         Urban  "
      ]
     },
     "execution_count": 14,
     "metadata": {},
     "output_type": "execute_result"
    }
   ],
   "source": [
    "test.head()"
   ]
  },
  {
   "cell_type": "code",
   "execution_count": 15,
   "id": "c0855a6a",
   "metadata": {
    "execution": {
     "iopub.execute_input": "2022-09-13T10:51:49.623145Z",
     "iopub.status.busy": "2022-09-13T10:51:49.622580Z",
     "iopub.status.idle": "2022-09-13T10:51:49.632659Z",
     "shell.execute_reply": "2022-09-13T10:51:49.631994Z"
    },
    "papermill": {
     "duration": 0.032261,
     "end_time": "2022-09-13T10:51:49.634455",
     "exception": false,
     "start_time": "2022-09-13T10:51:49.602194",
     "status": "completed"
    },
    "tags": []
   },
   "outputs": [
    {
     "name": "stdout",
     "output_type": "stream",
     "text": [
      "<class 'pandas.core.frame.DataFrame'>\n",
      "RangeIndex: 367 entries, 0 to 366\n",
      "Data columns (total 12 columns):\n",
      " #   Column             Non-Null Count  Dtype  \n",
      "---  ------             --------------  -----  \n",
      " 0   Loan_ID            367 non-null    object \n",
      " 1   Gender             356 non-null    object \n",
      " 2   Married            367 non-null    object \n",
      " 3   Dependents         357 non-null    object \n",
      " 4   Education          367 non-null    object \n",
      " 5   Self_Employed      344 non-null    object \n",
      " 6   ApplicantIncome    367 non-null    int64  \n",
      " 7   CoapplicantIncome  367 non-null    int64  \n",
      " 8   LoanAmount         362 non-null    float64\n",
      " 9   Loan_Amount_Term   361 non-null    float64\n",
      " 10  Credit_History     338 non-null    float64\n",
      " 11  Property_Area      367 non-null    object \n",
      "dtypes: float64(3), int64(2), object(7)\n",
      "memory usage: 34.5+ KB\n"
     ]
    }
   ],
   "source": [
    "test.info()"
   ]
  },
  {
   "cell_type": "markdown",
   "id": "2655840c",
   "metadata": {
    "papermill": {
     "duration": 0.019079,
     "end_time": "2022-09-13T10:51:49.672372",
     "exception": false,
     "start_time": "2022-09-13T10:51:49.653293",
     "status": "completed"
    },
    "tags": []
   },
   "source": [
    "### Viewing no of null data in each feature of the test dataset"
   ]
  },
  {
   "cell_type": "code",
   "execution_count": 16,
   "id": "8423cfa4",
   "metadata": {
    "execution": {
     "iopub.execute_input": "2022-09-13T10:51:49.711361Z",
     "iopub.status.busy": "2022-09-13T10:51:49.710772Z",
     "iopub.status.idle": "2022-09-13T10:51:49.718397Z",
     "shell.execute_reply": "2022-09-13T10:51:49.717254Z"
    },
    "papermill": {
     "duration": 0.029608,
     "end_time": "2022-09-13T10:51:49.720507",
     "exception": false,
     "start_time": "2022-09-13T10:51:49.690899",
     "status": "completed"
    },
    "tags": []
   },
   "outputs": [
    {
     "data": {
      "text/plain": [
       "Loan_ID               0\n",
       "Gender               11\n",
       "Married               0\n",
       "Dependents           10\n",
       "Education             0\n",
       "Self_Employed        23\n",
       "ApplicantIncome       0\n",
       "CoapplicantIncome     0\n",
       "LoanAmount            5\n",
       "Loan_Amount_Term      6\n",
       "Credit_History       29\n",
       "Property_Area         0\n",
       "dtype: int64"
      ]
     },
     "execution_count": 16,
     "metadata": {},
     "output_type": "execute_result"
    }
   ],
   "source": [
    "test.isnull().sum()"
   ]
  },
  {
   "cell_type": "markdown",
   "id": "60ee5416",
   "metadata": {
    "papermill": {
     "duration": 0.019019,
     "end_time": "2022-09-13T10:51:49.759058",
     "exception": false,
     "start_time": "2022-09-13T10:51:49.740039",
     "status": "completed"
    },
    "tags": []
   },
   "source": [
    "### Counting frequency of categories for each categorical features"
   ]
  },
  {
   "cell_type": "code",
   "execution_count": 17,
   "id": "0fd34fbd",
   "metadata": {
    "execution": {
     "iopub.execute_input": "2022-09-13T10:51:49.799208Z",
     "iopub.status.busy": "2022-09-13T10:51:49.798618Z",
     "iopub.status.idle": "2022-09-13T10:51:49.811463Z",
     "shell.execute_reply": "2022-09-13T10:51:49.809433Z"
    },
    "papermill": {
     "duration": 0.035299,
     "end_time": "2022-09-13T10:51:49.813686",
     "exception": false,
     "start_time": "2022-09-13T10:51:49.778387",
     "status": "completed"
    },
    "tags": []
   },
   "outputs": [
    {
     "name": "stdout",
     "output_type": "stream",
     "text": [
      "\n",
      "Frequency of Categories for variable Gender\n",
      "Male      489\n",
      "Female    112\n",
      "Name: Gender, dtype: int64\n",
      "\n",
      "Frequency of Categories for variable Married\n",
      "Yes    398\n",
      "No     213\n",
      "Name: Married, dtype: int64\n",
      "\n",
      "Frequency of Categories for variable Dependents\n",
      "0     345\n",
      "1     102\n",
      "2     101\n",
      "3+     51\n",
      "Name: Dependents, dtype: int64\n",
      "\n",
      "Frequency of Categories for variable Education\n",
      "Graduate        480\n",
      "Not Graduate    134\n",
      "Name: Education, dtype: int64\n",
      "\n",
      "Frequency of Categories for variable Self_Employed\n",
      "No     500\n",
      "Yes     82\n",
      "Name: Self_Employed, dtype: int64\n",
      "\n",
      "Frequency of Categories for variable Property_Area\n",
      "Semiurban    233\n",
      "Urban        202\n",
      "Rural        179\n",
      "Name: Property_Area, dtype: int64\n"
     ]
    }
   ],
   "source": [
    "data = [train,test]\n",
    "for dataset in data:\n",
    "    #Filter categorical variables\n",
    "    categorical_columns = [x for x in dataset.dtypes.index if dataset.dtypes[x]=='object']\n",
    "    # Exclude ID cols and source:\n",
    "    categorical_columns = [x for x in categorical_columns if x not in ['Loan_ID' ]]\n",
    "    #Print frequency of categories\n",
    "    \n",
    "for col in categorical_columns:\n",
    "    print ('\\nFrequency of Categories for variable %s'%col)\n",
    "    print (train[col].value_counts())"
   ]
  },
  {
   "cell_type": "code",
   "execution_count": 18,
   "id": "66538891",
   "metadata": {},
   "outputs": [
    {
     "data": {
      "text/plain": [
       "Loan_ID               object\n",
       "Gender                object\n",
       "Married               object\n",
       "Dependents            object\n",
       "Education             object\n",
       "Self_Employed         object\n",
       "ApplicantIncome        int64\n",
       "CoapplicantIncome    float64\n",
       "LoanAmount           float64\n",
       "Loan_Amount_Term     float64\n",
       "Credit_History       float64\n",
       "Property_Area         object\n",
       "Loan_Status           object\n",
       "dtype: object"
      ]
     },
     "execution_count": 18,
     "metadata": {},
     "output_type": "execute_result"
    }
   ],
   "source": [
    "train.dtypes"
   ]
  },
  {
   "cell_type": "code",
   "execution_count": 19,
   "id": "b1efe288",
   "metadata": {},
   "outputs": [
    {
     "name": "stdout",
     "output_type": "stream",
     "text": [
      "Categorical Features in Train Set: 8\n",
      "Numerical Features in Train Set: 5\n"
     ]
    }
   ],
   "source": [
    "categorical = train.select_dtypes(include =[np.object])\n",
    "print(\"Categorical Features in Train Set:\",categorical.shape[1])\n",
    "\n",
    "numerical= train.select_dtypes(include =[np.float64,np.int64])\n",
    "print(\"Numerical Features in Train Set:\",numerical.shape[1])"
   ]
  },
  {
   "cell_type": "code",
   "execution_count": 21,
   "id": "20a33e9e",
   "metadata": {},
   "outputs": [
    {
     "data": {
      "text/plain": [
       "Loan_ID               object\n",
       "Gender                object\n",
       "Married               object\n",
       "Dependents            object\n",
       "Education             object\n",
       "Self_Employed         object\n",
       "ApplicantIncome        int64\n",
       "CoapplicantIncome      int64\n",
       "LoanAmount           float64\n",
       "Loan_Amount_Term     float64\n",
       "Credit_History       float64\n",
       "Property_Area         object\n",
       "Loan_Status           object\n",
       "dtype: object"
      ]
     },
     "execution_count": 21,
     "metadata": {},
     "output_type": "execute_result"
    }
   ],
   "source": [
    "train.dtypes\n"
   ]
  },
  {
   "cell_type": "markdown",
   "id": "322b5865",
   "metadata": {},
   "source": [
    "# Visually analysing object data type"
   ]
  },
  {
   "cell_type": "code",
   "execution_count": 22,
   "id": "8004b01f",
   "metadata": {},
   "outputs": [
    {
     "data": {
      "image/png": "[encoded data removed]",
      "text/plain": [
       "<Figure size 1800x432 with 12 Axes>"
      ]
     },
     "metadata": {
      "needs_background": "light"
     },
     "output_type": "display_data"
    }
   ],
   "source": [
    "fig, axs = plt.subplots(figsize=(25,6),ncols=6,nrows=2)\n",
    "sns.countplot(x=train['Loan_Status'],ax=axs[0,0])\n",
    "sns.countplot(x=train['Gender'],hue=train['Loan_Status'],ax=axs[0,1])\n",
    "sns.countplot(x=train['Married'],hue=train['Loan_Status'],ax=axs[0,2])\n",
    "sns.countplot(x=train['Dependents'],hue=train['Loan_Status'],ax=axs[0,3])\n",
    "sns.countplot(x=train['Education'],hue=train['Loan_Status'],ax=axs[0,4])\n",
    "sns.countplot(x=train['Self_Employed'],hue=train['Loan_Status'],ax=axs[0,5])\n",
    "sns.countplot(x=train['Credit_History'],hue=train['Loan_Status'],ax=axs[1,0])\n",
    "sns.countplot(x=train['Property_Area'],hue=train['Loan_Status'],ax=axs[1,1])\n",
    "sns.countplot(x=train['Gender'],hue=train['Dependents'],ax=axs[1,2])\n",
    "sns.countplot(x=train['Loan_Amount_Term'],hue=train['Loan_Status'],ax=axs[1,3])\n",
    "sns.countplot(x=train['Married'],hue=train['Dependents'],ax=axs[1,4])\n",
    "sns.countplot(x=train['Education'],hue=train['Self_Employed'],ax=axs[1,5])\n",
    "plt.show()"
   ]
  },
  {
   "cell_type": "markdown",
   "id": "4b7cdd40",
   "metadata": {},
   "source": [
    "1.  Loan_Status is our target variable which seems to be imbalanced as its in 1:3 ratio which needs to be worked on for our model to make accurate predictions\n",
    "2. Males are more likely to be eligible for loans compared to female\n",
    "3. Married are more likely to be eligible for loans compared to non married\n",
    "4. People with less dependents are eligible for loans \n",
    "5. Graduates are eligible for loan compared to non graduate\n",
    "6. Non Selfemployed are eligible for loan compared to selfemployed\n",
    "7. Poeple with good credit score are more likely to be eligible for loan compared to low credit scored\n",
    "8. Semiurban and Urban people have are eligible for loan compared to rural population\n",
    "9. Male have more dependents compared to female\n",
    "10. Mostly people opt for 360 months term loan\n",
    "11. Married people have more dependents compared to female\n",
    "12. Graduates are selfemployed compared to non graduates"
   ]
  },
  {
   "cell_type": "markdown",
   "id": "42cb6b6b",
   "metadata": {},
   "source": [
    "# Visually analysing numeric data type"
   ]
  },
  {
   "cell_type": "code",
   "execution_count": 23,
   "id": "68f88e7f",
   "metadata": {},
   "outputs": [
    {
     "data": {
      "image/png": "[encoded data removed]",
      "text/plain": [
       "<Figure size 1440x216 with 5 Axes>"
      ]
     },
     "metadata": {
      "needs_background": "light"
     },
     "output_type": "display_data"
    }
   ],
   "source": [
    "fig,axs=plt.subplots(figsize=(20,3),ncols=5)\n",
    "sns.kdeplot(x=train['ApplicantIncome'],hue=train['Loan_Status'],fill=True,ax=axs[0])\n",
    "sns.kdeplot(x=train['CoapplicantIncome'],hue=train['Loan_Status'],fill=True,ax=axs[1])\n",
    "sns.kdeplot(x=train['LoanAmount'],hue=train['Loan_Status'],fill=True,ax=axs[2])\n",
    "sns.kdeplot(x=train['Loan_Amount_Term'],hue=train['Loan_Status'],fill=True,ax=axs[3])\n",
    "sns.kdeplot(x=train['ApplicantIncome'],hue=train['Gender'],fill=True,ax=axs[4])\n",
    "plt.show()"
   ]
  },
  {
   "cell_type": "markdown",
   "id": "cb3ba50e",
   "metadata": {},
   "source": [
    "1. There is high positive skewness in Applicant income and coapplicant income\n",
    "2. There is negative skewness in loan_Amount_term\n",
    "3. Income range between 0:20k are eligible for loan"
   ]
  },
  {
   "cell_type": "code",
   "execution_count": 24,
   "id": "0b657b09",
   "metadata": {},
   "outputs": [
    {
     "data": {
      "text/plain": [
       "<seaborn.axisgrid.PairGrid at 0x1a7200f3070>"
      ]
     },
     "execution_count": 24,
     "metadata": {},
     "output_type": "execute_result"
    },
    {
     "data": {
      "image/png": "[encoded data removed]",
      "text/plain": [
       "<Figure size 968.625x900 with 30 Axes>"
      ]
     },
     "metadata": {
      "needs_background": "light"
     },
     "output_type": "display_data"
    }
   ],
   "source": [
    "sns.pairplot(train,hue='Loan_Status')"
   ]
  },
  {
   "cell_type": "markdown",
   "id": "da140eae",
   "metadata": {
    "papermill": {
     "duration": 0.01893,
     "end_time": "2022-09-13T10:51:49.852310",
     "exception": false,
     "start_time": "2022-09-13T10:51:49.833380",
     "status": "completed"
    },
    "tags": []
   },
   "source": [
    "#### Plotting No. of Males vs No. of Females"
   ]
  },
  {
   "cell_type": "code",
   "execution_count": 25,
   "id": "9b596a6a",
   "metadata": {
    "execution": {
     "iopub.execute_input": "2022-09-13T10:51:49.893080Z",
     "iopub.status.busy": "2022-09-13T10:51:49.892547Z",
     "iopub.status.idle": "2022-09-13T10:51:50.029607Z",
     "shell.execute_reply": "2022-09-13T10:51:50.028738Z"
    },
    "papermill": {
     "duration": 0.159722,
     "end_time": "2022-09-13T10:51:50.031360",
     "exception": false,
     "start_time": "2022-09-13T10:51:49.871638",
     "status": "completed"
    },
    "tags": []
   },
   "outputs": [
    {
     "data": {
      "text/plain": [
       "<AxesSubplot: xlabel='Gender', ylabel='count'>"
      ]
     },
     "execution_count": 25,
     "metadata": {},
     "output_type": "execute_result"
    },
    {
     "data": {
      "image/png": "[encoded data removed]",
      "text/plain": [
       "<Figure size 432x288 with 1 Axes>"
      ]
     },
     "metadata": {
      "needs_background": "light"
     },
     "output_type": "display_data"
    }
   ],
   "source": [
    "sns.countplot(train['Gender'])"
   ]
  },
  {
   "cell_type": "markdown",
   "id": "423a0016",
   "metadata": {
    "papermill": {
     "duration": 0.019741,
     "end_time": "2022-09-13T10:51:50.071587",
     "exception": false,
     "start_time": "2022-09-13T10:51:50.051846",
     "status": "completed"
    },
    "tags": []
   },
   "source": [
    "#### Approval of loans between Males & Females"
   ]
  },
  {
   "cell_type": "markdown",
   "id": "f375388b",
   "metadata": {
    "papermill": {
     "duration": 0.019499,
     "end_time": "2022-09-13T10:51:50.198814",
     "exception": false,
     "start_time": "2022-09-13T10:51:50.179315",
     "status": "completed"
    },
    "tags": []
   },
   "source": [
    "> The male are in large number as compared to female applicants."
   ]
  },
  {
   "cell_type": "markdown",
   "id": "2004f714",
   "metadata": {
    "papermill": {
     "duration": 0.019611,
     "end_time": "2022-09-13T10:51:50.238061",
     "exception": false,
     "start_time": "2022-09-13T10:51:50.218450",
     "status": "completed"
    },
    "tags": []
   },
   "source": [
    "### Filling up NAN values of Gender and Converting categorial variables(Male,Female) to numerical variables(0,1)"
   ]
  },
  {
   "cell_type": "code",
   "execution_count": 34,
   "id": "21e088e1",
   "metadata": {
    "execution": {
     "iopub.execute_input": "2022-09-13T10:51:50.279654Z",
     "iopub.status.busy": "2022-09-13T10:51:50.279050Z",
     "iopub.status.idle": "2022-09-13T10:51:50.290836Z",
     "shell.execute_reply": "2022-09-13T10:51:50.289478Z"
    },
    "papermill": {
     "duration": 0.035754,
     "end_time": "2022-09-13T10:51:50.293413",
     "exception": false,
     "start_time": "2022-09-13T10:51:50.257659",
     "status": "completed"
    },
    "tags": []
   },
   "outputs": [
    {
     "ename": "AttributeError",
     "evalue": "'DataFrame' object has no attribute 'Gender'",
     "output_type": "error",
     "traceback": [
      "\u001b[1;31m---------------------------------------------------------------------------\u001b[0m",
      "\u001b[1;31mAttributeError\u001b[0m                            Traceback (most recent call last)",
      "\u001b[1;32m~\\AppData\\Local\\Temp/ipykernel_2484/3767089531.py\u001b[0m in \u001b[0;36m<module>\u001b[1;34m\u001b[0m\n\u001b[1;32m----> 1\u001b[1;33m \u001b[0mtrain\u001b[0m\u001b[1;33m.\u001b[0m\u001b[0mGender\u001b[0m \u001b[1;33m=\u001b[0m \u001b[0mtrain\u001b[0m\u001b[1;33m.\u001b[0m\u001b[0mGender\u001b[0m\u001b[1;33m.\u001b[0m\u001b[0mfillna\u001b[0m\u001b[1;33m(\u001b[0m\u001b[0mtrain\u001b[0m\u001b[1;33m.\u001b[0m\u001b[0mGender\u001b[0m\u001b[1;33m.\u001b[0m\u001b[0mmode\u001b[0m\u001b[1;33m(\u001b[0m\u001b[1;33m)\u001b[0m\u001b[1;33m)\u001b[0m\u001b[1;33m\u001b[0m\u001b[1;33m\u001b[0m\u001b[0m\n\u001b[0m\u001b[0;32m      2\u001b[0m \u001b[0mtest\u001b[0m\u001b[1;33m.\u001b[0m\u001b[0mGender\u001b[0m \u001b[1;33m=\u001b[0m \u001b[0mtest\u001b[0m\u001b[1;33m.\u001b[0m\u001b[0mGender\u001b[0m\u001b[1;33m.\u001b[0m\u001b[0mfillna\u001b[0m\u001b[1;33m(\u001b[0m\u001b[0mtest\u001b[0m\u001b[1;33m.\u001b[0m\u001b[0mGender\u001b[0m\u001b[1;33m.\u001b[0m\u001b[0mmode\u001b[0m\u001b[1;33m(\u001b[0m\u001b[1;33m)\u001b[0m\u001b[1;33m)\u001b[0m\u001b[1;33m\u001b[0m\u001b[1;33m\u001b[0m\u001b[0m\n\u001b[0;32m      3\u001b[0m \u001b[1;33m\u001b[0m\u001b[0m\n\u001b[0;32m      4\u001b[0m \u001b[0msex\u001b[0m \u001b[1;33m=\u001b[0m \u001b[0mpd\u001b[0m\u001b[1;33m.\u001b[0m\u001b[0mget_dummies\u001b[0m\u001b[1;33m(\u001b[0m\u001b[0mtrain\u001b[0m\u001b[1;33m[\u001b[0m\u001b[1;34m'Gender'\u001b[0m\u001b[1;33m]\u001b[0m \u001b[1;33m,\u001b[0m \u001b[0mdrop_first\u001b[0m \u001b[1;33m=\u001b[0m \u001b[1;32mTrue\u001b[0m \u001b[1;33m)\u001b[0m\u001b[1;33m\u001b[0m\u001b[1;33m\u001b[0m\u001b[0m\n\u001b[0;32m      5\u001b[0m \u001b[0mtrain\u001b[0m\u001b[1;33m.\u001b[0m\u001b[0mdrop\u001b[0m\u001b[1;33m(\u001b[0m\u001b[1;33m[\u001b[0m\u001b[1;34m'Gender'\u001b[0m\u001b[1;33m]\u001b[0m\u001b[1;33m,\u001b[0m \u001b[0maxis\u001b[0m \u001b[1;33m=\u001b[0m \u001b[1;36m1\u001b[0m \u001b[1;33m,\u001b[0m \u001b[0minplace\u001b[0m \u001b[1;33m=\u001b[0m\u001b[1;32mTrue\u001b[0m\u001b[1;33m)\u001b[0m\u001b[1;33m\u001b[0m\u001b[1;33m\u001b[0m\u001b[0m\n",
      "\u001b[1;32mC:\\ProgramData\\Anaconda3\\lib\\site-packages\\pandas\\core\\generic.py\u001b[0m in \u001b[0;36m__getattr__\u001b[1;34m(self, name)\u001b[0m\n\u001b[0;32m   5485\u001b[0m         ):\n\u001b[0;32m   5486\u001b[0m             \u001b[1;32mreturn\u001b[0m \u001b[0mself\u001b[0m\u001b[1;33m[\u001b[0m\u001b[0mname\u001b[0m\u001b[1;33m]\u001b[0m\u001b[1;33m\u001b[0m\u001b[1;33m\u001b[0m\u001b[0m\n\u001b[1;32m-> 5487\u001b[1;33m         \u001b[1;32mreturn\u001b[0m \u001b[0mobject\u001b[0m\u001b[1;33m.\u001b[0m\u001b[0m__getattribute__\u001b[0m\u001b[1;33m(\u001b[0m\u001b[0mself\u001b[0m\u001b[1;33m,\u001b[0m \u001b[0mname\u001b[0m\u001b[1;33m)\u001b[0m\u001b[1;33m\u001b[0m\u001b[1;33m\u001b[0m\u001b[0m\n\u001b[0m\u001b[0;32m   5488\u001b[0m \u001b[1;33m\u001b[0m\u001b[0m\n\u001b[0;32m   5489\u001b[0m     \u001b[1;32mdef\u001b[0m \u001b[0m__setattr__\u001b[0m\u001b[1;33m(\u001b[0m\u001b[0mself\u001b[0m\u001b[1;33m,\u001b[0m \u001b[0mname\u001b[0m\u001b[1;33m:\u001b[0m \u001b[0mstr\u001b[0m\u001b[1;33m,\u001b[0m \u001b[0mvalue\u001b[0m\u001b[1;33m)\u001b[0m \u001b[1;33m->\u001b[0m \u001b[1;32mNone\u001b[0m\u001b[1;33m:\u001b[0m\u001b[1;33m\u001b[0m\u001b[1;33m\u001b[0m\u001b[0m\n",
      "\u001b[1;31mAttributeError\u001b[0m: 'DataFrame' object has no attribute 'Gender'"
     ]
    }
   ],
   "source": [
    "train.Gender = train.Gender.fillna(train.Gender.mode())\n",
    "test.Gender = test.Gender.fillna(test.Gender.mode())\n",
    "\n",
    "sex = pd.get_dummies(train['Gender'] , drop_first = True )\n",
    "train.drop(['Gender'], axis = 1 , inplace =True)\n",
    "train = pd.concat([train , sex ] , axis = 1)\n",
    "\n",
    "sex = pd.get_dummies(test['Gender'] , drop_first = True )\n",
    "test.drop(['Gender'], axis = 1 , inplace =True)\n",
    "test = pd.concat([test , sex ] , axis = 1)"
   ]
  },
  {
   "cell_type": "markdown",
   "id": "0faeb068",
   "metadata": {
    "papermill": {
     "duration": 0.019807,
     "end_time": "2022-09-13T10:51:50.333584",
     "exception": false,
     "start_time": "2022-09-13T10:51:50.313777",
     "status": "completed"
    },
    "tags": []
   },
   "source": [
    "### Plotting No. of Dependants (Size of family) in each household"
   ]
  },
  {
   "cell_type": "code",
   "execution_count": 33,
   "id": "576248c4",
   "metadata": {
    "execution": {
     "iopub.execute_input": "2022-09-13T10:51:50.375372Z",
     "iopub.status.busy": "2022-09-13T10:51:50.374814Z",
     "iopub.status.idle": "2022-09-13T10:51:50.490694Z",
     "shell.execute_reply": "2022-09-13T10:51:50.489597Z"
    },
    "papermill": {
     "duration": 0.147017,
     "end_time": "2022-09-13T10:51:50.500716",
     "exception": false,
     "start_time": "2022-09-13T10:51:50.353699",
     "status": "completed"
    },
    "tags": []
   },
   "outputs": [
    {
     "data": {
      "image/png": "[encoded data removed]",
      "text/plain": [
       "<Figure size 432x432 with 1 Axes>"
      ]
     },
     "metadata": {},
     "output_type": "display_data"
    }
   ],
   "source": [
    "plt.figure(figsize=(6,6))\n",
    "labels = ['0' , '1', '2' , '3+']\n",
    "explode = (0.05, 0, 0, 0)\n",
    "size = [345 , 102 , 101 , 51]\n",
    "\n",
    "plt.pie(size, explode=explode, labels=labels,\n",
    "        autopct='%1.1f%%', shadow = True, startangle = 90)\n",
    "plt.axis('equal')\n",
    "plt.show()"
   ]
  },
  {
   "cell_type": "code",
   "execution_count": 29,
   "id": "530009be",
   "metadata": {
    "execution": {
     "iopub.execute_input": "2022-09-13T10:51:50.564462Z",
     "iopub.status.busy": "2022-09-13T10:51:50.564022Z",
     "iopub.status.idle": "2022-09-13T10:51:50.574026Z",
     "shell.execute_reply": "2022-09-13T10:51:50.573036Z"
    },
    "papermill": {
     "duration": 0.042977,
     "end_time": "2022-09-13T10:51:50.576175",
     "exception": false,
     "start_time": "2022-09-13T10:51:50.533198",
     "status": "completed"
    },
    "tags": []
   },
   "outputs": [
    {
     "data": {
      "text/plain": [
       "0     345\n",
       "1     102\n",
       "2     101\n",
       "3+     51\n",
       "Name: Dependents, dtype: int64"
      ]
     },
     "execution_count": 29,
     "metadata": {},
     "output_type": "execute_result"
    }
   ],
   "source": [
    "train.Dependents.value_counts()"
   ]
  },
  {
   "cell_type": "markdown",
   "id": "a76544c1",
   "metadata": {
    "papermill": {
     "duration": 0.021924,
     "end_time": "2022-09-13T10:51:50.622169",
     "exception": false,
     "start_time": "2022-09-13T10:51:50.600245",
     "status": "completed"
    },
    "tags": []
   },
   "source": [
    "### Approval of loans between different sizes of families"
   ]
  },
  {
   "cell_type": "code",
   "execution_count": null,
   "id": "b7943d35",
   "metadata": {
    "execution": {
     "iopub.execute_input": "2022-09-13T10:51:50.665942Z",
     "iopub.status.busy": "2022-09-13T10:51:50.665266Z",
     "iopub.status.idle": "2022-09-13T10:51:50.696533Z",
     "shell.execute_reply": "2022-09-13T10:51:50.695379Z"
    },
    "papermill": {
     "duration": 0.054802,
     "end_time": "2022-09-13T10:51:50.698291",
     "exception": false,
     "start_time": "2022-09-13T10:51:50.643489",
     "status": "completed"
    },
    "tags": []
   },
   "outputs": [],
   "source": [
    "pd.crosstab(train.Dependents , train.Loan_Status, margins = True)"
   ]
  },
  {
   "cell_type": "markdown",
   "id": "21801e39",
   "metadata": {
    "papermill": {
     "duration": 0.019699,
     "end_time": "2022-09-13T10:51:50.738208",
     "exception": false,
     "start_time": "2022-09-13T10:51:50.718509",
     "status": "completed"
    },
    "tags": []
   },
   "source": [
    "> The applicants with highest number of dependants are least in number whereas applicants with no dependance are greatest among these."
   ]
  },
  {
   "cell_type": "markdown",
   "id": "99c644e4",
   "metadata": {
    "papermill": {
     "duration": 0.019527,
     "end_time": "2022-09-13T10:51:50.777775",
     "exception": false,
     "start_time": "2022-09-13T10:51:50.758248",
     "status": "completed"
    },
    "tags": []
   },
   "source": [
    "### Filling up NAN values of Dependents and Converting categorial variables(1,2,3+) to numerical variables(1,2,3)"
   ]
  },
  {
   "cell_type": "code",
   "execution_count": null,
   "id": "636dd928",
   "metadata": {
    "execution": {
     "iopub.execute_input": "2022-09-13T10:51:50.819466Z",
     "iopub.status.busy": "2022-09-13T10:51:50.819017Z",
     "iopub.status.idle": "2022-09-13T10:51:50.828857Z",
     "shell.execute_reply": "2022-09-13T10:51:50.827776Z"
    },
    "papermill": {
     "duration": 0.033571,
     "end_time": "2022-09-13T10:51:50.831244",
     "exception": false,
     "start_time": "2022-09-13T10:51:50.797673",
     "status": "completed"
    },
    "tags": []
   },
   "outputs": [],
   "source": [
    "train.Dependents = train.Dependents.fillna(\"0\")\n",
    "test.Dependents = test.Dependents.fillna(\"0\")\n",
    "\n",
    "rpl = {'0':'0', '1':'1', '2':'2', '3+':'3'}\n",
    "\n",
    "train.Dependents = train.Dependents.replace(rpl).astype(int)\n",
    "test.Dependents = test.Dependents.replace(rpl).astype(int)"
   ]
  },
  {
   "cell_type": "markdown",
   "id": "8e012697",
   "metadata": {
    "papermill": {
     "duration": 0.020987,
     "end_time": "2022-09-13T10:51:50.873228",
     "exception": false,
     "start_time": "2022-09-13T10:51:50.852241",
     "status": "completed"
    },
    "tags": []
   },
   "source": [
    "### Plotting No. of people with vs without Credit History"
   ]
  },
  {
   "cell_type": "code",
   "execution_count": null,
   "id": "8a5c13ca",
   "metadata": {
    "execution": {
     "iopub.execute_input": "2022-09-13T10:51:50.916403Z",
     "iopub.status.busy": "2022-09-13T10:51:50.916046Z",
     "iopub.status.idle": "2022-09-13T10:51:51.024139Z",
     "shell.execute_reply": "2022-09-13T10:51:51.023377Z"
    },
    "papermill": {
     "duration": 0.132039,
     "end_time": "2022-09-13T10:51:51.026133",
     "exception": false,
     "start_time": "2022-09-13T10:51:50.894094",
     "status": "completed"
    },
    "tags": []
   },
   "outputs": [],
   "source": [
    "sns.countplot(train['Credit_History'])"
   ]
  },
  {
   "cell_type": "markdown",
   "id": "8cce3a79",
   "metadata": {
    "papermill": {
     "duration": 0.023248,
     "end_time": "2022-09-13T10:51:51.076958",
     "exception": false,
     "start_time": "2022-09-13T10:51:51.053710",
     "status": "completed"
    },
    "tags": []
   },
   "source": [
    "### Approval of loans people those who have Credit History and those who don't"
   ]
  },
  {
   "cell_type": "code",
   "execution_count": null,
   "id": "65239284",
   "metadata": {
    "execution": {
     "iopub.execute_input": "2022-09-13T10:51:51.120039Z",
     "iopub.status.busy": "2022-09-13T10:51:51.119466Z",
     "iopub.status.idle": "2022-09-13T10:51:51.151007Z",
     "shell.execute_reply": "2022-09-13T10:51:51.149674Z"
    },
    "papermill": {
     "duration": 0.055455,
     "end_time": "2022-09-13T10:51:51.153220",
     "exception": false,
     "start_time": "2022-09-13T10:51:51.097765",
     "status": "completed"
    },
    "tags": []
   },
   "outputs": [],
   "source": [
    "pd.crosstab(train.Credit_History , train.Loan_Status, margins = True)"
   ]
  },
  {
   "cell_type": "markdown",
   "id": "21dc0267",
   "metadata": {
    "papermill": {
     "duration": 0.020755,
     "end_time": "2022-09-13T10:51:51.195585",
     "exception": false,
     "start_time": "2022-09-13T10:51:51.174830",
     "status": "completed"
    },
    "tags": []
   },
   "source": [
    "### Filling up NAN values of Credit history by taking the mode"
   ]
  },
  {
   "cell_type": "code",
   "execution_count": null,
   "id": "5c0617bc",
   "metadata": {
    "execution": {
     "iopub.execute_input": "2022-09-13T10:51:51.239882Z",
     "iopub.status.busy": "2022-09-13T10:51:51.239025Z",
     "iopub.status.idle": "2022-09-13T10:51:51.246838Z",
     "shell.execute_reply": "2022-09-13T10:51:51.246159Z"
    },
    "papermill": {
     "duration": 0.032522,
     "end_time": "2022-09-13T10:51:51.249082",
     "exception": false,
     "start_time": "2022-09-13T10:51:51.216560",
     "status": "completed"
    },
    "tags": []
   },
   "outputs": [],
   "source": [
    "train.Credit_History = train.Credit_History.fillna(train.Credit_History.mode()[0])\n",
    "test.Credit_History  = test.Credit_History.fillna(test.Credit_History.mode()[0])"
   ]
  },
  {
   "cell_type": "markdown",
   "id": "b86801d9",
   "metadata": {
    "papermill": {
     "duration": 0.020262,
     "end_time": "2022-09-13T10:51:51.290531",
     "exception": false,
     "start_time": "2022-09-13T10:51:51.270269",
     "status": "completed"
    },
    "tags": []
   },
   "source": [
    "### Plotting No. of people who are Self-employed vs who aren't"
   ]
  },
  {
   "cell_type": "code",
   "execution_count": null,
   "id": "4e2c4218",
   "metadata": {
    "execution": {
     "iopub.execute_input": "2022-09-13T10:51:51.333226Z",
     "iopub.status.busy": "2022-09-13T10:51:51.332748Z",
     "iopub.status.idle": "2022-09-13T10:51:51.448183Z",
     "shell.execute_reply": "2022-09-13T10:51:51.447420Z"
    },
    "papermill": {
     "duration": 0.139213,
     "end_time": "2022-09-13T10:51:51.450159",
     "exception": false,
     "start_time": "2022-09-13T10:51:51.310946",
     "status": "completed"
    },
    "scrolled": true,
    "tags": []
   },
   "outputs": [],
   "source": [
    "sns.countplot(train['Self_Employed'])"
   ]
  },
  {
   "cell_type": "markdown",
   "id": "f0ec1d21",
   "metadata": {
    "papermill": {
     "duration": 0.022225,
     "end_time": "2022-09-13T10:51:51.500436",
     "exception": false,
     "start_time": "2022-09-13T10:51:51.478211",
     "status": "completed"
    },
    "tags": []
   },
   "source": [
    "### Approval of loans between people who are Self-employed & who aren't"
   ]
  },
  {
   "cell_type": "code",
   "execution_count": null,
   "id": "b00dbcb3",
   "metadata": {
    "execution": {
     "iopub.execute_input": "2022-09-13T10:51:51.545690Z",
     "iopub.status.busy": "2022-09-13T10:51:51.544242Z",
     "iopub.status.idle": "2022-09-13T10:51:51.575364Z",
     "shell.execute_reply": "2022-09-13T10:51:51.573707Z"
    },
    "papermill": {
     "duration": 0.056391,
     "end_time": "2022-09-13T10:51:51.577566",
     "exception": false,
     "start_time": "2022-09-13T10:51:51.521175",
     "status": "completed"
    },
    "tags": []
   },
   "outputs": [],
   "source": [
    "pd.crosstab(train.Self_Employed , train.Loan_Status,margins = True)"
   ]
  },
  {
   "cell_type": "markdown",
   "id": "66d84acb",
   "metadata": {
    "papermill": {
     "duration": 0.020512,
     "end_time": "2022-09-13T10:51:51.619084",
     "exception": false,
     "start_time": "2022-09-13T10:51:51.598572",
     "status": "completed"
    },
    "tags": []
   },
   "source": [
    "### Filling NAN values and Converting categorial variables(Yes,No) to numerical variables(1,0)"
   ]
  },
  {
   "cell_type": "code",
   "execution_count": null,
   "id": "eb23f35b",
   "metadata": {
    "execution": {
     "iopub.execute_input": "2022-09-13T10:51:51.663614Z",
     "iopub.status.busy": "2022-09-13T10:51:51.663011Z",
     "iopub.status.idle": "2022-09-13T10:51:51.676440Z",
     "shell.execute_reply": "2022-09-13T10:51:51.675319Z"
    },
    "papermill": {
     "duration": 0.038516,
     "end_time": "2022-09-13T10:51:51.678810",
     "exception": false,
     "start_time": "2022-09-13T10:51:51.640294",
     "status": "completed"
    },
    "tags": []
   },
   "outputs": [],
   "source": [
    "train.Self_Employed = train.Self_Employed.fillna(train.Self_Employed.mode())\n",
    "test.Self_Employed = test.Self_Employed.fillna(test.Self_Employed.mode())\n",
    "\n",
    "self_Employed = pd.get_dummies(train['Self_Employed'] ,prefix = 'employed' ,drop_first = True )\n",
    "train.drop(['Self_Employed'], axis = 1 , inplace =True)\n",
    "train = pd.concat([train , self_Employed ] , axis = 1)\n",
    "\n",
    "self_Employed = pd.get_dummies(test['Self_Employed'] , prefix = 'employed' ,drop_first = True )\n",
    "test.drop(['Self_Employed'], axis = 1 , inplace =True)\n",
    "test = pd.concat([test , self_Employed ] , axis = 1)"
   ]
  },
  {
   "cell_type": "markdown",
   "id": "220b49f8",
   "metadata": {
    "papermill": {
     "duration": 0.020766,
     "end_time": "2022-09-13T10:51:51.720372",
     "exception": false,
     "start_time": "2022-09-13T10:51:51.699606",
     "status": "completed"
    },
    "tags": []
   },
   "source": [
    "### Plotting No. of Married people vs Unmarried people"
   ]
  },
  {
   "cell_type": "code",
   "execution_count": null,
   "id": "27f3eadf",
   "metadata": {
    "execution": {
     "iopub.execute_input": "2022-09-13T10:51:51.764539Z",
     "iopub.status.busy": "2022-09-13T10:51:51.763980Z",
     "iopub.status.idle": "2022-09-13T10:51:51.884712Z",
     "shell.execute_reply": "2022-09-13T10:51:51.883965Z"
    },
    "papermill": {
     "duration": 0.144439,
     "end_time": "2022-09-13T10:51:51.886237",
     "exception": false,
     "start_time": "2022-09-13T10:51:51.741798",
     "status": "completed"
    },
    "tags": []
   },
   "outputs": [],
   "source": [
    "sns.countplot(train.Married)"
   ]
  },
  {
   "cell_type": "markdown",
   "id": "99b3b006",
   "metadata": {
    "papermill": {
     "duration": 0.021539,
     "end_time": "2022-09-13T10:51:51.938070",
     "exception": false,
     "start_time": "2022-09-13T10:51:51.916531",
     "status": "completed"
    },
    "tags": []
   },
   "source": [
    "### Approval of loans between Married and Unmarried people"
   ]
  },
  {
   "cell_type": "code",
   "execution_count": null,
   "id": "6008eb3e",
   "metadata": {
    "execution": {
     "iopub.execute_input": "2022-09-13T10:51:51.983349Z",
     "iopub.status.busy": "2022-09-13T10:51:51.982580Z",
     "iopub.status.idle": "2022-09-13T10:51:52.012387Z",
     "shell.execute_reply": "2022-09-13T10:51:52.011352Z"
    },
    "papermill": {
     "duration": 0.054907,
     "end_time": "2022-09-13T10:51:52.014646",
     "exception": false,
     "start_time": "2022-09-13T10:51:51.959739",
     "status": "completed"
    },
    "tags": []
   },
   "outputs": [],
   "source": [
    "pd.crosstab(train.Married , train.Loan_Status,margins = True)"
   ]
  },
  {
   "cell_type": "markdown",
   "id": "0bb60bdf",
   "metadata": {
    "papermill": {
     "duration": 0.021538,
     "end_time": "2022-09-13T10:51:52.057957",
     "exception": false,
     "start_time": "2022-09-13T10:51:52.036419",
     "status": "completed"
    },
    "tags": []
   },
   "source": [
    "### Filling NAN values and Converting categorial variables(Yes,No) to numerical variables(1,0)"
   ]
  },
  {
   "cell_type": "code",
   "execution_count": null,
   "id": "c5853b29",
   "metadata": {
    "execution": {
     "iopub.execute_input": "2022-09-13T10:51:52.104513Z",
     "iopub.status.busy": "2022-09-13T10:51:52.103026Z",
     "iopub.status.idle": "2022-09-13T10:51:52.117866Z",
     "shell.execute_reply": "2022-09-13T10:51:52.116802Z"
    },
    "papermill": {
     "duration": 0.040689,
     "end_time": "2022-09-13T10:51:52.120508",
     "exception": false,
     "start_time": "2022-09-13T10:51:52.079819",
     "status": "completed"
    },
    "tags": []
   },
   "outputs": [],
   "source": [
    "train.Married = train.Married.fillna(train.Married.mode())\n",
    "test.Married = test.Married.fillna(test.Married.mode())\n",
    "\n",
    "married = pd.get_dummies(train['Married'] , prefix = 'married',drop_first = True )\n",
    "train.drop(['Married'], axis = 1 , inplace =True)\n",
    "train = pd.concat([train , married ] , axis = 1)\n",
    "\n",
    "married = pd.get_dummies(test['Married'] , prefix = 'married', drop_first = True )\n",
    "test.drop(['Married'], axis = 1 , inplace =True)\n",
    "test = pd.concat([test , married ] , axis = 1)"
   ]
  },
  {
   "cell_type": "markdown",
   "id": "feb06338",
   "metadata": {
    "papermill": {
     "duration": 0.024214,
     "end_time": "2022-09-13T10:51:52.166638",
     "exception": false,
     "start_time": "2022-09-13T10:51:52.142424",
     "status": "completed"
    },
    "tags": []
   },
   "source": [
    "### Filling up NAN values of Loan Amount Term"
   ]
  },
  {
   "cell_type": "code",
   "execution_count": null,
   "id": "4b47caaf",
   "metadata": {
    "execution": {
     "iopub.execute_input": "2022-09-13T10:51:52.215711Z",
     "iopub.status.busy": "2022-09-13T10:51:52.214761Z",
     "iopub.status.idle": "2022-09-13T10:51:52.224825Z",
     "shell.execute_reply": "2022-09-13T10:51:52.224003Z"
    },
    "papermill": {
     "duration": 0.036731,
     "end_time": "2022-09-13T10:51:52.226903",
     "exception": false,
     "start_time": "2022-09-13T10:51:52.190172",
     "status": "completed"
    },
    "tags": []
   },
   "outputs": [],
   "source": [
    "train.drop(['Loan_Amount_Term'], axis = 1 , inplace =True)\n",
    "test.drop(['Loan_Amount_Term'], axis = 1 , inplace =True)\n",
    "\n",
    "train.LoanAmount = train.LoanAmount.fillna(train.LoanAmount.mean()).astype(int)\n",
    "test.LoanAmount = test.LoanAmount.fillna(test.LoanAmount.mean()).astype(int)"
   ]
  },
  {
   "cell_type": "code",
   "execution_count": null,
   "id": "4c22d657",
   "metadata": {
    "execution": {
     "iopub.execute_input": "2022-09-13T10:51:52.277823Z",
     "iopub.status.busy": "2022-09-13T10:51:52.277490Z",
     "iopub.status.idle": "2022-09-13T10:51:52.528355Z",
     "shell.execute_reply": "2022-09-13T10:51:52.527410Z"
    },
    "papermill": {
     "duration": 0.281046,
     "end_time": "2022-09-13T10:51:52.530509",
     "exception": false,
     "start_time": "2022-09-13T10:51:52.249463",
     "status": "completed"
    },
    "tags": []
   },
   "outputs": [],
   "source": [
    "sns.distplot(train['LoanAmount'])"
   ]
  },
  {
   "cell_type": "markdown",
   "id": "781dc4dd",
   "metadata": {
    "papermill": {
     "duration": 0.021805,
     "end_time": "2022-09-13T10:51:52.578229",
     "exception": false,
     "start_time": "2022-09-13T10:51:52.556424",
     "status": "completed"
    },
    "tags": []
   },
   "source": [
    "> We observe no outliers in the continuous variable Loan Amount"
   ]
  },
  {
   "cell_type": "markdown",
   "id": "72a26cd8",
   "metadata": {
    "papermill": {
     "duration": 0.022094,
     "end_time": "2022-09-13T10:51:52.622267",
     "exception": false,
     "start_time": "2022-09-13T10:51:52.600173",
     "status": "completed"
    },
    "tags": []
   },
   "source": [
    "### Plotting Graduates vs Non-Graduates"
   ]
  },
  {
   "cell_type": "code",
   "execution_count": null,
   "id": "61f9fbea",
   "metadata": {
    "execution": {
     "iopub.execute_input": "2022-09-13T10:51:52.668017Z",
     "iopub.status.busy": "2022-09-13T10:51:52.667651Z",
     "iopub.status.idle": "2022-09-13T10:51:52.776209Z",
     "shell.execute_reply": "2022-09-13T10:51:52.775424Z"
    },
    "papermill": {
     "duration": 0.134186,
     "end_time": "2022-09-13T10:51:52.778167",
     "exception": false,
     "start_time": "2022-09-13T10:51:52.643981",
     "status": "completed"
    },
    "tags": []
   },
   "outputs": [],
   "source": [
    "sns.countplot(train.Education)"
   ]
  },
  {
   "cell_type": "markdown",
   "id": "0fd6504c",
   "metadata": {
    "papermill": {
     "duration": 0.024154,
     "end_time": "2022-09-13T10:51:52.833447",
     "exception": false,
     "start_time": "2022-09-13T10:51:52.809293",
     "status": "completed"
    },
    "tags": []
   },
   "source": [
    "### Converting categorial variables to numerical variables"
   ]
  },
  {
   "cell_type": "code",
   "execution_count": null,
   "id": "d7bcfa64",
   "metadata": {
    "execution": {
     "iopub.execute_input": "2022-09-13T10:51:52.880038Z",
     "iopub.status.busy": "2022-09-13T10:51:52.879725Z",
     "iopub.status.idle": "2022-09-13T10:51:52.888737Z",
     "shell.execute_reply": "2022-09-13T10:51:52.887047Z"
    },
    "papermill": {
     "duration": 0.035497,
     "end_time": "2022-09-13T10:51:52.891383",
     "exception": false,
     "start_time": "2022-09-13T10:51:52.855886",
     "status": "completed"
    },
    "scrolled": true,
    "tags": []
   },
   "outputs": [],
   "source": [
    "train['Education'] = train['Education'].map( {'Graduate': 0, 'Not Graduate': 1} ).astype(int)\n",
    "test['Education'] = test['Education'].map( {'Graduate': 0, 'Not Graduate': 1} ).astype(int)"
   ]
  },
  {
   "cell_type": "markdown",
   "id": "9d9735a8",
   "metadata": {
    "papermill": {
     "duration": 0.022397,
     "end_time": "2022-09-13T10:51:52.936005",
     "exception": false,
     "start_time": "2022-09-13T10:51:52.913608",
     "status": "completed"
    },
    "tags": []
   },
   "source": [
    "### Property Area"
   ]
  },
  {
   "cell_type": "code",
   "execution_count": null,
   "id": "8ce2b335",
   "metadata": {
    "execution": {
     "iopub.execute_input": "2022-09-13T10:51:52.984013Z",
     "iopub.status.busy": "2022-09-13T10:51:52.983682Z",
     "iopub.status.idle": "2022-09-13T10:51:53.096296Z",
     "shell.execute_reply": "2022-09-13T10:51:53.095552Z"
    },
    "papermill": {
     "duration": 0.13792,
     "end_time": "2022-09-13T10:51:53.098462",
     "exception": false,
     "start_time": "2022-09-13T10:51:52.960542",
     "status": "completed"
    },
    "tags": []
   },
   "outputs": [],
   "source": [
    "sns.countplot(train.Property_Area)"
   ]
  },
  {
   "cell_type": "markdown",
   "id": "db4c48e1",
   "metadata": {
    "papermill": {
     "duration": 0.024403,
     "end_time": "2022-09-13T10:51:53.152749",
     "exception": false,
     "start_time": "2022-09-13T10:51:53.128346",
     "status": "completed"
    },
    "tags": []
   },
   "source": [
    "### Converting categorial variables to numerical variables"
   ]
  },
  {
   "cell_type": "code",
   "execution_count": null,
   "id": "dfb9ffa4",
   "metadata": {
    "execution": {
     "iopub.execute_input": "2022-09-13T10:51:53.199606Z",
     "iopub.status.busy": "2022-09-13T10:51:53.198875Z",
     "iopub.status.idle": "2022-09-13T10:51:53.206836Z",
     "shell.execute_reply": "2022-09-13T10:51:53.206192Z"
    },
    "papermill": {
     "duration": 0.033182,
     "end_time": "2022-09-13T10:51:53.208586",
     "exception": false,
     "start_time": "2022-09-13T10:51:53.175404",
     "status": "completed"
    },
    "tags": []
   },
   "outputs": [],
   "source": [
    "train['Property_Area'] = train['Property_Area'].map( {'Urban': 0, 'Semiurban': 1 ,'Rural': 2  } ).astype(int)\n",
    "\n",
    "test.Property_Area = test.Property_Area.fillna(test.Property_Area.mode())\n",
    "test['Property_Area'] = test['Property_Area'].map( {'Urban': 0, 'Semiurban': 1 ,'Rural': 2  } ).astype(int)\n"
   ]
  },
  {
   "cell_type": "markdown",
   "id": "abb131bb",
   "metadata": {
    "papermill": {
     "duration": 0.021702,
     "end_time": "2022-09-13T10:51:53.252353",
     "exception": false,
     "start_time": "2022-09-13T10:51:53.230651",
     "status": "completed"
    },
    "tags": []
   },
   "source": [
    "### Plotting Co-Applicant income and Applicant income"
   ]
  },
  {
   "cell_type": "code",
   "execution_count": null,
   "id": "f8b77a20",
   "metadata": {
    "execution": {
     "iopub.execute_input": "2022-09-13T10:51:53.300344Z",
     "iopub.status.busy": "2022-09-13T10:51:53.299353Z",
     "iopub.status.idle": "2022-09-13T10:51:53.526563Z",
     "shell.execute_reply": "2022-09-13T10:51:53.525241Z"
    },
    "papermill": {
     "duration": 0.253066,
     "end_time": "2022-09-13T10:51:53.528453",
     "exception": false,
     "start_time": "2022-09-13T10:51:53.275387",
     "status": "completed"
    },
    "tags": []
   },
   "outputs": [],
   "source": [
    "sns.distplot(train['ApplicantIncome'])"
   ]
  },
  {
   "cell_type": "code",
   "execution_count": null,
   "id": "c5df020c",
   "metadata": {
    "execution": {
     "iopub.execute_input": "2022-09-13T10:51:53.574028Z",
     "iopub.status.busy": "2022-09-13T10:51:53.573682Z",
     "iopub.status.idle": "2022-09-13T10:51:53.798357Z",
     "shell.execute_reply": "2022-09-13T10:51:53.797045Z"
    },
    "papermill": {
     "duration": 0.250722,
     "end_time": "2022-09-13T10:51:53.801129",
     "exception": false,
     "start_time": "2022-09-13T10:51:53.550407",
     "status": "completed"
    },
    "tags": []
   },
   "outputs": [],
   "source": [
    "sns.distplot(train['CoapplicantIncome'])"
   ]
  },
  {
   "cell_type": "markdown",
   "id": "03ae433b",
   "metadata": {
    "papermill": {
     "duration": 0.022981,
     "end_time": "2022-09-13T10:51:53.847524",
     "exception": false,
     "start_time": "2022-09-13T10:51:53.824543",
     "status": "completed"
    },
    "tags": []
   },
   "source": [
    "### Target Variable : Loan Status (Converting categorial variables to numerical variables)"
   ]
  },
  {
   "cell_type": "code",
   "execution_count": null,
   "id": "e0ac0a6d",
   "metadata": {
    "execution": {
     "iopub.execute_input": "2022-09-13T10:51:53.895919Z",
     "iopub.status.busy": "2022-09-13T10:51:53.895415Z",
     "iopub.status.idle": "2022-09-13T10:51:53.901507Z",
     "shell.execute_reply": "2022-09-13T10:51:53.900497Z"
    },
    "papermill": {
     "duration": 0.032877,
     "end_time": "2022-09-13T10:51:53.903588",
     "exception": false,
     "start_time": "2022-09-13T10:51:53.870711",
     "status": "completed"
    },
    "tags": []
   },
   "outputs": [],
   "source": [
    "train['Loan_Status'] = train['Loan_Status'].map( {'N': 0, 'Y': 1 } ).astype(int)"
   ]
  },
  {
   "cell_type": "markdown",
   "id": "e5811ed2",
   "metadata": {
    "papermill": {
     "duration": 0.023987,
     "end_time": "2022-09-13T10:51:53.950828",
     "exception": false,
     "start_time": "2022-09-13T10:51:53.926841",
     "status": "completed"
    },
    "tags": []
   },
   "source": [
    "### Dropping the ID column"
   ]
  },
  {
   "cell_type": "code",
   "execution_count": null,
   "id": "97d8b56a",
   "metadata": {
    "execution": {
     "iopub.execute_input": "2022-09-13T10:51:54.000057Z",
     "iopub.status.busy": "2022-09-13T10:51:53.999581Z",
     "iopub.status.idle": "2022-09-13T10:51:54.005332Z",
     "shell.execute_reply": "2022-09-13T10:51:54.004341Z"
    },
    "papermill": {
     "duration": 0.032766,
     "end_time": "2022-09-13T10:51:54.007351",
     "exception": false,
     "start_time": "2022-09-13T10:51:53.974585",
     "status": "completed"
    },
    "tags": []
   },
   "outputs": [],
   "source": [
    "train.drop(['Loan_ID'], axis = 1 , inplace =True)"
   ]
  },
  {
   "cell_type": "markdown",
   "id": "d79ac84b",
   "metadata": {
    "papermill": {
     "duration": 0.022476,
     "end_time": "2022-09-13T10:51:54.052701",
     "exception": false,
     "start_time": "2022-09-13T10:51:54.030225",
     "status": "completed"
    },
    "tags": []
   },
   "source": [
    "### Viewing the Datasets"
   ]
  },
  {
   "cell_type": "code",
   "execution_count": null,
   "id": "51595761",
   "metadata": {
    "execution": {
     "iopub.execute_input": "2022-09-13T10:51:54.100356Z",
     "iopub.status.busy": "2022-09-13T10:51:54.099634Z",
     "iopub.status.idle": "2022-09-13T10:51:54.111289Z",
     "shell.execute_reply": "2022-09-13T10:51:54.110297Z"
    },
    "papermill": {
     "duration": 0.03726,
     "end_time": "2022-09-13T10:51:54.112975",
     "exception": false,
     "start_time": "2022-09-13T10:51:54.075715",
     "status": "completed"
    },
    "scrolled": true,
    "tags": []
   },
   "outputs": [],
   "source": [
    "train.head()"
   ]
  },
  {
   "cell_type": "code",
   "execution_count": null,
   "id": "e2599029",
   "metadata": {
    "execution": {
     "iopub.execute_input": "2022-09-13T10:51:54.161597Z",
     "iopub.status.busy": "2022-09-13T10:51:54.161027Z",
     "iopub.status.idle": "2022-09-13T10:51:54.171698Z",
     "shell.execute_reply": "2022-09-13T10:51:54.171139Z"
    },
    "papermill": {
     "duration": 0.036835,
     "end_time": "2022-09-13T10:51:54.173139",
     "exception": false,
     "start_time": "2022-09-13T10:51:54.136304",
     "status": "completed"
    },
    "tags": []
   },
   "outputs": [],
   "source": [
    "test.head()"
   ]
  },
  {
   "cell_type": "markdown",
   "id": "f5d11582",
   "metadata": {
    "papermill": {
     "duration": 0.023475,
     "end_time": "2022-09-13T10:51:54.220000",
     "exception": false,
     "start_time": "2022-09-13T10:51:54.196525",
     "status": "completed"
    },
    "tags": []
   },
   "source": [
    "# Visualizing the Correlations and Relations"
   ]
  },
  {
   "cell_type": "markdown",
   "id": "28afedfd",
   "metadata": {
    "papermill": {
     "duration": 0.023817,
     "end_time": "2022-09-13T10:51:54.267398",
     "exception": false,
     "start_time": "2022-09-13T10:51:54.243581",
     "status": "completed"
    },
    "tags": []
   },
   "source": [
    "### Plot between LoanAmount, Applicant Income, Employement and Gender\n",
    "\n",
    "*What is the relation of Loan taken between men and women?<br> Did the employed ones were greater in number to take Loan ?<br> What is distribution of Loan Amount and Income?*"
   ]
  },
  {
   "cell_type": "code",
   "execution_count": null,
   "id": "d0be72e1",
   "metadata": {
    "execution": {
     "iopub.execute_input": "2022-09-13T10:51:54.317065Z",
     "iopub.status.busy": "2022-09-13T10:51:54.316553Z",
     "iopub.status.idle": "2022-09-13T10:51:55.265090Z",
     "shell.execute_reply": "2022-09-13T10:51:55.264306Z"
    },
    "papermill": {
     "duration": 0.97614,
     "end_time": "2022-09-13T10:51:55.267703",
     "exception": false,
     "start_time": "2022-09-13T10:51:54.291563",
     "status": "completed"
    },
    "tags": []
   },
   "outputs": [],
   "source": [
    "g = sns.lmplot(x='ApplicantIncome',y='LoanAmount',data= train , col='employed_Yes', hue='Male',\n",
    "          palette= [\"Red\" , \"Blue\",\"Yellow\"] ,aspect=1.2,size=6)\n",
    "g.set(ylim=(0, 800))\n",
    "##Relation Between the Male or female Applicant's income , Loan taken and Self employment."
   ]
  },
  {
   "cell_type": "markdown",
   "id": "f4ca4f4e",
   "metadata": {
    "papermill": {
     "duration": 0.024037,
     "end_time": "2022-09-13T10:51:55.317499",
     "exception": false,
     "start_time": "2022-09-13T10:51:55.293462",
     "status": "completed"
    },
    "tags": []
   },
   "source": [
    "### Above graph tells:\n",
    "    - The male applicants take more amount of loan than female.\n",
    "    - The males are higher in number of \"NOT self employed\" category.\n",
    "    - The amount is still larger in the income range in (0 to 20000).\n",
    "    - Also we observe that majority of applicants are NOT self employed.\n",
    "    - Highest Loan amount taken is by the female applicant of about 700 which is NOT self employed.\n",
    "    - The majority of income taken is about 0-200 with income in the range 0-20000. \n",
    "    - The line plotted shows that with increase in income the amount of loan increases with almost same slope for the case of women in both the cases but a slightely lesser slope in the case of men in Self- Employed category as compared to non-self employed.\n"
   ]
  },
  {
   "cell_type": "markdown",
   "id": "26052e17",
   "metadata": {},
   "source": [
    "There seems to be outliers in applicant income and coapplicant income which needs to be taken into consideration"
   ]
  },
  {
   "cell_type": "markdown",
   "id": "57e60b9f",
   "metadata": {
    "papermill": {
     "duration": 0.025247,
     "end_time": "2022-09-13T10:51:55.944171",
     "exception": false,
     "start_time": "2022-09-13T10:51:55.918924",
     "status": "completed"
    },
    "tags": []
   },
   "source": [
    "### Relation between Credit History and Loan status."
   ]
  },
  {
   "cell_type": "code",
   "execution_count": null,
   "id": "7cbc5331",
   "metadata": {
    "execution": {
     "iopub.execute_input": "2022-09-13T10:51:55.996025Z",
     "iopub.status.busy": "2022-09-13T10:51:55.995673Z",
     "iopub.status.idle": "2022-09-13T10:51:56.005859Z",
     "shell.execute_reply": "2022-09-13T10:51:56.004213Z"
    },
    "papermill": {
     "duration": 0.038988,
     "end_time": "2022-09-13T10:51:56.008282",
     "exception": false,
     "start_time": "2022-09-13T10:51:55.969294",
     "status": "completed"
    },
    "tags": []
   },
   "outputs": [],
   "source": [
    "train.Credit_History.value_counts()"
   ]
  },
  {
   "cell_type": "code",
   "execution_count": null,
   "id": "1af3277d",
   "metadata": {
    "execution": {
     "iopub.execute_input": "2022-09-13T10:51:56.061154Z",
     "iopub.status.busy": "2022-09-13T10:51:56.060757Z",
     "iopub.status.idle": "2022-09-13T10:51:56.233556Z",
     "shell.execute_reply": "2022-09-13T10:51:56.232596Z"
    },
    "papermill": {
     "duration": 0.201617,
     "end_time": "2022-09-13T10:51:56.235471",
     "exception": false,
     "start_time": "2022-09-13T10:51:56.033854",
     "status": "completed"
    },
    "tags": []
   },
   "outputs": [],
   "source": [
    "lc = pd.crosstab(train['Credit_History'], train['Loan_Status'])\n",
    "lc.plot(kind='bar', stacked=True, color=['red','blue'], grid=False)"
   ]
  },
  {
   "cell_type": "markdown",
   "id": "6f94f1a1",
   "metadata": {
    "papermill": {
     "duration": 0.025148,
     "end_time": "2022-09-13T10:51:56.285453",
     "exception": false,
     "start_time": "2022-09-13T10:51:56.260305",
     "status": "completed"
    },
    "tags": []
   },
   "source": [
    "- The credit history vs Loan Status indicates:\n",
    "    - The good credit history applicants have more chances of getting Loan.\n",
    "    - With better credit History the Loan amount given was greater too.\n",
    "    - But many were not given loan in the range 0-100\n",
    "    - The applicant with poor credit history were handled in the range 0-100 only."
   ]
  },
  {
   "cell_type": "code",
   "execution_count": null,
   "id": "a996b900",
   "metadata": {
    "execution": {
     "iopub.execute_input": "2022-09-13T10:51:56.338630Z",
     "iopub.status.busy": "2022-09-13T10:51:56.338245Z",
     "iopub.status.idle": "2022-09-13T10:51:56.943038Z",
     "shell.execute_reply": "2022-09-13T10:51:56.940944Z"
    },
    "papermill": {
     "duration": 0.634479,
     "end_time": "2022-09-13T10:51:56.946211",
     "exception": false,
     "start_time": "2022-09-13T10:51:56.311732",
     "status": "completed"
    },
    "tags": []
   },
   "outputs": [],
   "source": [
    "plt.figure(figsize=(9,6))\n",
    "sns.heatmap(train.drop('Loan_Status',axis=1).corr(), vmax=0.6, square=True, annot=True)"
   ]
  },
  {
   "cell_type": "markdown",
   "id": "f6726992",
   "metadata": {},
   "source": [
    "1. Credit history is highly correlated to our target\n",
    "2. Education, self_employed, coapplicant income, loan amount, applicant income has negative correlation\n",
    "3. Loan amount and applicant are highly correlated\n",
    "4. Gender-Married & Dependents-Married are correlated\n",
    "5. This reflects that there are multicoreniality"
   ]
  },
  {
   "cell_type": "markdown",
   "id": "81d084ea",
   "metadata": {
    "papermill": {
     "duration": 0.026162,
     "end_time": "2022-09-13T10:51:57.000865",
     "exception": false,
     "start_time": "2022-09-13T10:51:56.974703",
     "status": "completed"
    },
    "tags": []
   },
   "source": [
    "# Modelling"
   ]
  },
  {
   "cell_type": "markdown",
   "id": "3d6127dc",
   "metadata": {
    "papermill": {
     "duration": 0.02649,
     "end_time": "2022-09-13T10:51:57.055344",
     "exception": false,
     "start_time": "2022-09-13T10:51:57.028854",
     "status": "completed"
    },
    "tags": []
   },
   "source": [
    "The problem is of **Classification** as observed and concluded from the data and visualisations."
   ]
  },
  {
   "cell_type": "code",
   "execution_count": null,
   "id": "1091a264",
   "metadata": {
    "execution": {
     "iopub.execute_input": "2022-09-13T10:51:57.109777Z",
     "iopub.status.busy": "2022-09-13T10:51:57.109285Z",
     "iopub.status.idle": "2022-09-13T10:51:57.115623Z",
     "shell.execute_reply": "2022-09-13T10:51:57.114777Z"
    },
    "papermill": {
     "duration": 0.036257,
     "end_time": "2022-09-13T10:51:57.117759",
     "exception": false,
     "start_time": "2022-09-13T10:51:57.081502",
     "status": "completed"
    },
    "tags": []
   },
   "outputs": [],
   "source": [
    "X = train.drop('Loan_Status' , axis = 1 )\n",
    "y = train['Loan_Status']\n",
    "\n",
    "X_train ,X_test , y_train , y_test = train_test_split(X , y , test_size = 0.3 , random_state =102)"
   ]
  },
  {
   "cell_type": "markdown",
   "id": "d1019d74",
   "metadata": {
    "papermill": {
     "duration": 0.026411,
     "end_time": "2022-09-13T10:51:57.170580",
     "exception": false,
     "start_time": "2022-09-13T10:51:57.144169",
     "status": "completed"
    },
    "tags": []
   },
   "source": [
    "### Logistic Regression"
   ]
  },
  {
   "cell_type": "code",
   "execution_count": null,
   "id": "5ac01c6e",
   "metadata": {
    "execution": {
     "iopub.execute_input": "2022-09-13T10:51:57.226376Z",
     "iopub.status.busy": "2022-09-13T10:51:57.226013Z",
     "iopub.status.idle": "2022-09-13T10:51:57.254880Z",
     "shell.execute_reply": "2022-09-13T10:51:57.253658Z"
    },
    "papermill": {
     "duration": 0.059727,
     "end_time": "2022-09-13T10:51:57.257055",
     "exception": false,
     "start_time": "2022-09-13T10:51:57.197328",
     "status": "completed"
    },
    "tags": []
   },
   "outputs": [],
   "source": [
    "from sklearn.linear_model import LogisticRegression\n",
    "logmodel = LogisticRegression()\n",
    "logmodel.fit(X_train , y_train)\n",
    "pred_l = logmodel.predict(X_test)\n",
    "acc_l = accuracy_score(y_test , pred_l)*100\n",
    "acc_l"
   ]
  },
  {
   "cell_type": "markdown",
   "id": "8df3eddb",
   "metadata": {
    "papermill": {
     "duration": 0.026754,
     "end_time": "2022-09-13T10:51:57.311425",
     "exception": false,
     "start_time": "2022-09-13T10:51:57.284671",
     "status": "completed"
    },
    "tags": []
   },
   "source": [
    "### Random Forest"
   ]
  },
  {
   "cell_type": "code",
   "execution_count": null,
   "id": "c71e1bbd",
   "metadata": {
    "execution": {
     "iopub.execute_input": "2022-09-13T10:51:57.367572Z",
     "iopub.status.busy": "2022-09-13T10:51:57.366311Z",
     "iopub.status.idle": "2022-09-13T10:51:57.525708Z",
     "shell.execute_reply": "2022-09-13T10:51:57.524700Z"
    },
    "papermill": {
     "duration": 0.189509,
     "end_time": "2022-09-13T10:51:57.527869",
     "exception": false,
     "start_time": "2022-09-13T10:51:57.338360",
     "status": "completed"
    },
    "tags": []
   },
   "outputs": [],
   "source": [
    "\n",
    "random_forest = RandomForestClassifier(n_estimators= 100)\n",
    "random_forest.fit(X_train, y_train)\n",
    "pred_rf = random_forest.predict(X_test)\n",
    "acc_rf = accuracy_score(y_test , pred_rf)*100\n",
    "acc_rf"
   ]
  },
  {
   "cell_type": "markdown",
   "id": "e4dea1ef",
   "metadata": {
    "papermill": {
     "duration": 0.027308,
     "end_time": "2022-09-13T10:51:57.581676",
     "exception": false,
     "start_time": "2022-09-13T10:51:57.554368",
     "status": "completed"
    },
    "tags": []
   },
   "source": [
    "### K-Nearest Neighbors"
   ]
  },
  {
   "cell_type": "code",
   "execution_count": null,
   "id": "0bdbaed1",
   "metadata": {
    "execution": {
     "iopub.execute_input": "2022-09-13T10:51:57.661570Z",
     "iopub.status.busy": "2022-09-13T10:51:57.661233Z",
     "iopub.status.idle": "2022-09-13T10:51:57.677854Z",
     "shell.execute_reply": "2022-09-13T10:51:57.677092Z"
    },
    "papermill": {
     "duration": 0.046869,
     "end_time": "2022-09-13T10:51:57.679500",
     "exception": false,
     "start_time": "2022-09-13T10:51:57.632631",
     "status": "completed"
    },
    "tags": []
   },
   "outputs": [],
   "source": [
    "\n",
    "knn = KNeighborsClassifier(n_neighbors = 3)\n",
    "knn.fit(X_train, y_train)\n",
    "pred_knn = knn.predict(X_test)\n",
    "acc_knn = accuracy_score(y_test , pred_knn)*100\n",
    "acc_knn"
   ]
  },
  {
   "cell_type": "markdown",
   "id": "7fac2f7d",
   "metadata": {
    "papermill": {
     "duration": 0.026002,
     "end_time": "2022-09-13T10:51:57.731774",
     "exception": false,
     "start_time": "2022-09-13T10:51:57.705772",
     "status": "completed"
    },
    "tags": []
   },
   "source": [
    "### Naive Bayes"
   ]
  },
  {
   "cell_type": "code",
   "execution_count": null,
   "id": "da40c707",
   "metadata": {
    "execution": {
     "iopub.execute_input": "2022-09-13T10:51:57.786157Z",
     "iopub.status.busy": "2022-09-13T10:51:57.784813Z",
     "iopub.status.idle": "2022-09-13T10:51:57.796812Z",
     "shell.execute_reply": "2022-09-13T10:51:57.795459Z"
    },
    "papermill": {
     "duration": 0.041966,
     "end_time": "2022-09-13T10:51:57.799571",
     "exception": false,
     "start_time": "2022-09-13T10:51:57.757605",
     "status": "completed"
    },
    "tags": []
   },
   "outputs": [],
   "source": [
    "gaussian = GaussianNB()\n",
    "gaussian.fit(X_train, y_train)\n",
    "pred_gb = gaussian.predict(X_test)\n",
    "acc_gb = accuracy_score(y_test , pred_gb)*100\n",
    "acc_gb"
   ]
  },
  {
   "cell_type": "markdown",
   "id": "6276e7a7",
   "metadata": {
    "papermill": {
     "duration": 0.027392,
     "end_time": "2022-09-13T10:51:57.853386",
     "exception": false,
     "start_time": "2022-09-13T10:51:57.825994",
     "status": "completed"
    },
    "tags": []
   },
   "source": [
    "### SVM"
   ]
  },
  {
   "cell_type": "code",
   "execution_count": null,
   "id": "083d110e",
   "metadata": {
    "execution": {
     "iopub.execute_input": "2022-09-13T10:51:57.909320Z",
     "iopub.status.busy": "2022-09-13T10:51:57.908973Z",
     "iopub.status.idle": "2022-09-13T10:51:57.930979Z",
     "shell.execute_reply": "2022-09-13T10:51:57.930161Z"
    },
    "papermill": {
     "duration": 0.051641,
     "end_time": "2022-09-13T10:51:57.932549",
     "exception": false,
     "start_time": "2022-09-13T10:51:57.880908",
     "status": "completed"
    },
    "tags": []
   },
   "outputs": [],
   "source": [
    "svc = SVC()\n",
    "svc.fit(X_train, y_train)\n",
    "pred_svm = svc.predict(X_test)\n",
    "acc_svm = accuracy_score(y_test , pred_svm)*100\n",
    "acc_svm"
   ]
  },
  {
   "cell_type": "markdown",
   "id": "e2ce08e4",
   "metadata": {
    "papermill": {
     "duration": 0.028188,
     "end_time": "2022-09-13T10:51:57.988410",
     "exception": false,
     "start_time": "2022-09-13T10:51:57.960222",
     "status": "completed"
    },
    "tags": []
   },
   "source": [
    "### Gradient Boosting Classifier"
   ]
  },
  {
   "cell_type": "code",
   "execution_count": null,
   "id": "eaacbf43",
   "metadata": {
    "execution": {
     "iopub.execute_input": "2022-09-13T10:51:58.044372Z",
     "iopub.status.busy": "2022-09-13T10:51:58.044026Z",
     "iopub.status.idle": "2022-09-13T10:51:58.137557Z",
     "shell.execute_reply": "2022-09-13T10:51:58.135969Z"
    },
    "papermill": {
     "duration": 0.124994,
     "end_time": "2022-09-13T10:51:58.140130",
     "exception": false,
     "start_time": "2022-09-13T10:51:58.015136",
     "status": "completed"
    },
    "tags": []
   },
   "outputs": [],
   "source": [
    "gbk = GradientBoostingClassifier()\n",
    "gbk.fit(X_train, y_train)\n",
    "pred_gbc = gbk.predict(X_test)\n",
    "acc_gbc = accuracy_score(y_test , pred_gbc)*100\n",
    "acc_gbc"
   ]
  },
  {
   "cell_type": "code",
   "execution_count": null,
   "id": "2776eb4e",
   "metadata": {
    "execution": {
     "iopub.execute_input": "2022-09-13T10:51:58.196166Z",
     "iopub.status.busy": "2022-09-13T10:51:58.195820Z",
     "iopub.status.idle": "2022-09-13T10:51:58.209412Z",
     "shell.execute_reply": "2022-09-13T10:51:58.208594Z"
    },
    "papermill": {
     "duration": 0.043397,
     "end_time": "2022-09-13T10:51:58.211086",
     "exception": false,
     "start_time": "2022-09-13T10:51:58.167689",
     "status": "completed"
    },
    "tags": []
   },
   "outputs": [],
   "source": [
    "## Arranging the Accuracy results\n",
    "models = pd.DataFrame({\n",
    "    'Model': ['Logistic Regression', 'Random Forrest','K- Nearest Neighbour' ,\n",
    "             'Naive Bayes' , 'SVM','Gradient Boosting Classifier'],\n",
    "    'Score': [acc_l , acc_rf , acc_knn , acc_gb ,acc_svm ,acc_gbc ]})\n",
    "models.sort_values(by='Score', ascending=False)"
   ]
  },
  {
   "cell_type": "markdown",
   "id": "1f2407dc",
   "metadata": {
    "papermill": {
     "duration": 0.086651,
     "end_time": "2022-09-13T10:51:58.325460",
     "exception": false,
     "start_time": "2022-09-13T10:51:58.238809",
     "status": "completed"
    },
    "tags": []
   },
   "source": [
    "## The highest classification accuracy is shown by Logistic Regression => 83.78%\n",
    "\n",
    "### Let us Check the feature importance"
   ]
  },
  {
   "cell_type": "code",
   "execution_count": null,
   "id": "63e7dc9d",
   "metadata": {
    "execution": {
     "iopub.execute_input": "2022-09-13T10:51:58.381012Z",
     "iopub.status.busy": "2022-09-13T10:51:58.380699Z",
     "iopub.status.idle": "2022-09-13T10:51:58.405257Z",
     "shell.execute_reply": "2022-09-13T10:51:58.404264Z"
    },
    "papermill": {
     "duration": 0.054618,
     "end_time": "2022-09-13T10:51:58.406927",
     "exception": false,
     "start_time": "2022-09-13T10:51:58.352309",
     "status": "completed"
    },
    "tags": []
   },
   "outputs": [],
   "source": [
    "importances = pd.DataFrame({'Features':X_train.columns,'Importance':np.round(random_forest.feature_importances_,3)})\n",
    "importances = importances.sort_values('Importance',ascending=False).set_index('Features')\n",
    "importances.head(11) "
   ]
  },
  {
   "cell_type": "code",
   "execution_count": null,
   "id": "ef4fc922",
   "metadata": {
    "execution": {
     "iopub.execute_input": "2022-09-13T10:51:58.463742Z",
     "iopub.status.busy": "2022-09-13T10:51:58.463414Z",
     "iopub.status.idle": "2022-09-13T10:51:58.663390Z",
     "shell.execute_reply": "2022-09-13T10:51:58.661940Z"
    },
    "papermill": {
     "duration": 0.231983,
     "end_time": "2022-09-13T10:51:58.666233",
     "exception": false,
     "start_time": "2022-09-13T10:51:58.434250",
     "status": "completed"
    },
    "tags": []
   },
   "outputs": [],
   "source": [
    "importances.plot.bar()"
   ]
  },
  {
   "cell_type": "markdown",
   "id": "76de78fe",
   "metadata": {
    "papermill": {
     "duration": 0.028268,
     "end_time": "2022-09-13T10:51:58.723008",
     "exception": false,
     "start_time": "2022-09-13T10:51:58.694740",
     "status": "completed"
    },
    "tags": []
   },
   "source": [
    "> Credit History has the maximum importance and Employment has the least!"
   ]
  },
  {
   "cell_type": "markdown",
   "id": "8cabe628",
   "metadata": {
    "papermill": {
     "duration": 0.028452,
     "end_time": "2022-09-13T10:51:58.779757",
     "exception": false,
     "start_time": "2022-09-13T10:51:58.751305",
     "status": "completed"
    },
    "tags": []
   },
   "source": [
    "# Conclusion\n",
    "\n",
    "The Loan status has better relation with features such as Credit History, Applicant's Income, Loan Amount needed by them, Family status(Depenedents) and Property Area which are generally considered by the loan providing organisations. These factors are hence used to take correct decisions to provide loan status or not. This data analysis hence gives a realisation of features and the relation between them from the older decision examples hence giving a learning to predict the class of the unseen data. "
   ]
  },
  {
   "cell_type": "markdown",
   "id": "90966e8e",
   "metadata": {
    "papermill": {
     "duration": 0.027068,
     "end_time": "2022-09-13T10:51:58.834274",
     "exception": false,
     "start_time": "2022-09-13T10:51:58.807206",
     "status": "completed"
    },
    "tags": []
   },
   "source": [
    "# Submission\n",
    "## Finally we predict over unseen dataset using the Logistic Regression and Random Forest model (**Ensemble Learning**)"
   ]
  },
  {
   "cell_type": "code",
   "execution_count": null,
   "id": "e4fef39a",
   "metadata": {
    "execution": {
     "iopub.execute_input": "2022-09-13T10:51:58.892889Z",
     "iopub.status.busy": "2022-09-13T10:51:58.892288Z",
     "iopub.status.idle": "2022-09-13T10:51:58.897086Z",
     "shell.execute_reply": "2022-09-13T10:51:58.896478Z"
    },
    "papermill": {
     "duration": 0.037307,
     "end_time": "2022-09-13T10:51:58.899164",
     "exception": false,
     "start_time": "2022-09-13T10:51:58.861857",
     "status": "completed"
    },
    "tags": []
   },
   "outputs": [],
   "source": [
    "df_test = test.drop(['Loan_ID'], axis = 1)"
   ]
  },
  {
   "cell_type": "code",
   "execution_count": null,
   "id": "9b38a7e0",
   "metadata": {
    "execution": {
     "iopub.execute_input": "2022-09-13T10:51:58.957984Z",
     "iopub.status.busy": "2022-09-13T10:51:58.957622Z",
     "iopub.status.idle": "2022-09-13T10:51:58.970358Z",
     "shell.execute_reply": "2022-09-13T10:51:58.968850Z"
    },
    "papermill": {
     "duration": 0.045567,
     "end_time": "2022-09-13T10:51:58.972450",
     "exception": false,
     "start_time": "2022-09-13T10:51:58.926883",
     "status": "completed"
    },
    "tags": []
   },
   "outputs": [],
   "source": [
    "df_test.head()"
   ]
  },
  {
   "cell_type": "code",
   "execution_count": null,
   "id": "aac8ab42",
   "metadata": {
    "execution": {
     "iopub.execute_input": "2022-09-13T10:51:59.032180Z",
     "iopub.status.busy": "2022-09-13T10:51:59.031582Z",
     "iopub.status.idle": "2022-09-13T10:51:59.036771Z",
     "shell.execute_reply": "2022-09-13T10:51:59.036162Z"
    },
    "papermill": {
     "duration": 0.037175,
     "end_time": "2022-09-13T10:51:59.038825",
     "exception": false,
     "start_time": "2022-09-13T10:51:59.001650",
     "status": "completed"
    },
    "scrolled": true,
    "tags": []
   },
   "outputs": [],
   "source": [
    "p_log = logmodel.predict(df_test)"
   ]
  },
  {
   "cell_type": "code",
   "execution_count": null,
   "id": "cf0539ae",
   "metadata": {
    "execution": {
     "iopub.execute_input": "2022-09-13T10:51:59.095853Z",
     "iopub.status.busy": "2022-09-13T10:51:59.095307Z",
     "iopub.status.idle": "2022-09-13T10:51:59.114188Z",
     "shell.execute_reply": "2022-09-13T10:51:59.113479Z"
    },
    "papermill": {
     "duration": 0.049883,
     "end_time": "2022-09-13T10:51:59.116207",
     "exception": false,
     "start_time": "2022-09-13T10:51:59.066324",
     "status": "completed"
    },
    "tags": []
   },
   "outputs": [],
   "source": [
    "p_rf = random_forest.predict(df_test)"
   ]
  },
  {
   "cell_type": "code",
   "execution_count": null,
   "id": "81b299d8",
   "metadata": {
    "execution": {
     "iopub.execute_input": "2022-09-13T10:51:59.174637Z",
     "iopub.status.busy": "2022-09-13T10:51:59.173841Z",
     "iopub.status.idle": "2022-09-13T10:51:59.179234Z",
     "shell.execute_reply": "2022-09-13T10:51:59.178280Z"
    },
    "papermill": {
     "duration": 0.036972,
     "end_time": "2022-09-13T10:51:59.180815",
     "exception": false,
     "start_time": "2022-09-13T10:51:59.143843",
     "status": "completed"
    },
    "tags": []
   },
   "outputs": [],
   "source": [
    "predict_combine = np.zeros((df_test.shape[0]))\n",
    "\n",
    "for i in range(0, test.shape[0]):\n",
    "    temp = p_log[i] + p_rf[i]\n",
    "    if temp>=2:\n",
    "        predict_combine[i] = 1\n",
    "predict_combine = predict_combine.astype('int')"
   ]
  },
  {
   "cell_type": "code",
   "execution_count": null,
   "id": "6b22fec6",
   "metadata": {
    "execution": {
     "iopub.execute_input": "2022-09-13T10:51:59.237071Z",
     "iopub.status.busy": "2022-09-13T10:51:59.236498Z",
     "iopub.status.idle": "2022-09-13T10:51:59.245289Z",
     "shell.execute_reply": "2022-09-13T10:51:59.244314Z"
    },
    "papermill": {
     "duration": 0.03911,
     "end_time": "2022-09-13T10:51:59.247365",
     "exception": false,
     "start_time": "2022-09-13T10:51:59.208255",
     "status": "completed"
    },
    "tags": []
   },
   "outputs": [],
   "source": [
    "submission = pd.DataFrame({\n",
    "        \"Loan_ID\": test[\"Loan_ID\"],\n",
    "        \"Loan_Status\": predict_combine\n",
    "    })\n",
    "\n",
    "submission.to_csv(\"results.csv\", encoding='utf-8', index=False)\n"
   ]
  },
  {
   "cell_type": "code",
   "execution_count": null,
   "id": "88aa3afd",
   "metadata": {},
   "outputs": [],
   "source": []
  },
  {
   "cell_type": "code",
   "execution_count": null,
   "id": "a0ecaa4f",
   "metadata": {},
   "outputs": [],
   "source": []
  }
 ],
 "metadata": {
  "kernelspec": {
   "display_name": "Python 3 (ipykernel)",
   "language": "python",
   "name": "python3"
  },
  "language_info": {
   "codemirror_mode": {
    "name": "ipython",
    "version": 3
   },
   "file_extension": ".py",
   "mimetype": "text/x-python",
   "name": "python",
   "nbconvert_exporter": "python",
   "pygments_lexer": "ipython3",
   "version": "3.9.7"
  },
  "papermill": {
   "default_parameters": {},
   "duration": 21.343242,
   "end_time": "2022-09-13T10:52:00.197890",
   "environment_variables": {},
   "exception": null,
   "input_path": "__notebook__.ipynb",
   "output_path": "__notebook__.ipynb",
   "parameters": {},
   "start_time": "2022-09-13T10:51:38.854648",
   "version": "2.3.4"
  }
 },
 "nbformat": 4,
 "nbformat_minor": 5
}
