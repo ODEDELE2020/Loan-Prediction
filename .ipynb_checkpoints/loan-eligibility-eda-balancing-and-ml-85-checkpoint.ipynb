{
 "cells": [
  {
   "cell_type": "markdown",
   "metadata": {},
   "source": [
    "### <font color='red'> Loan Eligibility </font>"
   ]
  },
  {
   "cell_type": "markdown",
   "metadata": {},
   "source": [
    "#### In this problem we need to see if we can predict if the costumer is elegible or not to have a loan, we don't have a big database, our data date has 614 values and 13 columns, here we will use the \"Loan_Data.csv\" database that has been made available for use , below you will see an analysis of the data, the processing of that data, class balancing, and the use of machine learning classification models to achieve our goal."
   ]
  },
  {
   "cell_type": "markdown",
   "metadata": {},
   "source": [
    "![](https://taxplanningideas.com/wp-content/uploads/2021/12/4.png)"
   ]
  },
  {
   "cell_type": "code",
   "execution_count": null,
   "metadata": {
    "execution": {
     "iopub.status.busy": "2022-11-30T21:36:31.622250Z",
     "iopub.status.idle": "2022-11-30T21:36:31.622872Z",
     "shell.execute_reply": "2022-11-30T21:36:31.622688Z",
     "shell.execute_reply.started": "2022-11-30T21:36:31.622669Z"
    }
   },
   "outputs": [],
   "source": [
    "# This Python 3 environment comes with many helpful analytics libraries installed\n",
    "# It is defined by the kaggle/python Docker image: https://github.com/kaggle/docker-python\n",
    "# For example, here's several helpful packages to load\n",
    "\n",
    "import numpy as np # linear algebra\n",
    "import pandas as pd # data processing, CSV file I/O (e.g. pd.read_csv)\n",
    "\n",
    "# Input data files are available in the read-only \"../input/\" directory\n",
    "# For example, running this (by clicking run or pressing Shift+Enter) will list all files under the input directory\n",
    "\n",
    "import os\n",
    "for dirname, _, filenames in os.walk('/kaggle/input'):\n",
    "    for filename in filenames:\n",
    "        print(os.path.join(dirname, filename))\n",
    "\n",
    "# You can write up to 20GB to the current directory (/kaggle/working/) that gets preserved as output when you create a version using \"Save & Run All\" \n",
    "# You can also write temporary files to /kaggle/temp/, but they won't be saved outside of the current session"
   ]
  },
  {
   "cell_type": "markdown",
   "metadata": {},
   "source": [
    "#### Importing Libraries."
   ]
  },
  {
   "cell_type": "code",
   "execution_count": 170,
   "metadata": {
    "execution": {
     "iopub.execute_input": "2022-11-30T21:56:12.946710Z",
     "iopub.status.busy": "2022-11-30T21:56:12.946306Z",
     "iopub.status.idle": "2022-11-30T21:56:12.953369Z",
     "shell.execute_reply": "2022-11-30T21:56:12.952250Z",
     "shell.execute_reply.started": "2022-11-30T21:56:12.946674Z"
    }
   },
   "outputs": [],
   "source": [
    "import pandas as pd\n",
    "import numpy as np\n",
    "import matplotlib.pyplot as plt\n",
    "import seaborn as sns\n",
    "import plotly.express as px\n",
    "from sklearn.metrics import accuracy_score, confusion_matrix, classification_report\n",
    "from yellowbrick.classifier import ConfusionMatrix\n",
    "from sklearn.tree import DecisionTreeClassifier\n",
    "from sklearn.metrics import r2_score\n",
    "from sklearn.metrics import mean_absolute_error, mean_squared_error\n",
    "from sklearn.model_selection import GridSearchCV"
   ]
  },
  {
   "cell_type": "markdown",
   "metadata": {},
   "source": [
    "## <font color='blue'> 1. Importing Dataset. </font>"
   ]
  },
  {
   "cell_type": "markdown",
   "metadata": {},
   "source": [
    "#### Here we are reading the database using the name \"df\" in the variable."
   ]
  },
  {
   "cell_type": "code",
   "execution_count": 310,
   "metadata": {
    "execution": {
     "iopub.execute_input": "2022-11-30T22:24:23.215768Z",
     "iopub.status.busy": "2022-11-30T22:24:23.215298Z",
     "iopub.status.idle": "2022-11-30T22:24:23.233812Z",
     "shell.execute_reply": "2022-11-30T22:24:23.232243Z",
     "shell.execute_reply.started": "2022-11-30T22:24:23.215727Z"
    }
   },
   "outputs": [],
   "source": [
    "df = pd.read_csv('/kaggle/input/eligibility-prediction-for-loan/Loan_Data.csv', sep = ',')"
   ]
  },
  {
   "cell_type": "code",
   "execution_count": 268,
   "metadata": {
    "execution": {
     "iopub.execute_input": "2022-11-30T22:07:31.505566Z",
     "iopub.status.busy": "2022-11-30T22:07:31.505175Z",
     "iopub.status.idle": "2022-11-30T22:07:31.510303Z",
     "shell.execute_reply": "2022-11-30T22:07:31.509467Z",
     "shell.execute_reply.started": "2022-11-30T22:07:31.505534Z"
    }
   },
   "outputs": [],
   "source": [
    "pd.set_option('display.max_columns', None)"
   ]
  },
  {
   "cell_type": "markdown",
   "metadata": {},
   "source": [
    "#### After using the head function, we can see that this database has some null values (using the info function we can confirm this), our target variable is \"Loan_Status\", we can also see that we have Numerical and Categoricals."
   ]
  },
  {
   "cell_type": "code",
   "execution_count": 269,
   "metadata": {
    "execution": {
     "iopub.execute_input": "2022-11-30T22:07:31.636196Z",
     "iopub.status.busy": "2022-11-30T22:07:31.635085Z",
     "iopub.status.idle": "2022-11-30T22:07:31.655663Z",
     "shell.execute_reply": "2022-11-30T22:07:31.654484Z",
     "shell.execute_reply.started": "2022-11-30T22:07:31.636149Z"
    }
   },
   "outputs": [
    {
     "data": {
      "text/html": [
       "<div>\n",
       "<style scoped>\n",
       "    .dataframe tbody tr th:only-of-type {\n",
       "        vertical-align: middle;\n",
       "    }\n",
       "\n",
       "    .dataframe tbody tr th {\n",
       "        vertical-align: top;\n",
       "    }\n",
       "\n",
       "    .dataframe thead th {\n",
       "        text-align: right;\n",
       "    }\n",
       "</style>\n",
       "<table border=\"1\" class=\"dataframe\">\n",
       "  <thead>\n",
       "    <tr style=\"text-align: right;\">\n",
       "      <th></th>\n",
       "      <th>Loan_ID</th>\n",
       "      <th>Gender</th>\n",
       "      <th>Married</th>\n",
       "      <th>Dependents</th>\n",
       "      <th>Education</th>\n",
       "      <th>Self_Employed</th>\n",
       "      <th>ApplicantIncome</th>\n",
       "      <th>CoapplicantIncome</th>\n",
       "      <th>LoanAmount</th>\n",
       "      <th>Loan_Amount_Term</th>\n",
       "      <th>Credit_History</th>\n",
       "      <th>Property_Area</th>\n",
       "      <th>Loan_Status</th>\n",
       "    </tr>\n",
       "  </thead>\n",
       "  <tbody>\n",
       "    <tr>\n",
       "      <th>0</th>\n",
       "      <td>LP001002</td>\n",
       "      <td>Male</td>\n",
       "      <td>No</td>\n",
       "      <td>0</td>\n",
       "      <td>Graduate</td>\n",
       "      <td>No</td>\n",
       "      <td>5849</td>\n",
       "      <td>0.0</td>\n",
       "      <td>NaN</td>\n",
       "      <td>360.0</td>\n",
       "      <td>1.0</td>\n",
       "      <td>Urban</td>\n",
       "      <td>Y</td>\n",
       "    </tr>\n",
       "    <tr>\n",
       "      <th>1</th>\n",
       "      <td>LP001003</td>\n",
       "      <td>Male</td>\n",
       "      <td>Yes</td>\n",
       "      <td>1</td>\n",
       "      <td>Graduate</td>\n",
       "      <td>No</td>\n",
       "      <td>4583</td>\n",
       "      <td>1508.0</td>\n",
       "      <td>128.0</td>\n",
       "      <td>360.0</td>\n",
       "      <td>1.0</td>\n",
       "      <td>Rural</td>\n",
       "      <td>N</td>\n",
       "    </tr>\n",
       "    <tr>\n",
       "      <th>2</th>\n",
       "      <td>LP001005</td>\n",
       "      <td>Male</td>\n",
       "      <td>Yes</td>\n",
       "      <td>0</td>\n",
       "      <td>Graduate</td>\n",
       "      <td>Yes</td>\n",
       "      <td>3000</td>\n",
       "      <td>0.0</td>\n",
       "      <td>66.0</td>\n",
       "      <td>360.0</td>\n",
       "      <td>1.0</td>\n",
       "      <td>Urban</td>\n",
       "      <td>Y</td>\n",
       "    </tr>\n",
       "    <tr>\n",
       "      <th>3</th>\n",
       "      <td>LP001006</td>\n",
       "      <td>Male</td>\n",
       "      <td>Yes</td>\n",
       "      <td>0</td>\n",
       "      <td>Not Graduate</td>\n",
       "      <td>No</td>\n",
       "      <td>2583</td>\n",
       "      <td>2358.0</td>\n",
       "      <td>120.0</td>\n",
       "      <td>360.0</td>\n",
       "      <td>1.0</td>\n",
       "      <td>Urban</td>\n",
       "      <td>Y</td>\n",
       "    </tr>\n",
       "    <tr>\n",
       "      <th>4</th>\n",
       "      <td>LP001008</td>\n",
       "      <td>Male</td>\n",
       "      <td>No</td>\n",
       "      <td>0</td>\n",
       "      <td>Graduate</td>\n",
       "      <td>No</td>\n",
       "      <td>6000</td>\n",
       "      <td>0.0</td>\n",
       "      <td>141.0</td>\n",
       "      <td>360.0</td>\n",
       "      <td>1.0</td>\n",
       "      <td>Urban</td>\n",
       "      <td>Y</td>\n",
       "    </tr>\n",
       "  </tbody>\n",
       "</table>\n",
       "</div>"
      ],
      "text/plain": [
       "    Loan_ID Gender Married Dependents     Education Self_Employed  \\\n",
       "0  LP001002   Male      No          0      Graduate            No   \n",
       "1  LP001003   Male     Yes          1      Graduate            No   \n",
       "2  LP001005   Male     Yes          0      Graduate           Yes   \n",
       "3  LP001006   Male     Yes          0  Not Graduate            No   \n",
       "4  LP001008   Male      No          0      Graduate            No   \n",
       "\n",
       "   ApplicantIncome  CoapplicantIncome  LoanAmount  Loan_Amount_Term  \\\n",
       "0             5849                0.0         NaN             360.0   \n",
       "1             4583             1508.0       128.0             360.0   \n",
       "2             3000                0.0        66.0             360.0   \n",
       "3             2583             2358.0       120.0             360.0   \n",
       "4             6000                0.0       141.0             360.0   \n",
       "\n",
       "   Credit_History Property_Area Loan_Status  \n",
       "0             1.0         Urban           Y  \n",
       "1             1.0         Rural           N  \n",
       "2             1.0         Urban           Y  \n",
       "3             1.0         Urban           Y  \n",
       "4             1.0         Urban           Y  "
      ]
     },
     "execution_count": 269,
     "metadata": {},
     "output_type": "execute_result"
    }
   ],
   "source": [
    "df.head()"
   ]
  },
  {
   "cell_type": "code",
   "execution_count": 270,
   "metadata": {
    "execution": {
     "iopub.execute_input": "2022-11-30T22:07:31.966218Z",
     "iopub.status.busy": "2022-11-30T22:07:31.965151Z",
     "iopub.status.idle": "2022-11-30T22:07:31.981612Z",
     "shell.execute_reply": "2022-11-30T22:07:31.980152Z",
     "shell.execute_reply.started": "2022-11-30T22:07:31.966156Z"
    }
   },
   "outputs": [
    {
     "name": "stdout",
     "output_type": "stream",
     "text": [
      "<class 'pandas.core.frame.DataFrame'>\n",
      "RangeIndex: 614 entries, 0 to 613\n",
      "Data columns (total 13 columns):\n",
      " #   Column             Non-Null Count  Dtype  \n",
      "---  ------             --------------  -----  \n",
      " 0   Loan_ID            614 non-null    object \n",
      " 1   Gender             601 non-null    object \n",
      " 2   Married            611 non-null    object \n",
      " 3   Dependents         599 non-null    object \n",
      " 4   Education          614 non-null    object \n",
      " 5   Self_Employed      582 non-null    object \n",
      " 6   ApplicantIncome    614 non-null    int64  \n",
      " 7   CoapplicantIncome  614 non-null    float64\n",
      " 8   LoanAmount         592 non-null    float64\n",
      " 9   Loan_Amount_Term   600 non-null    float64\n",
      " 10  Credit_History     564 non-null    float64\n",
      " 11  Property_Area      614 non-null    object \n",
      " 12  Loan_Status        614 non-null    object \n",
      "dtypes: float64(4), int64(1), object(8)\n",
      "memory usage: 62.5+ KB\n"
     ]
    }
   ],
   "source": [
    "df.info()"
   ]
  },
  {
   "cell_type": "code",
   "execution_count": 271,
   "metadata": {
    "execution": {
     "iopub.execute_input": "2022-11-30T22:07:32.265943Z",
     "iopub.status.busy": "2022-11-30T22:07:32.265549Z",
     "iopub.status.idle": "2022-11-30T22:07:32.294692Z",
     "shell.execute_reply": "2022-11-30T22:07:32.293436Z",
     "shell.execute_reply.started": "2022-11-30T22:07:32.265912Z"
    }
   },
   "outputs": [
    {
     "data": {
      "text/html": [
       "<div>\n",
       "<style scoped>\n",
       "    .dataframe tbody tr th:only-of-type {\n",
       "        vertical-align: middle;\n",
       "    }\n",
       "\n",
       "    .dataframe tbody tr th {\n",
       "        vertical-align: top;\n",
       "    }\n",
       "\n",
       "    .dataframe thead th {\n",
       "        text-align: right;\n",
       "    }\n",
       "</style>\n",
       "<table border=\"1\" class=\"dataframe\">\n",
       "  <thead>\n",
       "    <tr style=\"text-align: right;\">\n",
       "      <th></th>\n",
       "      <th>ApplicantIncome</th>\n",
       "      <th>CoapplicantIncome</th>\n",
       "      <th>LoanAmount</th>\n",
       "      <th>Loan_Amount_Term</th>\n",
       "      <th>Credit_History</th>\n",
       "    </tr>\n",
       "  </thead>\n",
       "  <tbody>\n",
       "    <tr>\n",
       "      <th>count</th>\n",
       "      <td>614.000000</td>\n",
       "      <td>614.000000</td>\n",
       "      <td>592.000000</td>\n",
       "      <td>600.00000</td>\n",
       "      <td>564.000000</td>\n",
       "    </tr>\n",
       "    <tr>\n",
       "      <th>mean</th>\n",
       "      <td>5403.459283</td>\n",
       "      <td>1621.245798</td>\n",
       "      <td>146.412162</td>\n",
       "      <td>342.00000</td>\n",
       "      <td>0.842199</td>\n",
       "    </tr>\n",
       "    <tr>\n",
       "      <th>std</th>\n",
       "      <td>6109.041673</td>\n",
       "      <td>2926.248369</td>\n",
       "      <td>85.587325</td>\n",
       "      <td>65.12041</td>\n",
       "      <td>0.364878</td>\n",
       "    </tr>\n",
       "    <tr>\n",
       "      <th>min</th>\n",
       "      <td>150.000000</td>\n",
       "      <td>0.000000</td>\n",
       "      <td>9.000000</td>\n",
       "      <td>12.00000</td>\n",
       "      <td>0.000000</td>\n",
       "    </tr>\n",
       "    <tr>\n",
       "      <th>25%</th>\n",
       "      <td>2877.500000</td>\n",
       "      <td>0.000000</td>\n",
       "      <td>100.000000</td>\n",
       "      <td>360.00000</td>\n",
       "      <td>1.000000</td>\n",
       "    </tr>\n",
       "    <tr>\n",
       "      <th>50%</th>\n",
       "      <td>3812.500000</td>\n",
       "      <td>1188.500000</td>\n",
       "      <td>128.000000</td>\n",
       "      <td>360.00000</td>\n",
       "      <td>1.000000</td>\n",
       "    </tr>\n",
       "    <tr>\n",
       "      <th>75%</th>\n",
       "      <td>5795.000000</td>\n",
       "      <td>2297.250000</td>\n",
       "      <td>168.000000</td>\n",
       "      <td>360.00000</td>\n",
       "      <td>1.000000</td>\n",
       "    </tr>\n",
       "    <tr>\n",
       "      <th>max</th>\n",
       "      <td>81000.000000</td>\n",
       "      <td>41667.000000</td>\n",
       "      <td>700.000000</td>\n",
       "      <td>480.00000</td>\n",
       "      <td>1.000000</td>\n",
       "    </tr>\n",
       "  </tbody>\n",
       "</table>\n",
       "</div>"
      ],
      "text/plain": [
       "       ApplicantIncome  CoapplicantIncome  LoanAmount  Loan_Amount_Term  \\\n",
       "count       614.000000         614.000000  592.000000         600.00000   \n",
       "mean       5403.459283        1621.245798  146.412162         342.00000   \n",
       "std        6109.041673        2926.248369   85.587325          65.12041   \n",
       "min         150.000000           0.000000    9.000000          12.00000   \n",
       "25%        2877.500000           0.000000  100.000000         360.00000   \n",
       "50%        3812.500000        1188.500000  128.000000         360.00000   \n",
       "75%        5795.000000        2297.250000  168.000000         360.00000   \n",
       "max       81000.000000       41667.000000  700.000000         480.00000   \n",
       "\n",
       "       Credit_History  \n",
       "count      564.000000  \n",
       "mean         0.842199  \n",
       "std          0.364878  \n",
       "min          0.000000  \n",
       "25%          1.000000  \n",
       "50%          1.000000  \n",
       "75%          1.000000  \n",
       "max          1.000000  "
      ]
     },
     "execution_count": 271,
     "metadata": {},
     "output_type": "execute_result"
    }
   ],
   "source": [
    "df.describe()"
   ]
  },
  {
   "cell_type": "code",
   "execution_count": 272,
   "metadata": {
    "execution": {
     "iopub.execute_input": "2022-11-30T22:07:33.006431Z",
     "iopub.status.busy": "2022-11-30T22:07:33.005299Z",
     "iopub.status.idle": "2022-11-30T22:07:33.013876Z",
     "shell.execute_reply": "2022-11-30T22:07:33.013007Z",
     "shell.execute_reply.started": "2022-11-30T22:07:33.006390Z"
    }
   },
   "outputs": [
    {
     "data": {
      "text/plain": [
       "Loan_ID               object\n",
       "Gender                object\n",
       "Married               object\n",
       "Dependents            object\n",
       "Education             object\n",
       "Self_Employed         object\n",
       "ApplicantIncome        int64\n",
       "CoapplicantIncome    float64\n",
       "LoanAmount           float64\n",
       "Loan_Amount_Term     float64\n",
       "Credit_History       float64\n",
       "Property_Area         object\n",
       "Loan_Status           object\n",
       "dtype: object"
      ]
     },
     "execution_count": 272,
     "metadata": {},
     "output_type": "execute_result"
    }
   ],
   "source": [
    "df.dtypes"
   ]
  },
  {
   "cell_type": "code",
   "execution_count": 273,
   "metadata": {
    "execution": {
     "iopub.execute_input": "2022-11-30T22:07:33.759218Z",
     "iopub.status.busy": "2022-11-30T22:07:33.758153Z",
     "iopub.status.idle": "2022-11-30T22:07:33.771139Z",
     "shell.execute_reply": "2022-11-30T22:07:33.769791Z",
     "shell.execute_reply.started": "2022-11-30T22:07:33.759175Z"
    }
   },
   "outputs": [
    {
     "data": {
      "text/plain": [
       "Loan_ID              0.000000\n",
       "Gender               2.117264\n",
       "Married              0.488599\n",
       "Dependents           2.442997\n",
       "Education            0.000000\n",
       "Self_Employed        5.211726\n",
       "ApplicantIncome      0.000000\n",
       "CoapplicantIncome    0.000000\n",
       "LoanAmount           3.583062\n",
       "Loan_Amount_Term     2.280130\n",
       "Credit_History       8.143322\n",
       "Property_Area        0.000000\n",
       "Loan_Status          0.000000\n",
       "dtype: float64"
      ]
     },
     "execution_count": 273,
     "metadata": {},
     "output_type": "execute_result"
    }
   ],
   "source": [
    "(df.isnull().sum()/len(df)) * 100"
   ]
  },
  {
   "cell_type": "markdown",
   "metadata": {},
   "source": [
    "## <font color='blue'> 2. Data Analysis. </font>"
   ]
  },
  {
   "cell_type": "markdown",
   "metadata": {},
   "source": [
    "#### Verifying the correlation between our variables."
   ]
  },
  {
   "cell_type": "markdown",
   "metadata": {},
   "source": [
    "#### We can see that we don't have strong correlation between the variables."
   ]
  },
  {
   "cell_type": "code",
   "execution_count": 274,
   "metadata": {
    "execution": {
     "iopub.execute_input": "2022-11-30T22:08:25.306745Z",
     "iopub.status.busy": "2022-11-30T22:08:25.306322Z",
     "iopub.status.idle": "2022-11-30T22:08:25.727328Z",
     "shell.execute_reply": "2022-11-30T22:08:25.726168Z",
     "shell.execute_reply.started": "2022-11-30T22:08:25.306708Z"
    }
   },
   "outputs": [
    {
     "data": {
      "text/plain": [
       "<AxesSubplot:>"
      ]
     },
     "execution_count": 274,
     "metadata": {},
     "output_type": "execute_result"
    },
    {
     "data": {
      "image/png": "[encoded data removed]",
      "text/plain": [
       "<Figure size 1008x504 with 2 Axes>"
      ]
     },
     "metadata": {},
     "output_type": "display_data"
    }
   ],
   "source": [
    "correlation = df.corr().round(2)\n",
    "plt.figure(figsize = (14,7))\n",
    "sns.heatmap(correlation, annot = True, cmap = 'YlOrBr')"
   ]
  },
  {
   "cell_type": "markdown",
   "metadata": {},
   "source": [
    "#### Categorical Variables"
   ]
  },
  {
   "cell_type": "markdown",
   "metadata": {},
   "source": [
    "#### Here we can see that we have many more men than women, that the majority of requests are made by married people, in most of our data the applicant does not have dependents but when he does, we do not have much variation in the number of dependents, most of the our data are from people who have graduated and do not work on their own, when we look at the type of residence of the applicant we can see that we have a good distribution, most of our data has the credit history and when we look at our target variable we can see that we have much more Y value than N."
   ]
  },
  {
   "cell_type": "code",
   "execution_count": 275,
   "metadata": {
    "execution": {
     "iopub.execute_input": "2022-11-30T22:09:01.490546Z",
     "iopub.status.busy": "2022-11-30T22:09:01.490151Z",
     "iopub.status.idle": "2022-11-30T22:09:02.692445Z",
     "shell.execute_reply": "2022-11-30T22:09:02.691253Z",
     "shell.execute_reply.started": "2022-11-30T22:09:01.490515Z"
    }
   },
   "outputs": [
    {
     "data": {
      "text/plain": [
       "<AxesSubplot:xlabel='Credit_History', ylabel='count'>"
      ]
     },
     "execution_count": 275,
     "metadata": {},
     "output_type": "execute_result"
    },
    {
     "data": {
      "image/png": "[encoded data removed]",
      "text/plain": [
       "<Figure size 1800x1440 with 8 Axes>"
      ]
     },
     "metadata": {},
     "output_type": "display_data"
    }
   ],
   "source": [
    "plt.figure(figsize = (25,20))\n",
    "\n",
    "plt.subplot(4,2,1)\n",
    "sns.countplot(x = 'Gender', palette = 'Set2', data = df)\n",
    "\n",
    "plt.subplot(4,2,2)\n",
    "sns.countplot(x = 'Married', palette = 'Set2', data = df)\n",
    "\n",
    "plt.subplot(4,2,3)\n",
    "sns.countplot(x = 'Dependents', palette = 'Set2', data = df)\n",
    "\n",
    "plt.subplot(4,2,4)\n",
    "sns.countplot(x = 'Education', palette = 'Set2', data = df)\n",
    "\n",
    "plt.subplot(4,2,5)\n",
    "sns.countplot(x = 'Self_Employed', palette = 'Set2', data = df)\n",
    "\n",
    "plt.subplot(4,2,6)\n",
    "sns.countplot(x = 'Property_Area', palette = 'Set2', data = df)\n",
    "\n",
    "plt.subplot(4,2,7)\n",
    "sns.countplot(x = 'Loan_Status', palette = 'Set2', data = df)\n",
    "\n",
    "plt.subplot(4,2,8)\n",
    "sns.countplot(x = 'Credit_History', palette = 'Set2', data = df)"
   ]
  },
  {
   "cell_type": "markdown",
   "metadata": {},
   "source": [
    "#### Continuous Variable"
   ]
  },
  {
   "cell_type": "markdown",
   "metadata": {},
   "source": [
    "#### When we look at our continuous variables we can see that all low values ​​have a large amount of samples and the more the value increases, the more the number of data decreases."
   ]
  },
  {
   "cell_type": "code",
   "execution_count": 276,
   "metadata": {
    "execution": {
     "iopub.execute_input": "2022-11-30T22:12:06.715031Z",
     "iopub.status.busy": "2022-11-30T22:12:06.713946Z",
     "iopub.status.idle": "2022-11-30T22:12:07.892162Z",
     "shell.execute_reply": "2022-11-30T22:12:07.891194Z",
     "shell.execute_reply.started": "2022-11-30T22:12:06.714988Z"
    }
   },
   "outputs": [
    {
     "name": "stderr",
     "output_type": "stream",
     "text": [
      "/opt/conda/lib/python3.7/site-packages/seaborn/distributions.py:2619: FutureWarning: `distplot` is a deprecated function and will be removed in a future version. Please adapt your code to use either `displot` (a figure-level function with similar flexibility) or `histplot` (an axes-level function for histograms).\n",
      "  warnings.warn(msg, FutureWarning)\n"
     ]
    },
    {
     "data": {
      "text/plain": [
       "<AxesSubplot:xlabel='Loan_Amount_Term'>"
      ]
     },
     "execution_count": 276,
     "metadata": {},
     "output_type": "execute_result"
    },
    {
     "data": {
      "image/png": "[encoded data removed]",
      "text/plain": [
       "<Figure size 1440x1080 with 4 Axes>"
      ]
     },
     "metadata": {},
     "output_type": "display_data"
    }
   ],
   "source": [
    "plt.figure(figsize = (20,15))\n",
    "sns.set(color_codes = True)\n",
    "\n",
    "plt.subplot(3,2,1)\n",
    "sns.distplot(df['ApplicantIncome'], kde = False)\n",
    "\n",
    "plt.subplot(3,2,2)\n",
    "sns.distplot(df['CoapplicantIncome'], kde = False)\n",
    "\n",
    "plt.subplot(3,2,3)\n",
    "sns.distplot(df['LoanAmount'], kde = False)\n",
    "\n",
    "plt.subplot(3,2,4)\n",
    "sns.distplot(df['Loan_Amount_Term'], kde = False)"
   ]
  },
  {
   "cell_type": "markdown",
   "metadata": {},
   "source": [
    "#### Looking at the boxplot of our continuous variables we can see that we have some values ​​considered \"outliers\" but for the moment we will leave them here."
   ]
  },
  {
   "cell_type": "code",
   "execution_count": 277,
   "metadata": {
    "execution": {
     "iopub.execute_input": "2022-11-30T22:13:38.426549Z",
     "iopub.status.busy": "2022-11-30T22:13:38.426127Z",
     "iopub.status.idle": "2022-11-30T22:13:38.698192Z",
     "shell.execute_reply": "2022-11-30T22:13:38.696746Z",
     "shell.execute_reply.started": "2022-11-30T22:13:38.426510Z"
    }
   },
   "outputs": [
    {
     "data": {
      "text/plain": [
       "<AxesSubplot:xlabel='ApplicantIncome'>"
      ]
     },
     "execution_count": 277,
     "metadata": {},
     "output_type": "execute_result"
    },
    {
     "data": {
      "image/png": "[encoded data removed]",
      "text/plain": [
       "<Figure size 576x396 with 1 Axes>"
      ]
     },
     "metadata": {},
     "output_type": "display_data"
    }
   ],
   "source": [
    "sns.boxplot(x=df[\"ApplicantIncome\"])"
   ]
  },
  {
   "cell_type": "code",
   "execution_count": 278,
   "metadata": {
    "execution": {
     "iopub.execute_input": "2022-11-30T22:13:39.396883Z",
     "iopub.status.busy": "2022-11-30T22:13:39.395720Z",
     "iopub.status.idle": "2022-11-30T22:13:39.622356Z",
     "shell.execute_reply": "2022-11-30T22:13:39.620946Z",
     "shell.execute_reply.started": "2022-11-30T22:13:39.396829Z"
    }
   },
   "outputs": [
    {
     "data": {
      "text/plain": [
       "<AxesSubplot:xlabel='CoapplicantIncome'>"
      ]
     },
     "execution_count": 278,
     "metadata": {},
     "output_type": "execute_result"
    },
    {
     "data": {
      "image/png": "[encoded data removed]",
      "text/plain": [
       "<Figure size 576x396 with 1 Axes>"
      ]
     },
     "metadata": {},
     "output_type": "display_data"
    }
   ],
   "source": [
    "sns.boxplot(x=df[\"CoapplicantIncome\"])"
   ]
  },
  {
   "cell_type": "code",
   "execution_count": 279,
   "metadata": {
    "execution": {
     "iopub.execute_input": "2022-11-30T22:13:40.016344Z",
     "iopub.status.busy": "2022-11-30T22:13:40.015265Z",
     "iopub.status.idle": "2022-11-30T22:13:40.261323Z",
     "shell.execute_reply": "2022-11-30T22:13:40.260125Z",
     "shell.execute_reply.started": "2022-11-30T22:13:40.016299Z"
    }
   },
   "outputs": [
    {
     "data": {
      "text/plain": [
       "<AxesSubplot:xlabel='LoanAmount'>"
      ]
     },
     "execution_count": 279,
     "metadata": {},
     "output_type": "execute_result"
    },
    {
     "data": {
      "image/png": "[encoded data removed]",
      "text/plain": [
       "<Figure size 576x396 with 1 Axes>"
      ]
     },
     "metadata": {},
     "output_type": "display_data"
    }
   ],
   "source": [
    "sns.boxplot(x=df[\"LoanAmount\"])"
   ]
  },
  {
   "cell_type": "markdown",
   "metadata": {},
   "source": [
    "#### Bivariate Analysis"
   ]
  },
  {
   "cell_type": "markdown",
   "metadata": {},
   "source": [
    "#### When we compare our categorical variables here with the target variable, the most distorted data is the Credit History variable, if we have the applicant's credit history, it is very likely that he will receive Y as a result, if he does not have it, it is likely that he will receive N."
   ]
  },
  {
   "cell_type": "code",
   "execution_count": 280,
   "metadata": {
    "execution": {
     "iopub.execute_input": "2022-11-30T22:14:28.264928Z",
     "iopub.status.busy": "2022-11-30T22:14:28.264179Z",
     "iopub.status.idle": "2022-11-30T22:14:29.482755Z",
     "shell.execute_reply": "2022-11-30T22:14:29.481512Z",
     "shell.execute_reply.started": "2022-11-30T22:14:28.264888Z"
    }
   },
   "outputs": [
    {
     "data": {
      "text/plain": [
       "<AxesSubplot:xlabel='Credit_History', ylabel='count'>"
      ]
     },
     "execution_count": 280,
     "metadata": {},
     "output_type": "execute_result"
    },
    {
     "data": {
      "image/png": "[encoded data removed]",
      "text/plain": [
       "<Figure size 1800x1440 with 7 Axes>"
      ]
     },
     "metadata": {},
     "output_type": "display_data"
    }
   ],
   "source": [
    "plt.figure(figsize = (25,20))\n",
    "\n",
    "plt.subplot(4,2,1)\n",
    "sns.countplot(x = 'Gender', hue = 'Loan_Status', palette = 'Set2', data = df)\n",
    "\n",
    "plt.subplot(4,2,2)\n",
    "sns.countplot(x = 'Married', hue = 'Loan_Status',palette = 'Set2', data = df)\n",
    "\n",
    "plt.subplot(4,2,3)\n",
    "sns.countplot(x = 'Dependents', hue = 'Loan_Status', palette = 'Set2', data = df)\n",
    "\n",
    "plt.subplot(4,2,4)\n",
    "sns.countplot(x = 'Education', hue = 'Loan_Status', palette = 'Set2', data = df)\n",
    "\n",
    "plt.subplot(4,2,5)\n",
    "sns.countplot(x = 'Self_Employed', hue = 'Loan_Status', palette = 'Set2', data = df)\n",
    "\n",
    "plt.subplot(4,2,6)\n",
    "sns.countplot(x = 'Property_Area', hue = 'Loan_Status', palette = 'Set2', data = df)\n",
    "\n",
    "plt.subplot(4,2,7)\n",
    "sns.countplot(x = 'Credit_History', hue = 'Loan_Status', palette = 'Set2', data = df)"
   ]
  },
  {
   "cell_type": "markdown",
   "metadata": {},
   "source": [
    "#### Looking at our continuous variables, we don't see much difference when compared to our target variable."
   ]
  },
  {
   "cell_type": "code",
   "execution_count": 282,
   "metadata": {
    "execution": {
     "iopub.execute_input": "2022-11-30T22:14:30.036134Z",
     "iopub.status.busy": "2022-11-30T22:14:30.035248Z",
     "iopub.status.idle": "2022-11-30T22:14:30.362809Z",
     "shell.execute_reply": "2022-11-30T22:14:30.361360Z",
     "shell.execute_reply.started": "2022-11-30T22:14:30.036062Z"
    }
   },
   "outputs": [
    {
     "data": {
      "text/plain": [
       "<seaborn.axisgrid.FacetGrid at 0x7f57c36cad90>"
      ]
     },
     "execution_count": 282,
     "metadata": {},
     "output_type": "execute_result"
    },
    {
     "data": {
      "image/png": "[encoded data removed]",
      "text/plain": [
       "<Figure size 360x360 with 1 Axes>"
      ]
     },
     "metadata": {},
     "output_type": "display_data"
    }
   ],
   "source": [
    "sns.catplot(x = 'Loan_Status', y=\"ApplicantIncome\", kind=\"box\", data = df)"
   ]
  },
  {
   "cell_type": "code",
   "execution_count": 283,
   "metadata": {
    "execution": {
     "iopub.execute_input": "2022-11-30T22:14:30.718833Z",
     "iopub.status.busy": "2022-11-30T22:14:30.718444Z",
     "iopub.status.idle": "2022-11-30T22:14:31.016796Z",
     "shell.execute_reply": "2022-11-30T22:14:31.015752Z",
     "shell.execute_reply.started": "2022-11-30T22:14:30.718800Z"
    }
   },
   "outputs": [
    {
     "data": {
      "text/plain": [
       "<seaborn.axisgrid.FacetGrid at 0x7f57c3727890>"
      ]
     },
     "execution_count": 283,
     "metadata": {},
     "output_type": "execute_result"
    },
    {
     "data": {
      "image/png": "[encoded data removed]",
      "text/plain": [
       "<Figure size 360x360 with 1 Axes>"
      ]
     },
     "metadata": {},
     "output_type": "display_data"
    }
   ],
   "source": [
    "sns.catplot(x = 'Loan_Status', y=\"CoapplicantIncome\", kind=\"box\", data = df)"
   ]
  },
  {
   "cell_type": "code",
   "execution_count": 284,
   "metadata": {
    "execution": {
     "iopub.execute_input": "2022-11-30T22:14:31.585830Z",
     "iopub.status.busy": "2022-11-30T22:14:31.585389Z",
     "iopub.status.idle": "2022-11-30T22:14:31.907122Z",
     "shell.execute_reply": "2022-11-30T22:14:31.906238Z",
     "shell.execute_reply.started": "2022-11-30T22:14:31.585791Z"
    }
   },
   "outputs": [
    {
     "data": {
      "text/plain": [
       "<seaborn.axisgrid.FacetGrid at 0x7f57c37573d0>"
      ]
     },
     "execution_count": 284,
     "metadata": {},
     "output_type": "execute_result"
    },
    {
     "data": {
      "image/png": "[encoded data removed]",
      "text/plain": [
       "<Figure size 360x360 with 1 Axes>"
      ]
     },
     "metadata": {},
     "output_type": "display_data"
    }
   ],
   "source": [
    "sns.catplot(x = 'Loan_Status', y=\"LoanAmount\", kind=\"box\", data = df)"
   ]
  },
  {
   "cell_type": "markdown",
   "metadata": {},
   "source": [
    "## <font color='blue'> 3. Pré Processing. </font>"
   ]
  },
  {
   "cell_type": "markdown",
   "metadata": {},
   "source": [
    "#### Here, in the pre-processing part, we will deal with the null values ​​that we have in our base."
   ]
  },
  {
   "cell_type": "code",
   "execution_count": 183,
   "metadata": {
    "execution": {
     "iopub.execute_input": "2022-11-30T21:58:54.257182Z",
     "iopub.status.busy": "2022-11-30T21:58:54.255968Z",
     "iopub.status.idle": "2022-11-30T21:58:54.269965Z",
     "shell.execute_reply": "2022-11-30T21:58:54.268445Z",
     "shell.execute_reply.started": "2022-11-30T21:58:54.257129Z"
    }
   },
   "outputs": [
    {
     "data": {
      "text/plain": [
       "Loan_ID              0.000000\n",
       "Gender               2.076125\n",
       "Married              0.346021\n",
       "Dependents           2.249135\n",
       "Education            0.000000\n",
       "Self_Employed        5.017301\n",
       "ApplicantIncome      0.000000\n",
       "CoapplicantIncome    0.000000\n",
       "LoanAmount           0.000000\n",
       "Loan_Amount_Term     2.422145\n",
       "Credit_History       8.131488\n",
       "Property_Area        0.000000\n",
       "Loan_Status          0.000000\n",
       "dtype: float64"
      ]
     },
     "execution_count": 183,
     "metadata": {},
     "output_type": "execute_result"
    }
   ],
   "source": [
    "(df.isnull().sum()/len(df)) * 100"
   ]
  },
  {
   "cell_type": "markdown",
   "metadata": {},
   "source": [
    "#### First, let's remove all the null values ​​we have from the credit_history variable, as we saw earlier this is a very important variable for the model, and we can't say that we have the applicant's credit history when we don't, in terms of business this can be very dangerous."
   ]
  },
  {
   "cell_type": "code",
   "execution_count": 311,
   "metadata": {
    "execution": {
     "iopub.execute_input": "2022-11-30T22:24:30.517080Z",
     "iopub.status.busy": "2022-11-30T22:24:30.516679Z",
     "iopub.status.idle": "2022-11-30T22:24:30.523314Z",
     "shell.execute_reply": "2022-11-30T22:24:30.522421Z",
     "shell.execute_reply.started": "2022-11-30T22:24:30.517046Z"
    }
   },
   "outputs": [],
   "source": [
    "df = df[df['Credit_History'].notnull()]"
   ]
  },
  {
   "cell_type": "markdown",
   "metadata": {},
   "source": [
    "#### Here we will fill the null values of the variables Gender, Married, Dependents and Self_Employed with the mode"
   ]
  },
  {
   "cell_type": "code",
   "execution_count": 312,
   "metadata": {
    "execution": {
     "iopub.execute_input": "2022-11-30T22:24:30.916279Z",
     "iopub.status.busy": "2022-11-30T22:24:30.915233Z",
     "iopub.status.idle": "2022-11-30T22:24:30.927037Z",
     "shell.execute_reply": "2022-11-30T22:24:30.925710Z",
     "shell.execute_reply.started": "2022-11-30T22:24:30.916228Z"
    }
   },
   "outputs": [],
   "source": [
    "df['Gender']=df['Gender'].fillna(df['Gender'].mode()[0])\n",
    "df['Married']=df['Married'].fillna(df['Married'].mode()[0])\n",
    "df['Dependents']=df['Dependents'].fillna(df['Dependents'].mode()[0])\n",
    "df['Self_Employed']=df['Self_Employed'].fillna(df['Self_Employed'].mode()[0])"
   ]
  },
  {
   "cell_type": "markdown",
   "metadata": {},
   "source": [
    "#### Here we will fill the null values of the variables LoanAmount and Loan_Amount_Term with the Mean"
   ]
  },
  {
   "cell_type": "code",
   "execution_count": 313,
   "metadata": {
    "execution": {
     "iopub.execute_input": "2022-11-30T22:24:31.535754Z",
     "iopub.status.busy": "2022-11-30T22:24:31.535372Z",
     "iopub.status.idle": "2022-11-30T22:24:31.543182Z",
     "shell.execute_reply": "2022-11-30T22:24:31.541716Z",
     "shell.execute_reply.started": "2022-11-30T22:24:31.535721Z"
    }
   },
   "outputs": [],
   "source": [
    "df['LoanAmount']=df['LoanAmount'].fillna(df['LoanAmount'].mean())\n",
    "df['Loan_Amount_Term']=df['Loan_Amount_Term'].fillna(df['Loan_Amount_Term'].mean())"
   ]
  },
  {
   "cell_type": "markdown",
   "metadata": {},
   "source": [
    "#### Here we can see that we no longer have null values."
   ]
  },
  {
   "cell_type": "code",
   "execution_count": 314,
   "metadata": {
    "execution": {
     "iopub.execute_input": "2022-11-30T22:24:32.478681Z",
     "iopub.status.busy": "2022-11-30T22:24:32.478271Z",
     "iopub.status.idle": "2022-11-30T22:24:32.491544Z",
     "shell.execute_reply": "2022-11-30T22:24:32.490175Z",
     "shell.execute_reply.started": "2022-11-30T22:24:32.478647Z"
    }
   },
   "outputs": [
    {
     "data": {
      "text/plain": [
       "Loan_ID              0.0\n",
       "Gender               0.0\n",
       "Married              0.0\n",
       "Dependents           0.0\n",
       "Education            0.0\n",
       "Self_Employed        0.0\n",
       "ApplicantIncome      0.0\n",
       "CoapplicantIncome    0.0\n",
       "LoanAmount           0.0\n",
       "Loan_Amount_Term     0.0\n",
       "Credit_History       0.0\n",
       "Property_Area        0.0\n",
       "Loan_Status          0.0\n",
       "dtype: float64"
      ]
     },
     "execution_count": 314,
     "metadata": {},
     "output_type": "execute_result"
    }
   ],
   "source": [
    "(df.isnull().sum()/len(df)) * 100"
   ]
  },
  {
   "cell_type": "markdown",
   "metadata": {},
   "source": [
    "## <font color='blue'> 4. Model Building. </font>"
   ]
  },
  {
   "cell_type": "markdown",
   "metadata": {},
   "source": [
    "#### Here we will remove the LoanID variable that will not be used"
   ]
  },
  {
   "cell_type": "code",
   "execution_count": 315,
   "metadata": {
    "execution": {
     "iopub.execute_input": "2022-11-30T22:24:33.795876Z",
     "iopub.status.busy": "2022-11-30T22:24:33.795456Z",
     "iopub.status.idle": "2022-11-30T22:24:33.802579Z",
     "shell.execute_reply": "2022-11-30T22:24:33.801293Z",
     "shell.execute_reply.started": "2022-11-30T22:24:33.795838Z"
    }
   },
   "outputs": [],
   "source": [
    "df = df.drop('Loan_ID', axis = 1)"
   ]
  },
  {
   "cell_type": "markdown",
   "metadata": {},
   "source": [
    "#### Separating into features variables and target variable."
   ]
  },
  {
   "cell_type": "code",
   "execution_count": 316,
   "metadata": {
    "execution": {
     "iopub.execute_input": "2022-11-30T22:24:34.955932Z",
     "iopub.status.busy": "2022-11-30T22:24:34.955528Z",
     "iopub.status.idle": "2022-11-30T22:24:34.962862Z",
     "shell.execute_reply": "2022-11-30T22:24:34.961194Z",
     "shell.execute_reply.started": "2022-11-30T22:24:34.955899Z"
    }
   },
   "outputs": [],
   "source": [
    "X = df.drop('Loan_Status', axis = 1)"
   ]
  },
  {
   "cell_type": "code",
   "execution_count": 317,
   "metadata": {
    "execution": {
     "iopub.execute_input": "2022-11-30T22:24:35.195697Z",
     "iopub.status.busy": "2022-11-30T22:24:35.195277Z",
     "iopub.status.idle": "2022-11-30T22:24:35.200643Z",
     "shell.execute_reply": "2022-11-30T22:24:35.199696Z",
     "shell.execute_reply.started": "2022-11-30T22:24:35.195658Z"
    }
   },
   "outputs": [],
   "source": [
    "X = X.values"
   ]
  },
  {
   "cell_type": "code",
   "execution_count": 318,
   "metadata": {
    "execution": {
     "iopub.execute_input": "2022-11-30T22:24:35.535680Z",
     "iopub.status.busy": "2022-11-30T22:24:35.535292Z",
     "iopub.status.idle": "2022-11-30T22:24:35.541446Z",
     "shell.execute_reply": "2022-11-30T22:24:35.540021Z",
     "shell.execute_reply.started": "2022-11-30T22:24:35.535647Z"
    }
   },
   "outputs": [],
   "source": [
    "y = df['Loan_Status']"
   ]
  },
  {
   "cell_type": "markdown",
   "metadata": {},
   "source": [
    "#### Balancing Class"
   ]
  },
  {
   "cell_type": "markdown",
   "metadata": {},
   "source": [
    "#### As we have many values ​​of a class and few values ​​of others, we will balance the classes using OverSampling to make the classes balanced."
   ]
  },
  {
   "cell_type": "code",
   "execution_count": 319,
   "metadata": {
    "execution": {
     "iopub.execute_input": "2022-11-30T22:24:36.476458Z",
     "iopub.status.busy": "2022-11-30T22:24:36.475514Z",
     "iopub.status.idle": "2022-11-30T22:24:36.481520Z",
     "shell.execute_reply": "2022-11-30T22:24:36.480370Z",
     "shell.execute_reply.started": "2022-11-30T22:24:36.476410Z"
    }
   },
   "outputs": [],
   "source": [
    "from imblearn.over_sampling import RandomOverSampler"
   ]
  },
  {
   "cell_type": "code",
   "execution_count": 320,
   "metadata": {
    "execution": {
     "iopub.execute_input": "2022-11-30T22:24:36.677168Z",
     "iopub.status.busy": "2022-11-30T22:24:36.676763Z",
     "iopub.status.idle": "2022-11-30T22:24:36.681937Z",
     "shell.execute_reply": "2022-11-30T22:24:36.680854Z",
     "shell.execute_reply.started": "2022-11-30T22:24:36.677134Z"
    }
   },
   "outputs": [],
   "source": [
    "ros = RandomOverSampler(random_state=0)"
   ]
  },
  {
   "cell_type": "code",
   "execution_count": 321,
   "metadata": {
    "execution": {
     "iopub.execute_input": "2022-11-30T22:24:36.968712Z",
     "iopub.status.busy": "2022-11-30T22:24:36.968259Z",
     "iopub.status.idle": "2022-11-30T22:24:36.977862Z",
     "shell.execute_reply": "2022-11-30T22:24:36.976658Z",
     "shell.execute_reply.started": "2022-11-30T22:24:36.968669Z"
    }
   },
   "outputs": [],
   "source": [
    "X, y = ros.fit_resample(X, y)"
   ]
  },
  {
   "cell_type": "code",
   "execution_count": 322,
   "metadata": {
    "execution": {
     "iopub.execute_input": "2022-11-30T22:24:37.235637Z",
     "iopub.status.busy": "2022-11-30T22:24:37.235227Z",
     "iopub.status.idle": "2022-11-30T22:24:37.448219Z",
     "shell.execute_reply": "2022-11-30T22:24:37.447060Z",
     "shell.execute_reply.started": "2022-11-30T22:24:37.235604Z"
    }
   },
   "outputs": [
    {
     "data": {
      "image/png": "[encoded data removed]",
      "text/plain": [
       "<Figure size 576x396 with 1 Axes>"
      ]
     },
     "metadata": {},
     "output_type": "display_data"
    }
   ],
   "source": [
    "ax = sns.countplot(x=y)"
   ]
  },
  {
   "cell_type": "markdown",
   "metadata": {},
   "source": [
    "#### Label Encoder"
   ]
  },
  {
   "cell_type": "markdown",
   "metadata": {},
   "source": [
    "#### Here we are going to use the LabelEncoder to transform our categorical variables into numeric variables."
   ]
  },
  {
   "cell_type": "code",
   "execution_count": 323,
   "metadata": {
    "execution": {
     "iopub.execute_input": "2022-11-30T22:24:38.637368Z",
     "iopub.status.busy": "2022-11-30T22:24:38.635764Z",
     "iopub.status.idle": "2022-11-30T22:24:38.643450Z",
     "shell.execute_reply": "2022-11-30T22:24:38.642071Z",
     "shell.execute_reply.started": "2022-11-30T22:24:38.637305Z"
    }
   },
   "outputs": [],
   "source": [
    "from sklearn.preprocessing import LabelEncoder"
   ]
  },
  {
   "cell_type": "code",
   "execution_count": 324,
   "metadata": {
    "execution": {
     "iopub.execute_input": "2022-11-30T22:24:38.855816Z",
     "iopub.status.busy": "2022-11-30T22:24:38.855409Z",
     "iopub.status.idle": "2022-11-30T22:24:38.861955Z",
     "shell.execute_reply": "2022-11-30T22:24:38.860773Z",
     "shell.execute_reply.started": "2022-11-30T22:24:38.855780Z"
    }
   },
   "outputs": [],
   "source": [
    "label_encoder_Gender = LabelEncoder()\n",
    "label_encoder_Married = LabelEncoder()\n",
    "label_encoder_Dependents = LabelEncoder()\n",
    "label_encoder_Education = LabelEncoder()\n",
    "label_encoder_Self_Employed = LabelEncoder()\n",
    "label_encoder_Property_Area = LabelEncoder()\n",
    "label_encoder_Loan_Status = LabelEncoder()"
   ]
  },
  {
   "cell_type": "code",
   "execution_count": 325,
   "metadata": {
    "execution": {
     "iopub.execute_input": "2022-11-30T22:24:39.386044Z",
     "iopub.status.busy": "2022-11-30T22:24:39.385636Z",
     "iopub.status.idle": "2022-11-30T22:24:39.396416Z",
     "shell.execute_reply": "2022-11-30T22:24:39.394839Z",
     "shell.execute_reply.started": "2022-11-30T22:24:39.386012Z"
    }
   },
   "outputs": [],
   "source": [
    "X[:,0] = label_encoder_Gender.fit_transform(X[:,0])\n",
    "X[:,1] = label_encoder_Married.fit_transform(X[:,1])\n",
    "X[:,2] = label_encoder_Dependents.fit_transform(X[:,2])\n",
    "X[:,3] = label_encoder_Education.fit_transform(X[:,3])\n",
    "X[:,4] = label_encoder_Self_Employed.fit_transform(X[:,4])\n",
    "X[:,10] = label_encoder_Property_Area.fit_transform(X[:,10])\n",
    "y = label_encoder_Loan_Status.fit_transform(y)"
   ]
  },
  {
   "cell_type": "markdown",
   "metadata": {},
   "source": [
    "#### We will run the models before scaling the data, after we will back here to run the StandardScaler and verify if we have best results using the scaling."
   ]
  },
  {
   "cell_type": "markdown",
   "metadata": {},
   "source": [
    "#### StandardScaler"
   ]
  },
  {
   "cell_type": "code",
   "execution_count": 421,
   "metadata": {
    "execution": {
     "iopub.execute_input": "2022-11-30T22:48:04.073942Z",
     "iopub.status.busy": "2022-11-30T22:48:04.073528Z",
     "iopub.status.idle": "2022-11-30T22:48:04.081287Z",
     "shell.execute_reply": "2022-11-30T22:48:04.080467Z",
     "shell.execute_reply.started": "2022-11-30T22:48:04.073907Z"
    }
   },
   "outputs": [],
   "source": [
    "from sklearn.preprocessing import StandardScaler\n",
    "scaler = StandardScaler()\n",
    "X_standard = scaler.fit_transform(X)"
   ]
  },
  {
   "cell_type": "markdown",
   "metadata": {},
   "source": [
    "#### Transforming Data into Train e Test, here we will use 30% of our data to test the machine learning models."
   ]
  },
  {
   "cell_type": "code",
   "execution_count": 327,
   "metadata": {
    "execution": {
     "iopub.execute_input": "2022-11-30T22:24:42.385837Z",
     "iopub.status.busy": "2022-11-30T22:24:42.385436Z",
     "iopub.status.idle": "2022-11-30T22:24:42.392269Z",
     "shell.execute_reply": "2022-11-30T22:24:42.390887Z",
     "shell.execute_reply.started": "2022-11-30T22:24:42.385803Z"
    }
   },
   "outputs": [],
   "source": [
    "from sklearn.model_selection import train_test_split"
   ]
  },
  {
   "cell_type": "code",
   "execution_count": 422,
   "metadata": {
    "execution": {
     "iopub.execute_input": "2022-11-30T22:48:09.914674Z",
     "iopub.status.busy": "2022-11-30T22:48:09.914279Z",
     "iopub.status.idle": "2022-11-30T22:48:09.921692Z",
     "shell.execute_reply": "2022-11-30T22:48:09.920549Z",
     "shell.execute_reply.started": "2022-11-30T22:48:09.914640Z"
    }
   },
   "outputs": [],
   "source": [
    "X_train, X_test, y_train, y_test = train_test_split(X_standard, y, test_size = 0.3, random_state = 0)"
   ]
  },
  {
   "cell_type": "code",
   "execution_count": 423,
   "metadata": {
    "execution": {
     "iopub.execute_input": "2022-11-30T22:48:10.136345Z",
     "iopub.status.busy": "2022-11-30T22:48:10.135421Z",
     "iopub.status.idle": "2022-11-30T22:48:10.144473Z",
     "shell.execute_reply": "2022-11-30T22:48:10.143328Z",
     "shell.execute_reply.started": "2022-11-30T22:48:10.136291Z"
    }
   },
   "outputs": [
    {
     "data": {
      "text/plain": [
       "((539, 11), (539,))"
      ]
     },
     "execution_count": 423,
     "metadata": {},
     "output_type": "execute_result"
    }
   ],
   "source": [
    "X_train.shape, y_train.shape"
   ]
  },
  {
   "cell_type": "code",
   "execution_count": 424,
   "metadata": {
    "execution": {
     "iopub.execute_input": "2022-11-30T22:48:10.962148Z",
     "iopub.status.busy": "2022-11-30T22:48:10.961246Z",
     "iopub.status.idle": "2022-11-30T22:48:10.969430Z",
     "shell.execute_reply": "2022-11-30T22:48:10.968379Z",
     "shell.execute_reply.started": "2022-11-30T22:48:10.962103Z"
    }
   },
   "outputs": [
    {
     "data": {
      "text/plain": [
       "((231, 11), (231,))"
      ]
     },
     "execution_count": 424,
     "metadata": {},
     "output_type": "execute_result"
    }
   ],
   "source": [
    "X_test.shape, y_test.shape"
   ]
  },
  {
   "cell_type": "markdown",
   "metadata": {},
   "source": [
    "#### Naive Bayes"
   ]
  },
  {
   "cell_type": "markdown",
   "metadata": {},
   "source": [
    "#### Running Gaussian Model."
   ]
  },
  {
   "cell_type": "markdown",
   "metadata": {},
   "source": [
    "#### Here we will use the Naive Bayes Model, we will test Gaussian model, using our Normal Data."
   ]
  },
  {
   "cell_type": "code",
   "execution_count": 331,
   "metadata": {
    "execution": {
     "iopub.execute_input": "2022-11-30T22:24:45.315913Z",
     "iopub.status.busy": "2022-11-30T22:24:45.315482Z",
     "iopub.status.idle": "2022-11-30T22:24:45.320647Z",
     "shell.execute_reply": "2022-11-30T22:24:45.319452Z",
     "shell.execute_reply.started": "2022-11-30T22:24:45.315875Z"
    }
   },
   "outputs": [],
   "source": [
    "from sklearn.naive_bayes import GaussianNB"
   ]
  },
  {
   "cell_type": "code",
   "execution_count": 332,
   "metadata": {
    "execution": {
     "iopub.execute_input": "2022-11-30T22:24:45.628769Z",
     "iopub.status.busy": "2022-11-30T22:24:45.628335Z",
     "iopub.status.idle": "2022-11-30T22:24:45.637594Z",
     "shell.execute_reply": "2022-11-30T22:24:45.636502Z",
     "shell.execute_reply.started": "2022-11-30T22:24:45.628706Z"
    }
   },
   "outputs": [
    {
     "data": {
      "text/plain": [
       "GaussianNB()"
      ]
     },
     "execution_count": 332,
     "metadata": {},
     "output_type": "execute_result"
    }
   ],
   "source": [
    "naive_bayes = GaussianNB()\n",
    "naive_bayes.fit(X_train, y_train)"
   ]
  },
  {
   "cell_type": "code",
   "execution_count": 333,
   "metadata": {
    "execution": {
     "iopub.execute_input": "2022-11-30T22:24:46.164025Z",
     "iopub.status.busy": "2022-11-30T22:24:46.163449Z",
     "iopub.status.idle": "2022-11-30T22:24:46.168869Z",
     "shell.execute_reply": "2022-11-30T22:24:46.167920Z",
     "shell.execute_reply.started": "2022-11-30T22:24:46.163992Z"
    }
   },
   "outputs": [],
   "source": [
    "previsoes = naive_bayes.predict(X_test)"
   ]
  },
  {
   "cell_type": "markdown",
   "metadata": {},
   "source": [
    "#### Normal Data"
   ]
  },
  {
   "cell_type": "code",
   "execution_count": 334,
   "metadata": {
    "execution": {
     "iopub.execute_input": "2022-11-30T22:24:47.525901Z",
     "iopub.status.busy": "2022-11-30T22:24:47.525324Z",
     "iopub.status.idle": "2022-11-30T22:24:47.643740Z",
     "shell.execute_reply": "2022-11-30T22:24:47.642321Z",
     "shell.execute_reply.started": "2022-11-30T22:24:47.525867Z"
    }
   },
   "outputs": [
    {
     "data": {
      "text/plain": [
       "0.70995670995671"
      ]
     },
     "execution_count": 334,
     "metadata": {},
     "output_type": "execute_result"
    },
    {
     "data": {
      "image/png": "[encoded data removed]",
      "text/plain": [
       "<Figure size 576x396 with 1 Axes>"
      ]
     },
     "metadata": {},
     "output_type": "display_data"
    }
   ],
   "source": [
    "cm = ConfusionMatrix(naive_bayes)\n",
    "cm.fit(X_train, y_train)\n",
    "cm.score(X_test, y_test)"
   ]
  },
  {
   "cell_type": "code",
   "execution_count": 335,
   "metadata": {
    "execution": {
     "iopub.execute_input": "2022-11-30T22:24:48.348892Z",
     "iopub.status.busy": "2022-11-30T22:24:48.348488Z",
     "iopub.status.idle": "2022-11-30T22:24:48.359525Z",
     "shell.execute_reply": "2022-11-30T22:24:48.358373Z",
     "shell.execute_reply.started": "2022-11-30T22:24:48.348858Z"
    }
   },
   "outputs": [],
   "source": [
    "classification_naive_gaussian = (classification_report(y_test, previsoes))"
   ]
  },
  {
   "cell_type": "code",
   "execution_count": 336,
   "metadata": {
    "execution": {
     "iopub.execute_input": "2022-11-30T22:24:49.785679Z",
     "iopub.status.busy": "2022-11-30T22:24:49.785307Z",
     "iopub.status.idle": "2022-11-30T22:24:49.791011Z",
     "shell.execute_reply": "2022-11-30T22:24:49.789893Z",
     "shell.execute_reply.started": "2022-11-30T22:24:49.785648Z"
    }
   },
   "outputs": [
    {
     "name": "stdout",
     "output_type": "stream",
     "text": [
      "              precision    recall  f1-score   support\n",
      "\n",
      "           0       0.88      0.46      0.60       111\n",
      "           1       0.65      0.94      0.77       120\n",
      "\n",
      "    accuracy                           0.71       231\n",
      "   macro avg       0.77      0.70      0.69       231\n",
      "weighted avg       0.76      0.71      0.69       231\n",
      "\n"
     ]
    }
   ],
   "source": [
    "print(classification_naive_gaussian)"
   ]
  },
  {
   "cell_type": "markdown",
   "metadata": {},
   "source": [
    "#### For the first model we had an interesting result, the model was able to learn when it is a true value but it did not have an optimal performance predicting when it is not, we had an accuracy of 70%"
   ]
  },
  {
   "cell_type": "code",
   "execution_count": 338,
   "metadata": {
    "execution": {
     "iopub.execute_input": "2022-11-30T22:25:40.006702Z",
     "iopub.status.busy": "2022-11-30T22:25:40.005770Z",
     "iopub.status.idle": "2022-11-30T22:25:40.011303Z",
     "shell.execute_reply": "2022-11-30T22:25:40.009868Z",
     "shell.execute_reply.started": "2022-11-30T22:25:40.006663Z"
    }
   },
   "outputs": [],
   "source": [
    "score_naive_gaussian = 0.70995670995671"
   ]
  },
  {
   "cell_type": "markdown",
   "metadata": {},
   "source": [
    "#### Decision Tree"
   ]
  },
  {
   "cell_type": "markdown",
   "metadata": {},
   "source": [
    "#### Here we will use the Decision Tree Model, we will test Entropy and Gini calculations, using our Normal Data."
   ]
  },
  {
   "cell_type": "markdown",
   "metadata": {},
   "source": [
    "#### Applying GridSearch"
   ]
  },
  {
   "cell_type": "markdown",
   "metadata": {},
   "source": [
    "#### Here we are applying GridSearch to check which are the best metrics to use."
   ]
  },
  {
   "cell_type": "code",
   "execution_count": 339,
   "metadata": {
    "execution": {
     "iopub.execute_input": "2022-11-30T22:25:50.887851Z",
     "iopub.status.busy": "2022-11-30T22:25:50.886651Z",
     "iopub.status.idle": "2022-11-30T22:25:50.894417Z",
     "shell.execute_reply": "2022-11-30T22:25:50.893237Z",
     "shell.execute_reply.started": "2022-11-30T22:25:50.887805Z"
    }
   },
   "outputs": [],
   "source": [
    "min_split = np.array([2, 3, 4, 5, 6, 7])\n",
    "max_nvl = np.array([3, 4, 5, 6, 7, 9, 11])\n",
    "alg = ['entropy', 'gini']\n",
    "values_grid = {'min_samples_split': min_split, 'max_depth': max_nvl, 'criterion': alg}"
   ]
  },
  {
   "cell_type": "code",
   "execution_count": 340,
   "metadata": {
    "execution": {
     "iopub.execute_input": "2022-11-30T22:25:51.568691Z",
     "iopub.status.busy": "2022-11-30T22:25:51.568295Z",
     "iopub.status.idle": "2022-11-30T22:25:51.573429Z",
     "shell.execute_reply": "2022-11-30T22:25:51.572251Z",
     "shell.execute_reply.started": "2022-11-30T22:25:51.568655Z"
    }
   },
   "outputs": [],
   "source": [
    "model = DecisionTreeClassifier()"
   ]
  },
  {
   "cell_type": "code",
   "execution_count": 341,
   "metadata": {
    "execution": {
     "iopub.execute_input": "2022-11-30T22:25:52.079336Z",
     "iopub.status.busy": "2022-11-30T22:25:52.078751Z",
     "iopub.status.idle": "2022-11-30T22:25:52.085357Z",
     "shell.execute_reply": "2022-11-30T22:25:52.084012Z",
     "shell.execute_reply.started": "2022-11-30T22:25:52.079286Z"
    }
   },
   "outputs": [],
   "source": [
    "gridDecisionTree = GridSearchCV(estimator = model, param_grid = values_grid, cv = 5)"
   ]
  },
  {
   "cell_type": "code",
   "execution_count": 342,
   "metadata": {
    "execution": {
     "iopub.execute_input": "2022-11-30T22:25:52.716800Z",
     "iopub.status.busy": "2022-11-30T22:25:52.715813Z",
     "iopub.status.idle": "2022-11-30T22:25:53.802848Z",
     "shell.execute_reply": "2022-11-30T22:25:53.801763Z",
     "shell.execute_reply.started": "2022-11-30T22:25:52.716760Z"
    }
   },
   "outputs": [
    {
     "data": {
      "text/plain": [
       "GridSearchCV(cv=5, estimator=DecisionTreeClassifier(),\n",
       "             param_grid={'criterion': ['entropy', 'gini'],\n",
       "                         'max_depth': array([ 3,  4,  5,  6,  7,  9, 11]),\n",
       "                         'min_samples_split': array([2, 3, 4, 5, 6, 7])})"
      ]
     },
     "execution_count": 342,
     "metadata": {},
     "output_type": "execute_result"
    }
   ],
   "source": [
    "gridDecisionTree.fit(X_train, y_train)"
   ]
  },
  {
   "cell_type": "markdown",
   "metadata": {},
   "source": [
    "#### Decision Tree - Normal Data"
   ]
  },
  {
   "cell_type": "code",
   "execution_count": 343,
   "metadata": {
    "execution": {
     "iopub.execute_input": "2022-11-30T22:25:53.805453Z",
     "iopub.status.busy": "2022-11-30T22:25:53.804823Z",
     "iopub.status.idle": "2022-11-30T22:25:53.811889Z",
     "shell.execute_reply": "2022-11-30T22:25:53.810620Z",
     "shell.execute_reply.started": "2022-11-30T22:25:53.805420Z"
    }
   },
   "outputs": [
    {
     "name": "stdout",
     "output_type": "stream",
     "text": [
      "Mín Split:  4\n",
      "Max Nvl:  11\n",
      "Algorithm:  gini\n",
      "Score:  0.7791450328833507\n"
     ]
    }
   ],
   "source": [
    "print('Mín Split: ', gridDecisionTree.best_estimator_.min_samples_split)\n",
    "print('Max Nvl: ', gridDecisionTree.best_estimator_.max_depth)\n",
    "print('Algorithm: ', gridDecisionTree.best_estimator_.criterion)\n",
    "print('Score: ', gridDecisionTree.best_score_)"
   ]
  },
  {
   "cell_type": "markdown",
   "metadata": {},
   "source": [
    "#### Running Decision Tree."
   ]
  },
  {
   "cell_type": "code",
   "execution_count": 344,
   "metadata": {
    "execution": {
     "iopub.execute_input": "2022-11-30T22:27:11.586592Z",
     "iopub.status.busy": "2022-11-30T22:27:11.586170Z",
     "iopub.status.idle": "2022-11-30T22:27:11.592645Z",
     "shell.execute_reply": "2022-11-30T22:27:11.591312Z",
     "shell.execute_reply.started": "2022-11-30T22:27:11.586553Z"
    }
   },
   "outputs": [],
   "source": [
    "decision_tree = DecisionTreeClassifier(criterion = 'gini', min_samples_split = 4, max_depth= 11, random_state=0)"
   ]
  },
  {
   "cell_type": "code",
   "execution_count": 345,
   "metadata": {
    "execution": {
     "iopub.execute_input": "2022-11-30T22:27:21.447140Z",
     "iopub.status.busy": "2022-11-30T22:27:21.446736Z",
     "iopub.status.idle": "2022-11-30T22:27:21.459252Z",
     "shell.execute_reply": "2022-11-30T22:27:21.458034Z",
     "shell.execute_reply.started": "2022-11-30T22:27:21.447089Z"
    }
   },
   "outputs": [
    {
     "data": {
      "text/plain": [
       "DecisionTreeClassifier(max_depth=11, min_samples_split=4, random_state=0)"
      ]
     },
     "execution_count": 345,
     "metadata": {},
     "output_type": "execute_result"
    }
   ],
   "source": [
    "decision_tree.fit(X_train, y_train)"
   ]
  },
  {
   "cell_type": "code",
   "execution_count": 346,
   "metadata": {
    "execution": {
     "iopub.execute_input": "2022-11-30T22:27:27.389235Z",
     "iopub.status.busy": "2022-11-30T22:27:27.388830Z",
     "iopub.status.idle": "2022-11-30T22:27:27.394931Z",
     "shell.execute_reply": "2022-11-30T22:27:27.394008Z",
     "shell.execute_reply.started": "2022-11-30T22:27:27.389201Z"
    }
   },
   "outputs": [],
   "source": [
    "previsoes = decision_tree.predict(X_test)"
   ]
  },
  {
   "cell_type": "markdown",
   "metadata": {},
   "source": [
    "#### Normal Data"
   ]
  },
  {
   "cell_type": "code",
   "execution_count": 347,
   "metadata": {
    "execution": {
     "iopub.execute_input": "2022-11-30T22:27:40.347166Z",
     "iopub.status.busy": "2022-11-30T22:27:40.346715Z",
     "iopub.status.idle": "2022-11-30T22:27:40.479088Z",
     "shell.execute_reply": "2022-11-30T22:27:40.477447Z",
     "shell.execute_reply.started": "2022-11-30T22:27:40.347125Z"
    }
   },
   "outputs": [
    {
     "data": {
      "text/plain": [
       "0.7272727272727273"
      ]
     },
     "execution_count": 347,
     "metadata": {},
     "output_type": "execute_result"
    },
    {
     "data": {
      "image/png": "[encoded data removed]",
      "text/plain": [
       "<Figure size 576x396 with 1 Axes>"
      ]
     },
     "metadata": {},
     "output_type": "display_data"
    }
   ],
   "source": [
    "cm = ConfusionMatrix(decision_tree)\n",
    "cm.fit(X_train, y_train)\n",
    "cm.score(X_test, y_test)"
   ]
  },
  {
   "cell_type": "code",
   "execution_count": 348,
   "metadata": {
    "execution": {
     "iopub.execute_input": "2022-11-30T22:28:02.975852Z",
     "iopub.status.busy": "2022-11-30T22:28:02.975465Z",
     "iopub.status.idle": "2022-11-30T22:28:02.986662Z",
     "shell.execute_reply": "2022-11-30T22:28:02.985346Z",
     "shell.execute_reply.started": "2022-11-30T22:28:02.975820Z"
    }
   },
   "outputs": [],
   "source": [
    "classification_decision = (classification_report(y_test, previsoes))"
   ]
  },
  {
   "cell_type": "code",
   "execution_count": 349,
   "metadata": {
    "execution": {
     "iopub.execute_input": "2022-11-30T22:28:08.786259Z",
     "iopub.status.busy": "2022-11-30T22:28:08.785831Z",
     "iopub.status.idle": "2022-11-30T22:28:08.792704Z",
     "shell.execute_reply": "2022-11-30T22:28:08.791544Z",
     "shell.execute_reply.started": "2022-11-30T22:28:08.786222Z"
    }
   },
   "outputs": [
    {
     "name": "stdout",
     "output_type": "stream",
     "text": [
      "              precision    recall  f1-score   support\n",
      "\n",
      "           0       0.70      0.75      0.72       111\n",
      "           1       0.75      0.71      0.73       120\n",
      "\n",
      "    accuracy                           0.73       231\n",
      "   macro avg       0.73      0.73      0.73       231\n",
      "weighted avg       0.73      0.73      0.73       231\n",
      "\n"
     ]
    }
   ],
   "source": [
    "print(classification_decision)"
   ]
  },
  {
   "cell_type": "markdown",
   "metadata": {},
   "source": [
    "#### Another interesting result, we didn't have a big increase in accuracy, here we had 72%, but the decision tree model had a nice performance increase to predict negative cases, but lost effectiveness to predict positive ones."
   ]
  },
  {
   "cell_type": "code",
   "execution_count": 350,
   "metadata": {
    "execution": {
     "iopub.execute_input": "2022-11-30T22:28:29.542535Z",
     "iopub.status.busy": "2022-11-30T22:28:29.542001Z",
     "iopub.status.idle": "2022-11-30T22:28:29.549419Z",
     "shell.execute_reply": "2022-11-30T22:28:29.547901Z",
     "shell.execute_reply.started": "2022-11-30T22:28:29.542486Z"
    }
   },
   "outputs": [],
   "source": [
    "score_tree = 0.7272727272727273"
   ]
  },
  {
   "cell_type": "markdown",
   "metadata": {},
   "source": [
    "#### Checking the most important variables of the model"
   ]
  },
  {
   "cell_type": "code",
   "execution_count": 355,
   "metadata": {
    "execution": {
     "iopub.execute_input": "2022-11-30T22:30:47.626226Z",
     "iopub.status.busy": "2022-11-30T22:30:47.625177Z",
     "iopub.status.idle": "2022-11-30T22:30:47.631935Z",
     "shell.execute_reply": "2022-11-30T22:30:47.630838Z",
     "shell.execute_reply.started": "2022-11-30T22:30:47.626179Z"
    }
   },
   "outputs": [],
   "source": [
    "columns = df.drop('Loan_Status', axis = 1).columns"
   ]
  },
  {
   "cell_type": "code",
   "execution_count": 357,
   "metadata": {
    "execution": {
     "iopub.execute_input": "2022-11-30T22:30:55.678470Z",
     "iopub.status.busy": "2022-11-30T22:30:55.678025Z",
     "iopub.status.idle": "2022-11-30T22:30:55.684686Z",
     "shell.execute_reply": "2022-11-30T22:30:55.683384Z",
     "shell.execute_reply.started": "2022-11-30T22:30:55.678433Z"
    }
   },
   "outputs": [],
   "source": [
    "feature_imp = pd.Series(decision_tree.feature_importances_, index = columns).sort_values(ascending = False)"
   ]
  },
  {
   "cell_type": "code",
   "execution_count": 358,
   "metadata": {
    "execution": {
     "iopub.execute_input": "2022-11-30T22:31:03.415688Z",
     "iopub.status.busy": "2022-11-30T22:31:03.415291Z",
     "iopub.status.idle": "2022-11-30T22:31:03.424221Z",
     "shell.execute_reply": "2022-11-30T22:31:03.422895Z",
     "shell.execute_reply.started": "2022-11-30T22:31:03.415655Z"
    }
   },
   "outputs": [
    {
     "data": {
      "text/plain": [
       "Credit_History       0.337157\n",
       "LoanAmount           0.217581\n",
       "ApplicantIncome      0.162869\n",
       "CoapplicantIncome    0.092034\n",
       "Loan_Amount_Term     0.049764\n",
       "Property_Area        0.047454\n",
       "Dependents           0.031819\n",
       "Married              0.028511\n",
       "Gender               0.014773\n",
       "Education            0.014522\n",
       "Self_Employed        0.003516\n",
       "dtype: float64"
      ]
     },
     "execution_count": 358,
     "metadata": {},
     "output_type": "execute_result"
    }
   ],
   "source": [
    "feature_imp"
   ]
  },
  {
   "cell_type": "markdown",
   "metadata": {},
   "source": [
    "#### Random Forest"
   ]
  },
  {
   "cell_type": "markdown",
   "metadata": {},
   "source": [
    "#### Here we will use the Random Forest Model, we will test Entropy and Gini calculations, using our Normal Data.¶"
   ]
  },
  {
   "cell_type": "code",
   "execution_count": 359,
   "metadata": {
    "execution": {
     "iopub.execute_input": "2022-11-30T22:31:28.338258Z",
     "iopub.status.busy": "2022-11-30T22:31:28.337867Z",
     "iopub.status.idle": "2022-11-30T22:31:28.343387Z",
     "shell.execute_reply": "2022-11-30T22:31:28.342109Z",
     "shell.execute_reply.started": "2022-11-30T22:31:28.338225Z"
    }
   },
   "outputs": [],
   "source": [
    "from sklearn.ensemble import RandomForestClassifier"
   ]
  },
  {
   "cell_type": "markdown",
   "metadata": {},
   "source": [
    "#### Applying GridSearch"
   ]
  },
  {
   "cell_type": "code",
   "execution_count": 360,
   "metadata": {
    "execution": {
     "iopub.execute_input": "2022-11-30T22:31:34.486389Z",
     "iopub.status.busy": "2022-11-30T22:31:34.485347Z",
     "iopub.status.idle": "2022-11-30T22:31:34.491603Z",
     "shell.execute_reply": "2022-11-30T22:31:34.490429Z",
     "shell.execute_reply.started": "2022-11-30T22:31:34.486348Z"
    }
   },
   "outputs": [],
   "source": [
    "n_estimators = np.array([100])\n",
    "alg = ['entropy', 'gini']\n",
    "values_grid = {'n_estimators': n_estimators, 'criterion': alg}"
   ]
  },
  {
   "cell_type": "code",
   "execution_count": 361,
   "metadata": {
    "execution": {
     "iopub.execute_input": "2022-11-30T22:31:34.679213Z",
     "iopub.status.busy": "2022-11-30T22:31:34.678138Z",
     "iopub.status.idle": "2022-11-30T22:31:34.684525Z",
     "shell.execute_reply": "2022-11-30T22:31:34.683177Z",
     "shell.execute_reply.started": "2022-11-30T22:31:34.679155Z"
    }
   },
   "outputs": [],
   "source": [
    "model = RandomForestClassifier()"
   ]
  },
  {
   "cell_type": "code",
   "execution_count": 362,
   "metadata": {
    "execution": {
     "iopub.execute_input": "2022-11-30T22:31:35.076709Z",
     "iopub.status.busy": "2022-11-30T22:31:35.075688Z",
     "iopub.status.idle": "2022-11-30T22:31:35.081838Z",
     "shell.execute_reply": "2022-11-30T22:31:35.080311Z",
     "shell.execute_reply.started": "2022-11-30T22:31:35.076655Z"
    }
   },
   "outputs": [],
   "source": [
    "gridRandomForest = GridSearchCV(estimator = model, param_grid = values_grid, cv = 5)"
   ]
  },
  {
   "cell_type": "code",
   "execution_count": 363,
   "metadata": {
    "execution": {
     "iopub.execute_input": "2022-11-30T22:31:35.495573Z",
     "iopub.status.busy": "2022-11-30T22:31:35.495191Z",
     "iopub.status.idle": "2022-11-30T22:31:37.567734Z",
     "shell.execute_reply": "2022-11-30T22:31:37.566409Z",
     "shell.execute_reply.started": "2022-11-30T22:31:35.495542Z"
    }
   },
   "outputs": [
    {
     "data": {
      "text/plain": [
       "GridSearchCV(cv=5, estimator=RandomForestClassifier(),\n",
       "             param_grid={'criterion': ['entropy', 'gini'],\n",
       "                         'n_estimators': array([100])})"
      ]
     },
     "execution_count": 363,
     "metadata": {},
     "output_type": "execute_result"
    }
   ],
   "source": [
    "gridRandomForest.fit(X_train, y_train)"
   ]
  },
  {
   "cell_type": "code",
   "execution_count": 364,
   "metadata": {
    "execution": {
     "iopub.execute_input": "2022-11-30T22:31:37.570870Z",
     "iopub.status.busy": "2022-11-30T22:31:37.569956Z",
     "iopub.status.idle": "2022-11-30T22:31:37.577740Z",
     "shell.execute_reply": "2022-11-30T22:31:37.576331Z",
     "shell.execute_reply.started": "2022-11-30T22:31:37.570826Z"
    }
   },
   "outputs": [
    {
     "name": "stdout",
     "output_type": "stream",
     "text": [
      "Algorithm:  gini\n",
      "Score:  0.8718933887158187\n"
     ]
    }
   ],
   "source": [
    "print('Algorithm: ', gridRandomForest.best_estimator_.criterion)\n",
    "print('Score: ', gridRandomForest.best_score_)"
   ]
  },
  {
   "cell_type": "markdown",
   "metadata": {},
   "source": [
    "#### Running Random Forest"
   ]
  },
  {
   "cell_type": "code",
   "execution_count": 365,
   "metadata": {
    "execution": {
     "iopub.execute_input": "2022-11-30T22:31:56.537167Z",
     "iopub.status.busy": "2022-11-30T22:31:56.536007Z",
     "iopub.status.idle": "2022-11-30T22:31:56.542294Z",
     "shell.execute_reply": "2022-11-30T22:31:56.540956Z",
     "shell.execute_reply.started": "2022-11-30T22:31:56.537124Z"
    }
   },
   "outputs": [],
   "source": [
    "random_forest = RandomForestClassifier(n_estimators = 100, criterion = 'gini', random_state = 0)"
   ]
  },
  {
   "cell_type": "code",
   "execution_count": 366,
   "metadata": {
    "execution": {
     "iopub.execute_input": "2022-11-30T22:32:03.635325Z",
     "iopub.status.busy": "2022-11-30T22:32:03.634931Z",
     "iopub.status.idle": "2022-11-30T22:32:03.822461Z",
     "shell.execute_reply": "2022-11-30T22:32:03.821249Z",
     "shell.execute_reply.started": "2022-11-30T22:32:03.635292Z"
    }
   },
   "outputs": [
    {
     "data": {
      "text/plain": [
       "RandomForestClassifier(random_state=0)"
      ]
     },
     "execution_count": 366,
     "metadata": {},
     "output_type": "execute_result"
    }
   ],
   "source": [
    "random_forest.fit(X_train, y_train)"
   ]
  },
  {
   "cell_type": "code",
   "execution_count": 367,
   "metadata": {
    "execution": {
     "iopub.execute_input": "2022-11-30T22:32:10.637473Z",
     "iopub.status.busy": "2022-11-30T22:32:10.636358Z",
     "iopub.status.idle": "2022-11-30T22:32:10.660432Z",
     "shell.execute_reply": "2022-11-30T22:32:10.659200Z",
     "shell.execute_reply.started": "2022-11-30T22:32:10.637425Z"
    }
   },
   "outputs": [],
   "source": [
    "previsoes = random_forest.predict(X_test)"
   ]
  },
  {
   "cell_type": "markdown",
   "metadata": {},
   "source": [
    "#### Normal Data"
   ]
  },
  {
   "cell_type": "code",
   "execution_count": 368,
   "metadata": {
    "execution": {
     "iopub.execute_input": "2022-11-30T22:32:35.625613Z",
     "iopub.status.busy": "2022-11-30T22:32:35.625202Z",
     "iopub.status.idle": "2022-11-30T22:32:35.779249Z",
     "shell.execute_reply": "2022-11-30T22:32:35.777994Z",
     "shell.execute_reply.started": "2022-11-30T22:32:35.625579Z"
    }
   },
   "outputs": [
    {
     "data": {
      "text/plain": [
       "0.8528138528138528"
      ]
     },
     "execution_count": 368,
     "metadata": {},
     "output_type": "execute_result"
    },
    {
     "data": {
      "image/png": "[encoded data removed]",
      "text/plain": [
       "<Figure size 576x396 with 1 Axes>"
      ]
     },
     "metadata": {},
     "output_type": "display_data"
    }
   ],
   "source": [
    "cm = ConfusionMatrix(random_forest)\n",
    "cm.fit(X_train, y_train)\n",
    "cm.score(X_test, y_test)"
   ]
  },
  {
   "cell_type": "code",
   "execution_count": 369,
   "metadata": {
    "execution": {
     "iopub.execute_input": "2022-11-30T22:32:47.473341Z",
     "iopub.status.busy": "2022-11-30T22:32:47.472917Z",
     "iopub.status.idle": "2022-11-30T22:32:47.484133Z",
     "shell.execute_reply": "2022-11-30T22:32:47.482843Z",
     "shell.execute_reply.started": "2022-11-30T22:32:47.473300Z"
    }
   },
   "outputs": [],
   "source": [
    "classification_random = (classification_report(y_test, previsoes))"
   ]
  },
  {
   "cell_type": "code",
   "execution_count": 370,
   "metadata": {
    "execution": {
     "iopub.execute_input": "2022-11-30T22:32:53.166779Z",
     "iopub.status.busy": "2022-11-30T22:32:53.166355Z",
     "iopub.status.idle": "2022-11-30T22:32:53.172379Z",
     "shell.execute_reply": "2022-11-30T22:32:53.171075Z",
     "shell.execute_reply.started": "2022-11-30T22:32:53.166741Z"
    }
   },
   "outputs": [
    {
     "name": "stdout",
     "output_type": "stream",
     "text": [
      "              precision    recall  f1-score   support\n",
      "\n",
      "           0       0.82      0.88      0.85       111\n",
      "           1       0.88      0.82      0.85       120\n",
      "\n",
      "    accuracy                           0.85       231\n",
      "   macro avg       0.85      0.85      0.85       231\n",
      "weighted avg       0.85      0.85      0.85       231\n",
      "\n"
     ]
    }
   ],
   "source": [
    "print(classification_random)"
   ]
  },
  {
   "cell_type": "markdown",
   "metadata": {},
   "source": [
    "#### Here we had a great model with 85% accuracy, it was able to predict both results."
   ]
  },
  {
   "cell_type": "code",
   "execution_count": 372,
   "metadata": {
    "execution": {
     "iopub.execute_input": "2022-11-30T22:33:16.677578Z",
     "iopub.status.busy": "2022-11-30T22:33:16.677153Z",
     "iopub.status.idle": "2022-11-30T22:33:16.682130Z",
     "shell.execute_reply": "2022-11-30T22:33:16.681331Z",
     "shell.execute_reply.started": "2022-11-30T22:33:16.677543Z"
    }
   },
   "outputs": [],
   "source": [
    "score_random = 0.8528138528138528"
   ]
  },
  {
   "cell_type": "markdown",
   "metadata": {},
   "source": [
    "#### Checking the most important variables of the model"
   ]
  },
  {
   "cell_type": "code",
   "execution_count": 373,
   "metadata": {
    "execution": {
     "iopub.execute_input": "2022-11-30T22:34:22.605909Z",
     "iopub.status.busy": "2022-11-30T22:34:22.605467Z",
     "iopub.status.idle": "2022-11-30T22:34:22.625959Z",
     "shell.execute_reply": "2022-11-30T22:34:22.624945Z",
     "shell.execute_reply.started": "2022-11-30T22:34:22.605870Z"
    }
   },
   "outputs": [],
   "source": [
    "feature_imp_random = pd.Series(random_forest.feature_importances_, index = columns).sort_values(ascending = False)"
   ]
  },
  {
   "cell_type": "code",
   "execution_count": 374,
   "metadata": {
    "execution": {
     "iopub.execute_input": "2022-11-30T22:34:29.475907Z",
     "iopub.status.busy": "2022-11-30T22:34:29.475523Z",
     "iopub.status.idle": "2022-11-30T22:34:29.485632Z",
     "shell.execute_reply": "2022-11-30T22:34:29.484159Z",
     "shell.execute_reply.started": "2022-11-30T22:34:29.475875Z"
    }
   },
   "outputs": [
    {
     "data": {
      "text/plain": [
       "Credit_History       0.240207\n",
       "ApplicantIncome      0.214730\n",
       "LoanAmount           0.182214\n",
       "CoapplicantIncome    0.116487\n",
       "Property_Area        0.055278\n",
       "Dependents           0.047730\n",
       "Loan_Amount_Term     0.047602\n",
       "Married              0.028446\n",
       "Education            0.025616\n",
       "Gender               0.022284\n",
       "Self_Employed        0.019406\n",
       "dtype: float64"
      ]
     },
     "execution_count": 374,
     "metadata": {},
     "output_type": "execute_result"
    }
   ],
   "source": [
    "feature_imp_random"
   ]
  },
  {
   "cell_type": "markdown",
   "metadata": {},
   "source": [
    "#### Extra Trees"
   ]
  },
  {
   "cell_type": "markdown",
   "metadata": {},
   "source": [
    "#### Here we will use the Extra Trees Model, we will test Entropy and Gini calculations, using our Normal Data."
   ]
  },
  {
   "cell_type": "code",
   "execution_count": 375,
   "metadata": {
    "execution": {
     "iopub.execute_input": "2022-11-30T22:34:42.748466Z",
     "iopub.status.busy": "2022-11-30T22:34:42.748035Z",
     "iopub.status.idle": "2022-11-30T22:34:42.753773Z",
     "shell.execute_reply": "2022-11-30T22:34:42.752256Z",
     "shell.execute_reply.started": "2022-11-30T22:34:42.748431Z"
    }
   },
   "outputs": [],
   "source": [
    "from sklearn.ensemble import ExtraTreesClassifier"
   ]
  },
  {
   "cell_type": "markdown",
   "metadata": {},
   "source": [
    "#### Applying GridSearch"
   ]
  },
  {
   "cell_type": "code",
   "execution_count": 376,
   "metadata": {
    "execution": {
     "iopub.execute_input": "2022-11-30T22:34:43.886244Z",
     "iopub.status.busy": "2022-11-30T22:34:43.885258Z",
     "iopub.status.idle": "2022-11-30T22:34:43.891250Z",
     "shell.execute_reply": "2022-11-30T22:34:43.890214Z",
     "shell.execute_reply.started": "2022-11-30T22:34:43.886206Z"
    }
   },
   "outputs": [],
   "source": [
    "n_estimators = np.array([100])\n",
    "alg = ['entropy', 'gini']\n",
    "values_grid = {'n_estimators': n_estimators, 'criterion': alg}"
   ]
  },
  {
   "cell_type": "code",
   "execution_count": 377,
   "metadata": {
    "execution": {
     "iopub.execute_input": "2022-11-30T22:34:44.375898Z",
     "iopub.status.busy": "2022-11-30T22:34:44.375508Z",
     "iopub.status.idle": "2022-11-30T22:34:44.380860Z",
     "shell.execute_reply": "2022-11-30T22:34:44.379717Z",
     "shell.execute_reply.started": "2022-11-30T22:34:44.375866Z"
    }
   },
   "outputs": [],
   "source": [
    "model = ExtraTreesClassifier()"
   ]
  },
  {
   "cell_type": "code",
   "execution_count": 378,
   "metadata": {
    "execution": {
     "iopub.execute_input": "2022-11-30T22:34:45.465919Z",
     "iopub.status.busy": "2022-11-30T22:34:45.465494Z",
     "iopub.status.idle": "2022-11-30T22:34:45.471809Z",
     "shell.execute_reply": "2022-11-30T22:34:45.470555Z",
     "shell.execute_reply.started": "2022-11-30T22:34:45.465882Z"
    }
   },
   "outputs": [],
   "source": [
    "gridExtraTrees = GridSearchCV(estimator = model, param_grid = values_grid, cv = 5)"
   ]
  },
  {
   "cell_type": "code",
   "execution_count": 379,
   "metadata": {
    "execution": {
     "iopub.execute_input": "2022-11-30T22:34:45.736008Z",
     "iopub.status.busy": "2022-11-30T22:34:45.735629Z",
     "iopub.status.idle": "2022-11-30T22:34:47.366464Z",
     "shell.execute_reply": "2022-11-30T22:34:47.365315Z",
     "shell.execute_reply.started": "2022-11-30T22:34:45.735977Z"
    }
   },
   "outputs": [
    {
     "data": {
      "text/plain": [
       "GridSearchCV(cv=5, estimator=ExtraTreesClassifier(),\n",
       "             param_grid={'criterion': ['entropy', 'gini'],\n",
       "                         'n_estimators': array([100])})"
      ]
     },
     "execution_count": 379,
     "metadata": {},
     "output_type": "execute_result"
    }
   ],
   "source": [
    "gridExtraTrees.fit(X_train, y_train)"
   ]
  },
  {
   "cell_type": "code",
   "execution_count": 380,
   "metadata": {
    "execution": {
     "iopub.execute_input": "2022-11-30T22:34:47.369206Z",
     "iopub.status.busy": "2022-11-30T22:34:47.368263Z",
     "iopub.status.idle": "2022-11-30T22:34:47.375176Z",
     "shell.execute_reply": "2022-11-30T22:34:47.374076Z",
     "shell.execute_reply.started": "2022-11-30T22:34:47.369170Z"
    }
   },
   "outputs": [
    {
     "name": "stdout",
     "output_type": "stream",
     "text": [
      "Algorithm:  gini\n",
      "Score:  0.8458809276566285\n"
     ]
    }
   ],
   "source": [
    "print('Algorithm: ', gridExtraTrees.best_estimator_.criterion)\n",
    "print('Score: ', gridExtraTrees.best_score_)"
   ]
  },
  {
   "cell_type": "markdown",
   "metadata": {},
   "source": [
    "#### Running Extra Trees"
   ]
  },
  {
   "cell_type": "code",
   "execution_count": 381,
   "metadata": {
    "execution": {
     "iopub.execute_input": "2022-11-30T22:35:10.141304Z",
     "iopub.status.busy": "2022-11-30T22:35:10.140884Z",
     "iopub.status.idle": "2022-11-30T22:35:10.147032Z",
     "shell.execute_reply": "2022-11-30T22:35:10.145521Z",
     "shell.execute_reply.started": "2022-11-30T22:35:10.141269Z"
    }
   },
   "outputs": [],
   "source": [
    "extra_trees = ExtraTreesClassifier(n_estimators = 100, criterion = 'entropy', random_state = 0)"
   ]
  },
  {
   "cell_type": "code",
   "execution_count": 382,
   "metadata": {
    "execution": {
     "iopub.execute_input": "2022-11-30T22:35:18.547252Z",
     "iopub.status.busy": "2022-11-30T22:35:18.546134Z",
     "iopub.status.idle": "2022-11-30T22:35:18.703994Z",
     "shell.execute_reply": "2022-11-30T22:35:18.702876Z",
     "shell.execute_reply.started": "2022-11-30T22:35:18.547208Z"
    }
   },
   "outputs": [
    {
     "data": {
      "text/plain": [
       "ExtraTreesClassifier(criterion='entropy', random_state=0)"
      ]
     },
     "execution_count": 382,
     "metadata": {},
     "output_type": "execute_result"
    }
   ],
   "source": [
    "extra_trees.fit(X_train, y_train)"
   ]
  },
  {
   "cell_type": "code",
   "execution_count": 383,
   "metadata": {
    "execution": {
     "iopub.execute_input": "2022-11-30T22:35:25.809157Z",
     "iopub.status.busy": "2022-11-30T22:35:25.808746Z",
     "iopub.status.idle": "2022-11-30T22:35:25.832544Z",
     "shell.execute_reply": "2022-11-30T22:35:25.831416Z",
     "shell.execute_reply.started": "2022-11-30T22:35:25.809118Z"
    }
   },
   "outputs": [],
   "source": [
    "previsoes = extra_trees.predict(X_test)"
   ]
  },
  {
   "cell_type": "markdown",
   "metadata": {},
   "source": [
    "#### Normal Data"
   ]
  },
  {
   "cell_type": "code",
   "execution_count": 384,
   "metadata": {
    "execution": {
     "iopub.execute_input": "2022-11-30T22:35:41.476971Z",
     "iopub.status.busy": "2022-11-30T22:35:41.476536Z",
     "iopub.status.idle": "2022-11-30T22:35:41.637043Z",
     "shell.execute_reply": "2022-11-30T22:35:41.635758Z",
     "shell.execute_reply.started": "2022-11-30T22:35:41.476935Z"
    }
   },
   "outputs": [
    {
     "data": {
      "text/plain": [
       "0.8484848484848485"
      ]
     },
     "execution_count": 384,
     "metadata": {},
     "output_type": "execute_result"
    },
    {
     "data": {
      "image/png": "[encoded data removed]",
      "text/plain": [
       "<Figure size 576x396 with 1 Axes>"
      ]
     },
     "metadata": {},
     "output_type": "display_data"
    }
   ],
   "source": [
    "cm = ConfusionMatrix(extra_trees)\n",
    "cm.fit(X_train, y_train)\n",
    "cm.score(X_test, y_test)"
   ]
  },
  {
   "cell_type": "code",
   "execution_count": 385,
   "metadata": {
    "execution": {
     "iopub.execute_input": "2022-11-30T22:36:04.658893Z",
     "iopub.status.busy": "2022-11-30T22:36:04.658472Z",
     "iopub.status.idle": "2022-11-30T22:36:04.670349Z",
     "shell.execute_reply": "2022-11-30T22:36:04.669175Z",
     "shell.execute_reply.started": "2022-11-30T22:36:04.658856Z"
    }
   },
   "outputs": [],
   "source": [
    "classification_extra = (classification_report(y_test, previsoes))"
   ]
  },
  {
   "cell_type": "code",
   "execution_count": 386,
   "metadata": {
    "execution": {
     "iopub.execute_input": "2022-11-30T22:36:08.305541Z",
     "iopub.status.busy": "2022-11-30T22:36:08.305113Z",
     "iopub.status.idle": "2022-11-30T22:36:08.311061Z",
     "shell.execute_reply": "2022-11-30T22:36:08.310148Z",
     "shell.execute_reply.started": "2022-11-30T22:36:08.305504Z"
    }
   },
   "outputs": [
    {
     "name": "stdout",
     "output_type": "stream",
     "text": [
      "              precision    recall  f1-score   support\n",
      "\n",
      "           0       0.82      0.87      0.85       111\n",
      "           1       0.88      0.82      0.85       120\n",
      "\n",
      "    accuracy                           0.85       231\n",
      "   macro avg       0.85      0.85      0.85       231\n",
      "weighted avg       0.85      0.85      0.85       231\n",
      "\n"
     ]
    }
   ],
   "source": [
    "print(classification_extra)"
   ]
  },
  {
   "cell_type": "markdown",
   "metadata": {},
   "source": [
    "#### Model very similar to the Random Forest model, another great model."
   ]
  },
  {
   "cell_type": "code",
   "execution_count": 387,
   "metadata": {
    "execution": {
     "iopub.execute_input": "2022-11-30T22:36:28.369211Z",
     "iopub.status.busy": "2022-11-30T22:36:28.368777Z",
     "iopub.status.idle": "2022-11-30T22:36:28.374481Z",
     "shell.execute_reply": "2022-11-30T22:36:28.373284Z",
     "shell.execute_reply.started": "2022-11-30T22:36:28.369173Z"
    }
   },
   "outputs": [],
   "source": [
    "score_extra = 0.8484848484848485"
   ]
  },
  {
   "cell_type": "markdown",
   "metadata": {},
   "source": [
    "#### Checking the most important variables of the model"
   ]
  },
  {
   "cell_type": "code",
   "execution_count": 500,
   "metadata": {
    "execution": {
     "iopub.execute_input": "2022-11-30T23:03:11.567358Z",
     "iopub.status.busy": "2022-11-30T23:03:11.566405Z",
     "iopub.status.idle": "2022-11-30T23:03:11.585770Z",
     "shell.execute_reply": "2022-11-30T23:03:11.584398Z",
     "shell.execute_reply.started": "2022-11-30T23:03:11.567316Z"
    }
   },
   "outputs": [],
   "source": [
    "feature_extra = pd.Series(extra_trees.feature_importances_, index = columns).sort_values(ascending = False)"
   ]
  },
  {
   "cell_type": "code",
   "execution_count": 501,
   "metadata": {
    "execution": {
     "iopub.execute_input": "2022-11-30T23:03:17.465457Z",
     "iopub.status.busy": "2022-11-30T23:03:17.465063Z",
     "iopub.status.idle": "2022-11-30T23:03:17.473751Z",
     "shell.execute_reply": "2022-11-30T23:03:17.472596Z",
     "shell.execute_reply.started": "2022-11-30T23:03:17.465426Z"
    }
   },
   "outputs": [
    {
     "data": {
      "text/plain": [
       "Credit_History       0.230239\n",
       "LoanAmount           0.182046\n",
       "ApplicantIncome      0.173030\n",
       "CoapplicantIncome    0.121668\n",
       "Property_Area        0.066301\n",
       "Dependents           0.065108\n",
       "Loan_Amount_Term     0.052531\n",
       "Self_Employed        0.027997\n",
       "Education            0.027367\n",
       "Gender               0.027218\n",
       "Married              0.026494\n",
       "dtype: float64"
      ]
     },
     "execution_count": 501,
     "metadata": {},
     "output_type": "execute_result"
    }
   ],
   "source": [
    "feature_extra"
   ]
  },
  {
   "cell_type": "markdown",
   "metadata": {},
   "source": [
    "#### K Means"
   ]
  },
  {
   "cell_type": "markdown",
   "metadata": {},
   "source": [
    "#### Here we will use the K Means Model, we will test using our Normal Data and StandardScaler."
   ]
  },
  {
   "cell_type": "code",
   "execution_count": 425,
   "metadata": {
    "execution": {
     "iopub.execute_input": "2022-11-30T22:48:28.356173Z",
     "iopub.status.busy": "2022-11-30T22:48:28.355767Z",
     "iopub.status.idle": "2022-11-30T22:48:28.361110Z",
     "shell.execute_reply": "2022-11-30T22:48:28.359799Z",
     "shell.execute_reply.started": "2022-11-30T22:48:28.356134Z"
    }
   },
   "outputs": [],
   "source": [
    "from sklearn.cluster import KMeans"
   ]
  },
  {
   "cell_type": "code",
   "execution_count": 426,
   "metadata": {
    "execution": {
     "iopub.execute_input": "2022-11-30T22:48:28.566402Z",
     "iopub.status.busy": "2022-11-30T22:48:28.565683Z",
     "iopub.status.idle": "2022-11-30T22:48:28.572708Z",
     "shell.execute_reply": "2022-11-30T22:48:28.571064Z",
     "shell.execute_reply.started": "2022-11-30T22:48:28.566361Z"
    }
   },
   "outputs": [],
   "source": [
    "model = KMeans(n_clusters = 2, random_state=16)"
   ]
  },
  {
   "cell_type": "code",
   "execution_count": 427,
   "metadata": {
    "execution": {
     "iopub.execute_input": "2022-11-30T22:48:29.209719Z",
     "iopub.status.busy": "2022-11-30T22:48:29.209315Z",
     "iopub.status.idle": "2022-11-30T22:48:29.257125Z",
     "shell.execute_reply": "2022-11-30T22:48:29.256166Z",
     "shell.execute_reply.started": "2022-11-30T22:48:29.209683Z"
    }
   },
   "outputs": [
    {
     "data": {
      "text/plain": [
       "KMeans(n_clusters=2, random_state=16)"
      ]
     },
     "execution_count": 427,
     "metadata": {},
     "output_type": "execute_result"
    }
   ],
   "source": [
    "model.fit(X_train)"
   ]
  },
  {
   "cell_type": "code",
   "execution_count": 428,
   "metadata": {
    "execution": {
     "iopub.execute_input": "2022-11-30T22:48:29.646189Z",
     "iopub.status.busy": "2022-11-30T22:48:29.645547Z",
     "iopub.status.idle": "2022-11-30T22:48:29.681991Z",
     "shell.execute_reply": "2022-11-30T22:48:29.680786Z",
     "shell.execute_reply.started": "2022-11-30T22:48:29.646151Z"
    }
   },
   "outputs": [],
   "source": [
    "previsoes = model.predict(X_test)"
   ]
  },
  {
   "cell_type": "markdown",
   "metadata": {},
   "source": [
    "#### Normal Data"
   ]
  },
  {
   "cell_type": "code",
   "execution_count": 392,
   "metadata": {
    "execution": {
     "iopub.execute_input": "2022-11-30T22:39:37.147622Z",
     "iopub.status.busy": "2022-11-30T22:39:37.147030Z",
     "iopub.status.idle": "2022-11-30T22:39:37.155286Z",
     "shell.execute_reply": "2022-11-30T22:39:37.154343Z",
     "shell.execute_reply.started": "2022-11-30T22:39:37.147561Z"
    }
   },
   "outputs": [],
   "source": [
    "classification_kmeans_normal = (accuracy_score(y_test, previsoes))"
   ]
  },
  {
   "cell_type": "markdown",
   "metadata": {},
   "source": [
    "#### this is really not a good model."
   ]
  },
  {
   "cell_type": "code",
   "execution_count": 393,
   "metadata": {
    "execution": {
     "iopub.execute_input": "2022-11-30T22:39:39.565965Z",
     "iopub.status.busy": "2022-11-30T22:39:39.565491Z",
     "iopub.status.idle": "2022-11-30T22:39:39.573432Z",
     "shell.execute_reply": "2022-11-30T22:39:39.572377Z",
     "shell.execute_reply.started": "2022-11-30T22:39:39.565921Z"
    }
   },
   "outputs": [
    {
     "data": {
      "text/plain": [
       "0.48484848484848486"
      ]
     },
     "execution_count": 393,
     "metadata": {},
     "output_type": "execute_result"
    }
   ],
   "source": [
    "classification_kmeans_normal"
   ]
  },
  {
   "cell_type": "markdown",
   "metadata": {},
   "source": [
    "#### StandardScaler"
   ]
  },
  {
   "cell_type": "code",
   "execution_count": 429,
   "metadata": {
    "execution": {
     "iopub.execute_input": "2022-11-30T22:49:25.080470Z",
     "iopub.status.busy": "2022-11-30T22:49:25.080005Z",
     "iopub.status.idle": "2022-11-30T22:49:25.086846Z",
     "shell.execute_reply": "2022-11-30T22:49:25.085614Z",
     "shell.execute_reply.started": "2022-11-30T22:49:25.080433Z"
    }
   },
   "outputs": [],
   "source": [
    "classification_kmeans_standard = (accuracy_score(y_test, previsoes))"
   ]
  },
  {
   "cell_type": "markdown",
   "metadata": {},
   "source": [
    "#### It's improved only a little, but it's still a terrible model."
   ]
  },
  {
   "cell_type": "code",
   "execution_count": 430,
   "metadata": {
    "execution": {
     "iopub.execute_input": "2022-11-30T22:49:35.635537Z",
     "iopub.status.busy": "2022-11-30T22:49:35.635138Z",
     "iopub.status.idle": "2022-11-30T22:49:35.642887Z",
     "shell.execute_reply": "2022-11-30T22:49:35.641687Z",
     "shell.execute_reply.started": "2022-11-30T22:49:35.635503Z"
    }
   },
   "outputs": [
    {
     "data": {
      "text/plain": [
       "0.5064935064935064"
      ]
     },
     "execution_count": 430,
     "metadata": {},
     "output_type": "execute_result"
    }
   ],
   "source": [
    "classification_kmeans_standard"
   ]
  },
  {
   "cell_type": "markdown",
   "metadata": {},
   "source": [
    "#### K Neighbors"
   ]
  },
  {
   "cell_type": "markdown",
   "metadata": {},
   "source": [
    "#### Here we will use the K-Neighbors Model, using our Normal Data and StandardScaler Data, here we use the GridSearch Model to figure out the best metrics to use in this model."
   ]
  },
  {
   "cell_type": "code",
   "execution_count": 431,
   "metadata": {
    "execution": {
     "iopub.execute_input": "2022-11-30T22:50:17.577009Z",
     "iopub.status.busy": "2022-11-30T22:50:17.576563Z",
     "iopub.status.idle": "2022-11-30T22:50:17.582195Z",
     "shell.execute_reply": "2022-11-30T22:50:17.581270Z",
     "shell.execute_reply.started": "2022-11-30T22:50:17.576971Z"
    }
   },
   "outputs": [],
   "source": [
    "from sklearn.neighbors import KNeighborsClassifier"
   ]
  },
  {
   "cell_type": "code",
   "execution_count": 432,
   "metadata": {
    "execution": {
     "iopub.execute_input": "2022-11-30T22:50:17.879255Z",
     "iopub.status.busy": "2022-11-30T22:50:17.878277Z",
     "iopub.status.idle": "2022-11-30T22:50:17.884191Z",
     "shell.execute_reply": "2022-11-30T22:50:17.882838Z",
     "shell.execute_reply.started": "2022-11-30T22:50:17.879217Z"
    }
   },
   "outputs": [],
   "source": [
    "knn = KNeighborsClassifier()"
   ]
  },
  {
   "cell_type": "markdown",
   "metadata": {},
   "source": [
    "#### Here we use the GridSearch to figure out the best metrics to use in this model."
   ]
  },
  {
   "cell_type": "code",
   "execution_count": 433,
   "metadata": {
    "execution": {
     "iopub.execute_input": "2022-11-30T22:50:18.813683Z",
     "iopub.status.busy": "2022-11-30T22:50:18.813286Z",
     "iopub.status.idle": "2022-11-30T22:50:18.818023Z",
     "shell.execute_reply": "2022-11-30T22:50:18.817177Z",
     "shell.execute_reply.started": "2022-11-30T22:50:18.813648Z"
    }
   },
   "outputs": [],
   "source": [
    "k_list = list(range(1,10))"
   ]
  },
  {
   "cell_type": "code",
   "execution_count": 434,
   "metadata": {
    "execution": {
     "iopub.execute_input": "2022-11-30T22:50:19.519488Z",
     "iopub.status.busy": "2022-11-30T22:50:19.518281Z",
     "iopub.status.idle": "2022-11-30T22:50:19.524683Z",
     "shell.execute_reply": "2022-11-30T22:50:19.523860Z",
     "shell.execute_reply.started": "2022-11-30T22:50:19.519436Z"
    }
   },
   "outputs": [],
   "source": [
    "k_values = dict(n_neighbors = k_list)"
   ]
  },
  {
   "cell_type": "code",
   "execution_count": 435,
   "metadata": {
    "execution": {
     "iopub.execute_input": "2022-11-30T22:50:20.353899Z",
     "iopub.status.busy": "2022-11-30T22:50:20.353153Z",
     "iopub.status.idle": "2022-11-30T22:50:20.359179Z",
     "shell.execute_reply": "2022-11-30T22:50:20.358304Z",
     "shell.execute_reply.started": "2022-11-30T22:50:20.353863Z"
    }
   },
   "outputs": [],
   "source": [
    "grid = GridSearchCV(knn, k_values, cv = 5, scoring = 'accuracy')"
   ]
  },
  {
   "cell_type": "code",
   "execution_count": 436,
   "metadata": {
    "execution": {
     "iopub.execute_input": "2022-11-30T22:50:21.865041Z",
     "iopub.status.busy": "2022-11-30T22:50:21.864235Z",
     "iopub.status.idle": "2022-11-30T22:50:22.144432Z",
     "shell.execute_reply": "2022-11-30T22:50:22.143339Z",
     "shell.execute_reply.started": "2022-11-30T22:50:21.865004Z"
    }
   },
   "outputs": [
    {
     "data": {
      "text/plain": [
       "GridSearchCV(cv=5, estimator=KNeighborsClassifier(),\n",
       "             param_grid={'n_neighbors': [1, 2, 3, 4, 5, 6, 7, 8, 9]},\n",
       "             scoring='accuracy')"
      ]
     },
     "execution_count": 436,
     "metadata": {},
     "output_type": "execute_result"
    }
   ],
   "source": [
    "grid.fit(X_train, y_train)"
   ]
  },
  {
   "cell_type": "markdown",
   "metadata": {},
   "source": [
    "#### Normal Data - Grid"
   ]
  },
  {
   "cell_type": "code",
   "execution_count": 400,
   "metadata": {
    "execution": {
     "iopub.execute_input": "2022-11-30T22:41:16.347329Z",
     "iopub.status.busy": "2022-11-30T22:41:16.346874Z",
     "iopub.status.idle": "2022-11-30T22:41:16.354868Z",
     "shell.execute_reply": "2022-11-30T22:41:16.353480Z",
     "shell.execute_reply.started": "2022-11-30T22:41:16.347291Z"
    }
   },
   "outputs": [
    {
     "data": {
      "text/plain": [
       "({'n_neighbors': 1}, 0.6809276566285912)"
      ]
     },
     "execution_count": 400,
     "metadata": {},
     "output_type": "execute_result"
    }
   ],
   "source": [
    "grid.best_params_, grid.best_score_"
   ]
  },
  {
   "cell_type": "markdown",
   "metadata": {},
   "source": [
    "#### StandardScaler - Grid"
   ]
  },
  {
   "cell_type": "code",
   "execution_count": 437,
   "metadata": {
    "execution": {
     "iopub.execute_input": "2022-11-30T22:50:37.506221Z",
     "iopub.status.busy": "2022-11-30T22:50:37.505019Z",
     "iopub.status.idle": "2022-11-30T22:50:37.513767Z",
     "shell.execute_reply": "2022-11-30T22:50:37.512302Z",
     "shell.execute_reply.started": "2022-11-30T22:50:37.506171Z"
    }
   },
   "outputs": [
    {
     "data": {
      "text/plain": [
       "({'n_neighbors': 1}, 0.7976981654551748)"
      ]
     },
     "execution_count": 437,
     "metadata": {},
     "output_type": "execute_result"
    }
   ],
   "source": [
    "grid.best_params_, grid.best_score_"
   ]
  },
  {
   "cell_type": "markdown",
   "metadata": {},
   "source": [
    "#### Running K Neighbors"
   ]
  },
  {
   "cell_type": "code",
   "execution_count": 438,
   "metadata": {
    "execution": {
     "iopub.execute_input": "2022-11-30T22:50:47.494444Z",
     "iopub.status.busy": "2022-11-30T22:50:47.494048Z",
     "iopub.status.idle": "2022-11-30T22:50:47.499936Z",
     "shell.execute_reply": "2022-11-30T22:50:47.498574Z",
     "shell.execute_reply.started": "2022-11-30T22:50:47.494412Z"
    }
   },
   "outputs": [],
   "source": [
    "knn = KNeighborsClassifier(n_neighbors = 1, metric = 'minkowski', p = 2)"
   ]
  },
  {
   "cell_type": "code",
   "execution_count": 439,
   "metadata": {
    "execution": {
     "iopub.execute_input": "2022-11-30T22:50:47.720627Z",
     "iopub.status.busy": "2022-11-30T22:50:47.720216Z",
     "iopub.status.idle": "2022-11-30T22:50:47.729178Z",
     "shell.execute_reply": "2022-11-30T22:50:47.728357Z",
     "shell.execute_reply.started": "2022-11-30T22:50:47.720596Z"
    }
   },
   "outputs": [
    {
     "data": {
      "text/plain": [
       "KNeighborsClassifier(n_neighbors=1)"
      ]
     },
     "execution_count": 439,
     "metadata": {},
     "output_type": "execute_result"
    }
   ],
   "source": [
    "knn.fit(X_train, y_train)"
   ]
  },
  {
   "cell_type": "code",
   "execution_count": 440,
   "metadata": {
    "execution": {
     "iopub.execute_input": "2022-11-30T22:50:48.019273Z",
     "iopub.status.busy": "2022-11-30T22:50:48.018207Z",
     "iopub.status.idle": "2022-11-30T22:50:48.032516Z",
     "shell.execute_reply": "2022-11-30T22:50:48.031334Z",
     "shell.execute_reply.started": "2022-11-30T22:50:48.019232Z"
    }
   },
   "outputs": [],
   "source": [
    "previsoes = knn.predict(X_test)"
   ]
  },
  {
   "cell_type": "markdown",
   "metadata": {},
   "source": [
    "#### Normal Data"
   ]
  },
  {
   "cell_type": "code",
   "execution_count": 404,
   "metadata": {
    "execution": {
     "iopub.execute_input": "2022-11-30T22:43:00.424280Z",
     "iopub.status.busy": "2022-11-30T22:43:00.423845Z",
     "iopub.status.idle": "2022-11-30T22:43:00.579851Z",
     "shell.execute_reply": "2022-11-30T22:43:00.578597Z",
     "shell.execute_reply.started": "2022-11-30T22:43:00.424242Z"
    }
   },
   "outputs": [
    {
     "data": {
      "text/plain": [
       "0.70995670995671"
      ]
     },
     "execution_count": 404,
     "metadata": {},
     "output_type": "execute_result"
    },
    {
     "data": {
      "image/png": "[encoded data removed]",
      "text/plain": [
       "<Figure size 576x396 with 1 Axes>"
      ]
     },
     "metadata": {},
     "output_type": "display_data"
    }
   ],
   "source": [
    "cm = ConfusionMatrix(knn)\n",
    "cm.fit(X_train, y_train)\n",
    "cm.score(X_test, y_test)"
   ]
  },
  {
   "cell_type": "code",
   "execution_count": 405,
   "metadata": {
    "execution": {
     "iopub.execute_input": "2022-11-30T22:43:12.094323Z",
     "iopub.status.busy": "2022-11-30T22:43:12.093915Z",
     "iopub.status.idle": "2022-11-30T22:43:12.104836Z",
     "shell.execute_reply": "2022-11-30T22:43:12.103681Z",
     "shell.execute_reply.started": "2022-11-30T22:43:12.094287Z"
    }
   },
   "outputs": [],
   "source": [
    "classification_knn = (classification_report(y_test, previsoes))"
   ]
  },
  {
   "cell_type": "code",
   "execution_count": 406,
   "metadata": {
    "execution": {
     "iopub.execute_input": "2022-11-30T22:43:18.685991Z",
     "iopub.status.busy": "2022-11-30T22:43:18.685591Z",
     "iopub.status.idle": "2022-11-30T22:43:18.691601Z",
     "shell.execute_reply": "2022-11-30T22:43:18.690321Z",
     "shell.execute_reply.started": "2022-11-30T22:43:18.685959Z"
    }
   },
   "outputs": [
    {
     "name": "stdout",
     "output_type": "stream",
     "text": [
      "              precision    recall  f1-score   support\n",
      "\n",
      "           0       0.68      0.76      0.71       111\n",
      "           1       0.75      0.67      0.70       120\n",
      "\n",
      "    accuracy                           0.71       231\n",
      "   macro avg       0.71      0.71      0.71       231\n",
      "weighted avg       0.71      0.71      0.71       231\n",
      "\n"
     ]
    }
   ],
   "source": [
    "print(classification_knn)"
   ]
  },
  {
   "cell_type": "markdown",
   "metadata": {},
   "source": [
    "#### Not a good model, it learned a lot to predict the N value but failed to learn to predict the Y value."
   ]
  },
  {
   "cell_type": "code",
   "execution_count": 407,
   "metadata": {
    "execution": {
     "iopub.execute_input": "2022-11-30T22:43:36.173869Z",
     "iopub.status.busy": "2022-11-30T22:43:36.173441Z",
     "iopub.status.idle": "2022-11-30T22:43:36.179476Z",
     "shell.execute_reply": "2022-11-30T22:43:36.178067Z",
     "shell.execute_reply.started": "2022-11-30T22:43:36.173829Z"
    }
   },
   "outputs": [],
   "source": [
    "score_knn = 0.70995670995671"
   ]
  },
  {
   "cell_type": "markdown",
   "metadata": {},
   "source": [
    "#### StandardScaler"
   ]
  },
  {
   "cell_type": "code",
   "execution_count": 441,
   "metadata": {
    "execution": {
     "iopub.execute_input": "2022-11-30T22:51:18.269299Z",
     "iopub.status.busy": "2022-11-30T22:51:18.268883Z",
     "iopub.status.idle": "2022-11-30T22:51:18.414965Z",
     "shell.execute_reply": "2022-11-30T22:51:18.413424Z",
     "shell.execute_reply.started": "2022-11-30T22:51:18.269264Z"
    }
   },
   "outputs": [
    {
     "data": {
      "text/plain": [
       "0.8008658008658008"
      ]
     },
     "execution_count": 441,
     "metadata": {},
     "output_type": "execute_result"
    },
    {
     "data": {
      "image/png": "[encoded data removed]",
      "text/plain": [
       "<Figure size 576x396 with 1 Axes>"
      ]
     },
     "metadata": {},
     "output_type": "display_data"
    }
   ],
   "source": [
    "cm = ConfusionMatrix(knn)\n",
    "cm.fit(X_train, y_train)\n",
    "cm.score(X_test, y_test)"
   ]
  },
  {
   "cell_type": "code",
   "execution_count": 442,
   "metadata": {
    "execution": {
     "iopub.execute_input": "2022-11-30T22:51:27.176233Z",
     "iopub.status.busy": "2022-11-30T22:51:27.175823Z",
     "iopub.status.idle": "2022-11-30T22:51:27.186464Z",
     "shell.execute_reply": "2022-11-30T22:51:27.185502Z",
     "shell.execute_reply.started": "2022-11-30T22:51:27.176199Z"
    }
   },
   "outputs": [],
   "source": [
    "classification_knn_scaler = (classification_report(y_test, previsoes))"
   ]
  },
  {
   "cell_type": "code",
   "execution_count": 443,
   "metadata": {
    "execution": {
     "iopub.execute_input": "2022-11-30T22:51:30.662723Z",
     "iopub.status.busy": "2022-11-30T22:51:30.662292Z",
     "iopub.status.idle": "2022-11-30T22:51:30.668846Z",
     "shell.execute_reply": "2022-11-30T22:51:30.667627Z",
     "shell.execute_reply.started": "2022-11-30T22:51:30.662682Z"
    }
   },
   "outputs": [
    {
     "name": "stdout",
     "output_type": "stream",
     "text": [
      "              precision    recall  f1-score   support\n",
      "\n",
      "           0       0.75      0.87      0.81       111\n",
      "           1       0.86      0.73      0.79       120\n",
      "\n",
      "    accuracy                           0.80       231\n",
      "   macro avg       0.81      0.80      0.80       231\n",
      "weighted avg       0.81      0.80      0.80       231\n",
      "\n"
     ]
    }
   ],
   "source": [
    "print(classification_knn_scaler)"
   ]
  },
  {
   "cell_type": "markdown",
   "metadata": {},
   "source": [
    "#### When compared to Normal Data it has improved a lot, now we have a good model."
   ]
  },
  {
   "cell_type": "code",
   "execution_count": 444,
   "metadata": {
    "execution": {
     "iopub.execute_input": "2022-11-30T22:52:01.575706Z",
     "iopub.status.busy": "2022-11-30T22:52:01.575285Z",
     "iopub.status.idle": "2022-11-30T22:52:01.581008Z",
     "shell.execute_reply": "2022-11-30T22:52:01.579782Z",
     "shell.execute_reply.started": "2022-11-30T22:52:01.575669Z"
    }
   },
   "outputs": [],
   "source": [
    "score_knn_scaler = 0.8008658008658008"
   ]
  },
  {
   "cell_type": "markdown",
   "metadata": {},
   "source": [
    "#### Logistic Regression"
   ]
  },
  {
   "cell_type": "code",
   "execution_count": 445,
   "metadata": {
    "execution": {
     "iopub.execute_input": "2022-11-30T22:52:33.029279Z",
     "iopub.status.busy": "2022-11-30T22:52:33.028399Z",
     "iopub.status.idle": "2022-11-30T22:52:33.035036Z",
     "shell.execute_reply": "2022-11-30T22:52:33.033554Z",
     "shell.execute_reply.started": "2022-11-30T22:52:33.029166Z"
    }
   },
   "outputs": [],
   "source": [
    "from sklearn.linear_model import LogisticRegression"
   ]
  },
  {
   "cell_type": "code",
   "execution_count": 446,
   "metadata": {
    "execution": {
     "iopub.execute_input": "2022-11-30T22:52:33.268913Z",
     "iopub.status.busy": "2022-11-30T22:52:33.268113Z",
     "iopub.status.idle": "2022-11-30T22:52:33.273836Z",
     "shell.execute_reply": "2022-11-30T22:52:33.272588Z",
     "shell.execute_reply.started": "2022-11-30T22:52:33.268877Z"
    }
   },
   "outputs": [],
   "source": [
    "logistic = LogisticRegression(random_state = 1, max_iter=1000)"
   ]
  },
  {
   "cell_type": "code",
   "execution_count": 447,
   "metadata": {
    "execution": {
     "iopub.execute_input": "2022-11-30T22:52:33.443869Z",
     "iopub.status.busy": "2022-11-30T22:52:33.443465Z",
     "iopub.status.idle": "2022-11-30T22:52:33.457154Z",
     "shell.execute_reply": "2022-11-30T22:52:33.455979Z",
     "shell.execute_reply.started": "2022-11-30T22:52:33.443833Z"
    }
   },
   "outputs": [
    {
     "data": {
      "text/plain": [
       "LogisticRegression(max_iter=1000, random_state=1)"
      ]
     },
     "execution_count": 447,
     "metadata": {},
     "output_type": "execute_result"
    }
   ],
   "source": [
    "logistic.fit(X_train, y_train)"
   ]
  },
  {
   "cell_type": "code",
   "execution_count": 448,
   "metadata": {
    "execution": {
     "iopub.execute_input": "2022-11-30T22:52:33.768662Z",
     "iopub.status.busy": "2022-11-30T22:52:33.768242Z",
     "iopub.status.idle": "2022-11-30T22:52:33.776179Z",
     "shell.execute_reply": "2022-11-30T22:52:33.775001Z",
     "shell.execute_reply.started": "2022-11-30T22:52:33.768625Z"
    }
   },
   "outputs": [],
   "source": [
    "previsoes = logistic.predict(X_test)"
   ]
  },
  {
   "cell_type": "markdown",
   "metadata": {},
   "source": [
    "#### Normal Data"
   ]
  },
  {
   "cell_type": "code",
   "execution_count": 412,
   "metadata": {
    "execution": {
     "iopub.execute_input": "2022-11-30T22:45:13.015645Z",
     "iopub.status.busy": "2022-11-30T22:45:13.015259Z",
     "iopub.status.idle": "2022-11-30T22:45:13.142882Z",
     "shell.execute_reply": "2022-11-30T22:45:13.141530Z",
     "shell.execute_reply.started": "2022-11-30T22:45:13.015613Z"
    }
   },
   "outputs": [
    {
     "data": {
      "text/plain": [
       "0.7142857142857143"
      ]
     },
     "execution_count": 412,
     "metadata": {},
     "output_type": "execute_result"
    },
    {
     "data": {
      "image/png": "[encoded data removed]",
      "text/plain": [
       "<Figure size 576x396 with 1 Axes>"
      ]
     },
     "metadata": {},
     "output_type": "display_data"
    }
   ],
   "source": [
    "cm = ConfusionMatrix(logistic)\n",
    "cm.fit(X_train, y_train)\n",
    "cm.score(X_test, y_test)"
   ]
  },
  {
   "cell_type": "code",
   "execution_count": 413,
   "metadata": {
    "execution": {
     "iopub.execute_input": "2022-11-30T22:45:24.797689Z",
     "iopub.status.busy": "2022-11-30T22:45:24.796614Z",
     "iopub.status.idle": "2022-11-30T22:45:24.806902Z",
     "shell.execute_reply": "2022-11-30T22:45:24.805399Z",
     "shell.execute_reply.started": "2022-11-30T22:45:24.797647Z"
    }
   },
   "outputs": [],
   "source": [
    "logistic_normal = (classification_report(y_test, previsoes))"
   ]
  },
  {
   "cell_type": "code",
   "execution_count": 414,
   "metadata": {
    "execution": {
     "iopub.execute_input": "2022-11-30T22:45:27.585704Z",
     "iopub.status.busy": "2022-11-30T22:45:27.585311Z",
     "iopub.status.idle": "2022-11-30T22:45:27.591279Z",
     "shell.execute_reply": "2022-11-30T22:45:27.590249Z",
     "shell.execute_reply.started": "2022-11-30T22:45:27.585664Z"
    }
   },
   "outputs": [
    {
     "name": "stdout",
     "output_type": "stream",
     "text": [
      "              precision    recall  f1-score   support\n",
      "\n",
      "           0       0.78      0.57      0.66       111\n",
      "           1       0.68      0.85      0.76       120\n",
      "\n",
      "    accuracy                           0.71       231\n",
      "   macro avg       0.73      0.71      0.71       231\n",
      "weighted avg       0.73      0.71      0.71       231\n",
      "\n"
     ]
    }
   ],
   "source": [
    "print(logistic_normal)"
   ]
  },
  {
   "cell_type": "markdown",
   "metadata": {},
   "source": [
    "#### Not a good model, it learned a lot to predict the N value but failed to learn to predict the Y value."
   ]
  },
  {
   "cell_type": "code",
   "execution_count": 415,
   "metadata": {
    "execution": {
     "iopub.execute_input": "2022-11-30T22:45:47.384660Z",
     "iopub.status.busy": "2022-11-30T22:45:47.384210Z",
     "iopub.status.idle": "2022-11-30T22:45:47.390516Z",
     "shell.execute_reply": "2022-11-30T22:45:47.389201Z",
     "shell.execute_reply.started": "2022-11-30T22:45:47.384622Z"
    }
   },
   "outputs": [],
   "source": [
    "logistic_normal = 0.7142857142857143"
   ]
  },
  {
   "cell_type": "markdown",
   "metadata": {},
   "source": [
    "#### SVM"
   ]
  },
  {
   "cell_type": "markdown",
   "metadata": {},
   "source": [
    "#### Here we will use the SVM Model, using our Normal Data, StandardScaler Data and MinMax Data, we will test Three Kernels (Linear, RBF and Poly)."
   ]
  },
  {
   "cell_type": "code",
   "execution_count": 450,
   "metadata": {
    "execution": {
     "iopub.execute_input": "2022-11-30T22:53:11.829739Z",
     "iopub.status.busy": "2022-11-30T22:53:11.829338Z",
     "iopub.status.idle": "2022-11-30T22:53:11.835443Z",
     "shell.execute_reply": "2022-11-30T22:53:11.834183Z",
     "shell.execute_reply.started": "2022-11-30T22:53:11.829707Z"
    }
   },
   "outputs": [],
   "source": [
    "from sklearn.svm import SVC"
   ]
  },
  {
   "cell_type": "code",
   "execution_count": 451,
   "metadata": {
    "execution": {
     "iopub.execute_input": "2022-11-30T22:53:12.215877Z",
     "iopub.status.busy": "2022-11-30T22:53:12.215453Z",
     "iopub.status.idle": "2022-11-30T22:53:12.220567Z",
     "shell.execute_reply": "2022-11-30T22:53:12.219466Z",
     "shell.execute_reply.started": "2022-11-30T22:53:12.215839Z"
    }
   },
   "outputs": [],
   "source": [
    "model = SVC()"
   ]
  },
  {
   "cell_type": "markdown",
   "metadata": {},
   "source": [
    "#### Applying GridSearch"
   ]
  },
  {
   "cell_type": "code",
   "execution_count": 452,
   "metadata": {
    "execution": {
     "iopub.execute_input": "2022-11-30T22:53:13.066329Z",
     "iopub.status.busy": "2022-11-30T22:53:13.065279Z",
     "iopub.status.idle": "2022-11-30T22:53:13.072382Z",
     "shell.execute_reply": "2022-11-30T22:53:13.071232Z",
     "shell.execute_reply.started": "2022-11-30T22:53:13.066287Z"
    }
   },
   "outputs": [],
   "source": [
    "kernel = ['linear', 'rbf', 'poly', 'sigmoid']\n",
    "c = np.array([3, 4, 5])\n",
    "polinomio = np.array([2, 3, 4, 5])\n",
    "gamma = ['auto', 'scale']\n",
    "values_grid = {'C': c, 'kernel': kernel, 'degree': polinomio, 'gamma': gamma}"
   ]
  },
  {
   "cell_type": "code",
   "execution_count": 453,
   "metadata": {
    "execution": {
     "iopub.execute_input": "2022-11-30T22:53:13.861779Z",
     "iopub.status.busy": "2022-11-30T22:53:13.861371Z",
     "iopub.status.idle": "2022-11-30T22:53:13.866586Z",
     "shell.execute_reply": "2022-11-30T22:53:13.865667Z",
     "shell.execute_reply.started": "2022-11-30T22:53:13.861735Z"
    }
   },
   "outputs": [],
   "source": [
    "gridSVM = GridSearchCV(estimator = model, param_grid = values_grid, cv = 2, n_jobs = -1)"
   ]
  },
  {
   "cell_type": "code",
   "execution_count": 454,
   "metadata": {
    "execution": {
     "iopub.execute_input": "2022-11-30T22:53:14.186626Z",
     "iopub.status.busy": "2022-11-30T22:53:14.185479Z",
     "iopub.status.idle": "2022-11-30T22:53:16.219524Z",
     "shell.execute_reply": "2022-11-30T22:53:16.218395Z",
     "shell.execute_reply.started": "2022-11-30T22:53:14.186571Z"
    }
   },
   "outputs": [
    {
     "data": {
      "text/plain": [
       "GridSearchCV(cv=2, estimator=SVC(), n_jobs=-1,\n",
       "             param_grid={'C': array([3, 4, 5]), 'degree': array([2, 3, 4, 5]),\n",
       "                         'gamma': ['auto', 'scale'],\n",
       "                         'kernel': ['linear', 'rbf', 'poly', 'sigmoid']})"
      ]
     },
     "execution_count": 454,
     "metadata": {},
     "output_type": "execute_result"
    }
   ],
   "source": [
    "gridSVM.fit(X_train, y_train)"
   ]
  },
  {
   "cell_type": "markdown",
   "metadata": {},
   "source": [
    "#### StandardScaler - Grid"
   ]
  },
  {
   "cell_type": "code",
   "execution_count": 455,
   "metadata": {
    "execution": {
     "iopub.execute_input": "2022-11-30T22:53:16.222839Z",
     "iopub.status.busy": "2022-11-30T22:53:16.221862Z",
     "iopub.status.idle": "2022-11-30T22:53:16.229548Z",
     "shell.execute_reply": "2022-11-30T22:53:16.228443Z",
     "shell.execute_reply.started": "2022-11-30T22:53:16.222773Z"
    }
   },
   "outputs": [
    {
     "name": "stdout",
     "output_type": "stream",
     "text": [
      "Kernel:  poly\n",
      "C:  4\n",
      "Polinomio 4\n",
      "Gamma auto\n",
      "Score:  0.751363073110285\n"
     ]
    }
   ],
   "source": [
    "print('Kernel: ', gridSVM.best_estimator_.kernel)\n",
    "print('C: ', gridSVM.best_estimator_.C)\n",
    "print('Polinomio', gridSVM.best_estimator_.degree)\n",
    "print('Gamma', gridSVM.best_estimator_.gamma)\n",
    "print('Score: ', gridSVM.best_score_)"
   ]
  },
  {
   "cell_type": "markdown",
   "metadata": {},
   "source": [
    "#### Running SVM"
   ]
  },
  {
   "cell_type": "code",
   "execution_count": 457,
   "metadata": {
    "execution": {
     "iopub.execute_input": "2022-11-30T22:54:16.855331Z",
     "iopub.status.busy": "2022-11-30T22:54:16.854169Z",
     "iopub.status.idle": "2022-11-30T22:54:16.860586Z",
     "shell.execute_reply": "2022-11-30T22:54:16.859392Z",
     "shell.execute_reply.started": "2022-11-30T22:54:16.855288Z"
    }
   },
   "outputs": [],
   "source": [
    "svm = SVC(kernel = 'poly', gamma = 'auto', random_state = 1, C = 4.0)"
   ]
  },
  {
   "cell_type": "code",
   "execution_count": 458,
   "metadata": {
    "execution": {
     "iopub.execute_input": "2022-11-30T22:54:21.985595Z",
     "iopub.status.busy": "2022-11-30T22:54:21.985169Z",
     "iopub.status.idle": "2022-11-30T22:54:22.009289Z",
     "shell.execute_reply": "2022-11-30T22:54:22.007814Z",
     "shell.execute_reply.started": "2022-11-30T22:54:21.985557Z"
    }
   },
   "outputs": [
    {
     "data": {
      "text/plain": [
       "SVC(C=4.0, gamma='auto', kernel='poly', random_state=1)"
      ]
     },
     "execution_count": 458,
     "metadata": {},
     "output_type": "execute_result"
    }
   ],
   "source": [
    "svm.fit(X_train, y_train)"
   ]
  },
  {
   "cell_type": "code",
   "execution_count": 459,
   "metadata": {
    "execution": {
     "iopub.execute_input": "2022-11-30T22:54:27.549761Z",
     "iopub.status.busy": "2022-11-30T22:54:27.549301Z",
     "iopub.status.idle": "2022-11-30T22:54:27.558082Z",
     "shell.execute_reply": "2022-11-30T22:54:27.556880Z",
     "shell.execute_reply.started": "2022-11-30T22:54:27.549724Z"
    }
   },
   "outputs": [],
   "source": [
    "previsoes = svm.predict(X_test)"
   ]
  },
  {
   "cell_type": "markdown",
   "metadata": {},
   "source": [
    "#### StandardScaler"
   ]
  },
  {
   "cell_type": "code",
   "execution_count": 460,
   "metadata": {
    "execution": {
     "iopub.execute_input": "2022-11-30T22:54:28.523809Z",
     "iopub.status.busy": "2022-11-30T22:54:28.523410Z",
     "iopub.status.idle": "2022-11-30T22:54:28.656920Z",
     "shell.execute_reply": "2022-11-30T22:54:28.655622Z",
     "shell.execute_reply.started": "2022-11-30T22:54:28.523775Z"
    }
   },
   "outputs": [
    {
     "data": {
      "text/plain": [
       "0.7792207792207793"
      ]
     },
     "execution_count": 460,
     "metadata": {},
     "output_type": "execute_result"
    },
    {
     "data": {
      "image/png": "[encoded data removed]",
      "text/plain": [
       "<Figure size 576x396 with 1 Axes>"
      ]
     },
     "metadata": {},
     "output_type": "display_data"
    }
   ],
   "source": [
    "cm = ConfusionMatrix(svm)\n",
    "cm.fit(X_train, y_train)\n",
    "cm.score(X_test, y_test)"
   ]
  },
  {
   "cell_type": "code",
   "execution_count": 461,
   "metadata": {
    "execution": {
     "iopub.execute_input": "2022-11-30T22:54:43.616506Z",
     "iopub.status.busy": "2022-11-30T22:54:43.615954Z",
     "iopub.status.idle": "2022-11-30T22:54:43.627781Z",
     "shell.execute_reply": "2022-11-30T22:54:43.626780Z",
     "shell.execute_reply.started": "2022-11-30T22:54:43.616460Z"
    }
   },
   "outputs": [],
   "source": [
    "svm = classification_report(y_test, previsoes)"
   ]
  },
  {
   "cell_type": "code",
   "execution_count": 462,
   "metadata": {
    "execution": {
     "iopub.execute_input": "2022-11-30T22:54:49.804256Z",
     "iopub.status.busy": "2022-11-30T22:54:49.803868Z",
     "iopub.status.idle": "2022-11-30T22:54:49.810422Z",
     "shell.execute_reply": "2022-11-30T22:54:49.808996Z",
     "shell.execute_reply.started": "2022-11-30T22:54:49.804223Z"
    }
   },
   "outputs": [
    {
     "name": "stdout",
     "output_type": "stream",
     "text": [
      "              precision    recall  f1-score   support\n",
      "\n",
      "           0       0.81      0.71      0.76       111\n",
      "           1       0.76      0.84      0.80       120\n",
      "\n",
      "    accuracy                           0.78       231\n",
      "   macro avg       0.78      0.78      0.78       231\n",
      "weighted avg       0.78      0.78      0.78       231\n",
      "\n"
     ]
    }
   ],
   "source": [
    "print(svm)"
   ]
  },
  {
   "cell_type": "markdown",
   "metadata": {},
   "source": [
    "#### It's not a bad model but it's not a great model either, it didn't do very well at predicting the negative values."
   ]
  },
  {
   "cell_type": "code",
   "execution_count": 463,
   "metadata": {
    "execution": {
     "iopub.execute_input": "2022-11-30T22:55:09.929673Z",
     "iopub.status.busy": "2022-11-30T22:55:09.929236Z",
     "iopub.status.idle": "2022-11-30T22:55:09.934364Z",
     "shell.execute_reply": "2022-11-30T22:55:09.933531Z",
     "shell.execute_reply.started": "2022-11-30T22:55:09.929636Z"
    }
   },
   "outputs": [],
   "source": [
    "score_svm = 0.7792207792207793"
   ]
  },
  {
   "cell_type": "markdown",
   "metadata": {},
   "source": [
    "#### Ada Boost"
   ]
  },
  {
   "cell_type": "markdown",
   "metadata": {},
   "source": [
    "#### Here we will use the AdaBoost Model, using our StandardScaler Data, here we use the GridSearch Model to figure out the best metrics to use in this model."
   ]
  },
  {
   "cell_type": "code",
   "execution_count": 464,
   "metadata": {
    "execution": {
     "iopub.execute_input": "2022-11-30T22:55:59.887656Z",
     "iopub.status.busy": "2022-11-30T22:55:59.886431Z",
     "iopub.status.idle": "2022-11-30T22:55:59.892789Z",
     "shell.execute_reply": "2022-11-30T22:55:59.891618Z",
     "shell.execute_reply.started": "2022-11-30T22:55:59.887606Z"
    }
   },
   "outputs": [],
   "source": [
    "from sklearn.ensemble import AdaBoostClassifier"
   ]
  },
  {
   "cell_type": "markdown",
   "metadata": {},
   "source": [
    "#### Applying GridSearch"
   ]
  },
  {
   "cell_type": "code",
   "execution_count": 470,
   "metadata": {
    "execution": {
     "iopub.execute_input": "2022-11-30T22:56:42.429340Z",
     "iopub.status.busy": "2022-11-30T22:56:42.428194Z",
     "iopub.status.idle": "2022-11-30T22:56:42.434855Z",
     "shell.execute_reply": "2022-11-30T22:56:42.433982Z",
     "shell.execute_reply.started": "2022-11-30T22:56:42.429283Z"
    }
   },
   "outputs": [],
   "source": [
    "n_estimators = np.array([500])\n",
    "learning_rate = np.array([1.0, 1.1, 1.5, 1.7, 0.5, 0.4])\n",
    "values_grid = {'n_estimators': n_estimators, 'learning_rate': learning_rate}"
   ]
  },
  {
   "cell_type": "code",
   "execution_count": 471,
   "metadata": {
    "execution": {
     "iopub.execute_input": "2022-11-30T22:56:43.245833Z",
     "iopub.status.busy": "2022-11-30T22:56:43.245142Z",
     "iopub.status.idle": "2022-11-30T22:56:43.250745Z",
     "shell.execute_reply": "2022-11-30T22:56:43.249739Z",
     "shell.execute_reply.started": "2022-11-30T22:56:43.245784Z"
    }
   },
   "outputs": [],
   "source": [
    "model = AdaBoostClassifier()"
   ]
  },
  {
   "cell_type": "code",
   "execution_count": 472,
   "metadata": {
    "execution": {
     "iopub.execute_input": "2022-11-30T22:56:43.601468Z",
     "iopub.status.busy": "2022-11-30T22:56:43.601032Z",
     "iopub.status.idle": "2022-11-30T22:56:43.607204Z",
     "shell.execute_reply": "2022-11-30T22:56:43.605943Z",
     "shell.execute_reply.started": "2022-11-30T22:56:43.601429Z"
    }
   },
   "outputs": [],
   "source": [
    "gridAdaBoost = GridSearchCV(estimator = model, param_grid = values_grid, cv = 3, n_jobs = -1)"
   ]
  },
  {
   "cell_type": "code",
   "execution_count": 473,
   "metadata": {
    "execution": {
     "iopub.execute_input": "2022-11-30T22:56:43.990827Z",
     "iopub.status.busy": "2022-11-30T22:56:43.989768Z",
     "iopub.status.idle": "2022-11-30T22:56:50.896304Z",
     "shell.execute_reply": "2022-11-30T22:56:50.895117Z",
     "shell.execute_reply.started": "2022-11-30T22:56:43.990788Z"
    }
   },
   "outputs": [
    {
     "data": {
      "text/plain": [
       "GridSearchCV(cv=3, estimator=AdaBoostClassifier(), n_jobs=-1,\n",
       "             param_grid={'learning_rate': array([1. , 1.1, 1.5, 1.7, 0.5, 0.4]),\n",
       "                         'n_estimators': array([500])})"
      ]
     },
     "execution_count": 473,
     "metadata": {},
     "output_type": "execute_result"
    }
   ],
   "source": [
    "gridAdaBoost.fit(X_train, y_train)"
   ]
  },
  {
   "cell_type": "markdown",
   "metadata": {},
   "source": [
    "#### StandardScaler - Grid"
   ]
  },
  {
   "cell_type": "code",
   "execution_count": 474,
   "metadata": {
    "execution": {
     "iopub.execute_input": "2022-11-30T22:56:50.899030Z",
     "iopub.status.busy": "2022-11-30T22:56:50.898448Z",
     "iopub.status.idle": "2022-11-30T22:56:50.904292Z",
     "shell.execute_reply": "2022-11-30T22:56:50.903490Z",
     "shell.execute_reply.started": "2022-11-30T22:56:50.898983Z"
    }
   },
   "outputs": [
    {
     "name": "stdout",
     "output_type": "stream",
     "text": [
      "Learning Rate:  1.0\n",
      "Score:  0.7829505483136768\n"
     ]
    }
   ],
   "source": [
    "print('Learning Rate: ', gridAdaBoost.best_estimator_.learning_rate)\n",
    "print('Score: ', gridAdaBoost.best_score_)"
   ]
  },
  {
   "cell_type": "markdown",
   "metadata": {},
   "source": [
    "#### Running AdaBoost"
   ]
  },
  {
   "cell_type": "code",
   "execution_count": 475,
   "metadata": {
    "execution": {
     "iopub.execute_input": "2022-11-30T22:57:22.311955Z",
     "iopub.status.busy": "2022-11-30T22:57:22.311550Z",
     "iopub.status.idle": "2022-11-30T22:57:22.317538Z",
     "shell.execute_reply": "2022-11-30T22:57:22.316478Z",
     "shell.execute_reply.started": "2022-11-30T22:57:22.311922Z"
    }
   },
   "outputs": [],
   "source": [
    "ada_boost = AdaBoostClassifier(n_estimators = 500, learning_rate = 1.0, random_state = 0)"
   ]
  },
  {
   "cell_type": "code",
   "execution_count": 476,
   "metadata": {
    "execution": {
     "iopub.execute_input": "2022-11-30T22:57:29.187790Z",
     "iopub.status.busy": "2022-11-30T22:57:29.186963Z",
     "iopub.status.idle": "2022-11-30T22:57:30.072867Z",
     "shell.execute_reply": "2022-11-30T22:57:30.071662Z",
     "shell.execute_reply.started": "2022-11-30T22:57:29.187748Z"
    }
   },
   "outputs": [
    {
     "data": {
      "text/plain": [
       "AdaBoostClassifier(n_estimators=500, random_state=0)"
      ]
     },
     "execution_count": 476,
     "metadata": {},
     "output_type": "execute_result"
    }
   ],
   "source": [
    "ada_boost.fit(X_train, y_train)"
   ]
  },
  {
   "cell_type": "code",
   "execution_count": 477,
   "metadata": {
    "execution": {
     "iopub.execute_input": "2022-11-30T22:57:40.864072Z",
     "iopub.status.busy": "2022-11-30T22:57:40.863668Z",
     "iopub.status.idle": "2022-11-30T22:57:40.952440Z",
     "shell.execute_reply": "2022-11-30T22:57:40.951518Z",
     "shell.execute_reply.started": "2022-11-30T22:57:40.864036Z"
    }
   },
   "outputs": [],
   "source": [
    "previsoes = ada_boost.predict(X_test)"
   ]
  },
  {
   "cell_type": "markdown",
   "metadata": {},
   "source": [
    "#### StandardScaler"
   ]
  },
  {
   "cell_type": "code",
   "execution_count": 478,
   "metadata": {
    "execution": {
     "iopub.execute_input": "2022-11-30T22:57:55.586402Z",
     "iopub.status.busy": "2022-11-30T22:57:55.585989Z",
     "iopub.status.idle": "2022-11-30T22:57:55.884285Z",
     "shell.execute_reply": "2022-11-30T22:57:55.883134Z",
     "shell.execute_reply.started": "2022-11-30T22:57:55.586368Z"
    }
   },
   "outputs": [
    {
     "data": {
      "text/plain": [
       "0.7965367965367965"
      ]
     },
     "execution_count": 478,
     "metadata": {},
     "output_type": "execute_result"
    },
    {
     "data": {
      "image/png": "[encoded data removed]",
      "text/plain": [
       "<Figure size 576x396 with 1 Axes>"
      ]
     },
     "metadata": {},
     "output_type": "display_data"
    }
   ],
   "source": [
    "cm = ConfusionMatrix(ada_boost)\n",
    "cm.fit(X_train, y_train)\n",
    "cm.score(X_test, y_test)"
   ]
  },
  {
   "cell_type": "code",
   "execution_count": 479,
   "metadata": {
    "execution": {
     "iopub.execute_input": "2022-11-30T22:58:06.907880Z",
     "iopub.status.busy": "2022-11-30T22:58:06.906948Z",
     "iopub.status.idle": "2022-11-30T22:58:06.920057Z",
     "shell.execute_reply": "2022-11-30T22:58:06.919178Z",
     "shell.execute_reply.started": "2022-11-30T22:58:06.907835Z"
    }
   },
   "outputs": [],
   "source": [
    "classification_ada_scaler = (classification_report(y_test, previsoes))"
   ]
  },
  {
   "cell_type": "code",
   "execution_count": 480,
   "metadata": {
    "execution": {
     "iopub.execute_input": "2022-11-30T22:58:13.566068Z",
     "iopub.status.busy": "2022-11-30T22:58:13.565654Z",
     "iopub.status.idle": "2022-11-30T22:58:13.571431Z",
     "shell.execute_reply": "2022-11-30T22:58:13.570519Z",
     "shell.execute_reply.started": "2022-11-30T22:58:13.566023Z"
    }
   },
   "outputs": [
    {
     "name": "stdout",
     "output_type": "stream",
     "text": [
      "              precision    recall  f1-score   support\n",
      "\n",
      "           0       0.77      0.83      0.80       111\n",
      "           1       0.83      0.77      0.80       120\n",
      "\n",
      "    accuracy                           0.80       231\n",
      "   macro avg       0.80      0.80      0.80       231\n",
      "weighted avg       0.80      0.80      0.80       231\n",
      "\n"
     ]
    }
   ],
   "source": [
    "print(classification_ada_scaler)"
   ]
  },
  {
   "cell_type": "code",
   "execution_count": 481,
   "metadata": {
    "execution": {
     "iopub.execute_input": "2022-11-30T22:58:32.155649Z",
     "iopub.status.busy": "2022-11-30T22:58:32.155236Z",
     "iopub.status.idle": "2022-11-30T22:58:32.160524Z",
     "shell.execute_reply": "2022-11-30T22:58:32.159378Z",
     "shell.execute_reply.started": "2022-11-30T22:58:32.155615Z"
    }
   },
   "outputs": [],
   "source": [
    "score_ada_scaler = 0.7965367965367965"
   ]
  },
  {
   "cell_type": "markdown",
   "metadata": {},
   "source": [
    "#### Gradient Boosting"
   ]
  },
  {
   "cell_type": "code",
   "execution_count": 482,
   "metadata": {
    "execution": {
     "iopub.execute_input": "2022-11-30T22:58:54.088959Z",
     "iopub.status.busy": "2022-11-30T22:58:54.088549Z",
     "iopub.status.idle": "2022-11-30T22:58:54.094044Z",
     "shell.execute_reply": "2022-11-30T22:58:54.092893Z",
     "shell.execute_reply.started": "2022-11-30T22:58:54.088925Z"
    }
   },
   "outputs": [],
   "source": [
    "from sklearn.ensemble import GradientBoostingClassifier"
   ]
  },
  {
   "cell_type": "markdown",
   "metadata": {},
   "source": [
    "#### Here we will use the Gradient Boosting Model, using our StandardScaler Data, here we use the GridSearch Model to figure out the best metrics to use in this model."
   ]
  },
  {
   "cell_type": "code",
   "execution_count": 483,
   "metadata": {
    "execution": {
     "iopub.execute_input": "2022-11-30T22:58:56.004754Z",
     "iopub.status.busy": "2022-11-30T22:58:56.004338Z",
     "iopub.status.idle": "2022-11-30T22:58:56.010434Z",
     "shell.execute_reply": "2022-11-30T22:58:56.009180Z",
     "shell.execute_reply.started": "2022-11-30T22:58:56.004716Z"
    }
   },
   "outputs": [],
   "source": [
    "n_estimators = np.array([300])\n",
    "learning_rate = np.array([0.01, 0.009, 0.008, 0.007, 0.011, 0.012, 0.013, 0.02, 0.005])\n",
    "values_grid = {'n_estimators': n_estimators, 'learning_rate': learning_rate}"
   ]
  },
  {
   "cell_type": "code",
   "execution_count": 484,
   "metadata": {
    "execution": {
     "iopub.execute_input": "2022-11-30T22:58:56.655889Z",
     "iopub.status.busy": "2022-11-30T22:58:56.654962Z",
     "iopub.status.idle": "2022-11-30T22:58:56.661285Z",
     "shell.execute_reply": "2022-11-30T22:58:56.660117Z",
     "shell.execute_reply.started": "2022-11-30T22:58:56.655848Z"
    }
   },
   "outputs": [],
   "source": [
    "model = GradientBoostingClassifier()"
   ]
  },
  {
   "cell_type": "code",
   "execution_count": 485,
   "metadata": {
    "execution": {
     "iopub.execute_input": "2022-11-30T22:58:57.068334Z",
     "iopub.status.busy": "2022-11-30T22:58:57.067942Z",
     "iopub.status.idle": "2022-11-30T22:58:57.073319Z",
     "shell.execute_reply": "2022-11-30T22:58:57.072429Z",
     "shell.execute_reply.started": "2022-11-30T22:58:57.068304Z"
    }
   },
   "outputs": [],
   "source": [
    "gridGradient = GridSearchCV(estimator = model, param_grid = values_grid, cv = 3, n_jobs = -1)"
   ]
  },
  {
   "cell_type": "code",
   "execution_count": 486,
   "metadata": {
    "execution": {
     "iopub.execute_input": "2022-11-30T22:58:57.743571Z",
     "iopub.status.busy": "2022-11-30T22:58:57.743163Z",
     "iopub.status.idle": "2022-11-30T22:59:01.176241Z",
     "shell.execute_reply": "2022-11-30T22:59:01.175045Z",
     "shell.execute_reply.started": "2022-11-30T22:58:57.743537Z"
    }
   },
   "outputs": [
    {
     "data": {
      "text/plain": [
       "GridSearchCV(cv=3, estimator=GradientBoostingClassifier(), n_jobs=-1,\n",
       "             param_grid={'learning_rate': array([0.01 , 0.009, 0.008, 0.007, 0.011, 0.012, 0.013, 0.02 , 0.005]),\n",
       "                         'n_estimators': array([300])})"
      ]
     },
     "execution_count": 486,
     "metadata": {},
     "output_type": "execute_result"
    }
   ],
   "source": [
    "gridGradient.fit(X_train, y_train)"
   ]
  },
  {
   "cell_type": "markdown",
   "metadata": {},
   "source": [
    "#### StandardScaler Data - Grid"
   ]
  },
  {
   "cell_type": "code",
   "execution_count": 487,
   "metadata": {
    "execution": {
     "iopub.execute_input": "2022-11-30T22:59:02.318300Z",
     "iopub.status.busy": "2022-11-30T22:59:02.317615Z",
     "iopub.status.idle": "2022-11-30T22:59:02.324684Z",
     "shell.execute_reply": "2022-11-30T22:59:02.323498Z",
     "shell.execute_reply.started": "2022-11-30T22:59:02.318261Z"
    }
   },
   "outputs": [
    {
     "name": "stdout",
     "output_type": "stream",
     "text": [
      "Learning Rate:  0.02\n",
      "Score:  0.7736292158079867\n"
     ]
    }
   ],
   "source": [
    "print('Learning Rate: ', gridGradient.best_estimator_.learning_rate)\n",
    "print('Score: ', gridGradient.best_score_)"
   ]
  },
  {
   "cell_type": "markdown",
   "metadata": {},
   "source": [
    "#### Running GradientBoosting"
   ]
  },
  {
   "cell_type": "code",
   "execution_count": 488,
   "metadata": {
    "execution": {
     "iopub.execute_input": "2022-11-30T22:59:31.124358Z",
     "iopub.status.busy": "2022-11-30T22:59:31.123952Z",
     "iopub.status.idle": "2022-11-30T22:59:31.130319Z",
     "shell.execute_reply": "2022-11-30T22:59:31.129068Z",
     "shell.execute_reply.started": "2022-11-30T22:59:31.124325Z"
    }
   },
   "outputs": [],
   "source": [
    "grad_boost = GradientBoostingClassifier(n_estimators = 300, learning_rate = 0.02, random_state = 0)"
   ]
  },
  {
   "cell_type": "code",
   "execution_count": 489,
   "metadata": {
    "execution": {
     "iopub.execute_input": "2022-11-30T22:59:37.119141Z",
     "iopub.status.busy": "2022-11-30T22:59:37.118727Z",
     "iopub.status.idle": "2022-11-30T22:59:37.435358Z",
     "shell.execute_reply": "2022-11-30T22:59:37.434276Z",
     "shell.execute_reply.started": "2022-11-30T22:59:37.119080Z"
    }
   },
   "outputs": [
    {
     "data": {
      "text/plain": [
       "GradientBoostingClassifier(learning_rate=0.02, n_estimators=300, random_state=0)"
      ]
     },
     "execution_count": 489,
     "metadata": {},
     "output_type": "execute_result"
    }
   ],
   "source": [
    "grad_boost.fit(X_train, y_train)"
   ]
  },
  {
   "cell_type": "code",
   "execution_count": 490,
   "metadata": {
    "execution": {
     "iopub.execute_input": "2022-11-30T22:59:41.658414Z",
     "iopub.status.busy": "2022-11-30T22:59:41.657972Z",
     "iopub.status.idle": "2022-11-30T22:59:41.667179Z",
     "shell.execute_reply": "2022-11-30T22:59:41.665792Z",
     "shell.execute_reply.started": "2022-11-30T22:59:41.658374Z"
    }
   },
   "outputs": [],
   "source": [
    "previsoes = grad_boost.predict(X_test)"
   ]
  },
  {
   "cell_type": "markdown",
   "metadata": {},
   "source": [
    "#### StandardScaler"
   ]
  },
  {
   "cell_type": "code",
   "execution_count": 491,
   "metadata": {
    "execution": {
     "iopub.execute_input": "2022-11-30T22:59:56.545916Z",
     "iopub.status.busy": "2022-11-30T22:59:56.544929Z",
     "iopub.status.idle": "2022-11-30T22:59:56.674020Z",
     "shell.execute_reply": "2022-11-30T22:59:56.672772Z",
     "shell.execute_reply.started": "2022-11-30T22:59:56.545870Z"
    }
   },
   "outputs": [
    {
     "data": {
      "text/plain": [
       "0.7965367965367965"
      ]
     },
     "execution_count": 491,
     "metadata": {},
     "output_type": "execute_result"
    },
    {
     "data": {
      "image/png": "[encoded data removed]",
      "text/plain": [
       "<Figure size 576x396 with 1 Axes>"
      ]
     },
     "metadata": {},
     "output_type": "display_data"
    }
   ],
   "source": [
    "cm = ConfusionMatrix(grad_boost)\n",
    "cm.fit(X_train, y_train)\n",
    "cm.score(X_test, y_test)"
   ]
  },
  {
   "cell_type": "code",
   "execution_count": 492,
   "metadata": {
    "execution": {
     "iopub.execute_input": "2022-11-30T23:00:05.427866Z",
     "iopub.status.busy": "2022-11-30T23:00:05.427478Z",
     "iopub.status.idle": "2022-11-30T23:00:05.438446Z",
     "shell.execute_reply": "2022-11-30T23:00:05.437154Z",
     "shell.execute_reply.started": "2022-11-30T23:00:05.427834Z"
    }
   },
   "outputs": [],
   "source": [
    "classification_grad_standard = (classification_report(y_test, previsoes))"
   ]
  },
  {
   "cell_type": "code",
   "execution_count": 493,
   "metadata": {
    "execution": {
     "iopub.execute_input": "2022-11-30T23:00:08.536043Z",
     "iopub.status.busy": "2022-11-30T23:00:08.534969Z",
     "iopub.status.idle": "2022-11-30T23:00:08.540996Z",
     "shell.execute_reply": "2022-11-30T23:00:08.540076Z",
     "shell.execute_reply.started": "2022-11-30T23:00:08.536000Z"
    }
   },
   "outputs": [
    {
     "name": "stdout",
     "output_type": "stream",
     "text": [
      "              precision    recall  f1-score   support\n",
      "\n",
      "           0       0.84      0.71      0.77       111\n",
      "           1       0.77      0.88      0.82       120\n",
      "\n",
      "    accuracy                           0.80       231\n",
      "   macro avg       0.80      0.79      0.79       231\n",
      "weighted avg       0.80      0.80      0.79       231\n",
      "\n"
     ]
    }
   ],
   "source": [
    "print(classification_grad_standard)"
   ]
  },
  {
   "cell_type": "code",
   "execution_count": 494,
   "metadata": {
    "execution": {
     "iopub.execute_input": "2022-11-30T23:00:26.476258Z",
     "iopub.status.busy": "2022-11-30T23:00:26.475846Z",
     "iopub.status.idle": "2022-11-30T23:00:26.481622Z",
     "shell.execute_reply": "2022-11-30T23:00:26.480308Z",
     "shell.execute_reply.started": "2022-11-30T23:00:26.476226Z"
    }
   },
   "outputs": [],
   "source": [
    "score_grad_standard = 0.7965367965367965"
   ]
  },
  {
   "cell_type": "markdown",
   "metadata": {},
   "source": [
    "#### Checking key variables to predict the outcome."
   ]
  },
  {
   "cell_type": "markdown",
   "metadata": {},
   "source": [
    "#### CHI-2"
   ]
  },
  {
   "cell_type": "code",
   "execution_count": 495,
   "metadata": {
    "execution": {
     "iopub.execute_input": "2022-11-30T23:01:21.305476Z",
     "iopub.status.busy": "2022-11-30T23:01:21.305081Z",
     "iopub.status.idle": "2022-11-30T23:01:21.316152Z",
     "shell.execute_reply": "2022-11-30T23:01:21.315199Z",
     "shell.execute_reply.started": "2022-11-30T23:01:21.305445Z"
    }
   },
   "outputs": [],
   "source": [
    "from sklearn.feature_selection import SelectKBest\n",
    "from sklearn.feature_selection import chi2\n",
    "\n",
    "features = X\n",
    "target = y\n",
    "\n",
    "best_features = SelectKBest(score_func = chi2,k = 'all')\n",
    "fit = best_features.fit(features,target)\n",
    "\n",
    "featureScores = pd.DataFrame(data = fit.scores_,index = list(columns),columns = ['Chi Squared Score']) "
   ]
  },
  {
   "cell_type": "code",
   "execution_count": 496,
   "metadata": {
    "execution": {
     "iopub.execute_input": "2022-11-30T23:01:30.613551Z",
     "iopub.status.busy": "2022-11-30T23:01:30.613160Z",
     "iopub.status.idle": "2022-11-30T23:01:30.627191Z",
     "shell.execute_reply": "2022-11-30T23:01:30.625866Z",
     "shell.execute_reply.started": "2022-11-30T23:01:30.613519Z"
    }
   },
   "outputs": [
    {
     "data": {
      "text/html": [
       "<div>\n",
       "<style scoped>\n",
       "    .dataframe tbody tr th:only-of-type {\n",
       "        vertical-align: middle;\n",
       "    }\n",
       "\n",
       "    .dataframe tbody tr th {\n",
       "        vertical-align: top;\n",
       "    }\n",
       "\n",
       "    .dataframe thead th {\n",
       "        text-align: right;\n",
       "    }\n",
       "</style>\n",
       "<table border=\"1\" class=\"dataframe\">\n",
       "  <thead>\n",
       "    <tr style=\"text-align: right;\">\n",
       "      <th></th>\n",
       "      <th>Chi Squared Score</th>\n",
       "    </tr>\n",
       "  </thead>\n",
       "  <tbody>\n",
       "    <tr>\n",
       "      <th>CoapplicantIncome</th>\n",
       "      <td>5563.095265</td>\n",
       "    </tr>\n",
       "    <tr>\n",
       "      <th>ApplicantIncome</th>\n",
       "      <td>412.370785</td>\n",
       "    </tr>\n",
       "    <tr>\n",
       "      <th>Credit_History</th>\n",
       "      <td>46.065990</td>\n",
       "    </tr>\n",
       "    <tr>\n",
       "      <th>LoanAmount</th>\n",
       "      <td>45.616735</td>\n",
       "    </tr>\n",
       "    <tr>\n",
       "      <th>Education</th>\n",
       "      <td>9.086486</td>\n",
       "    </tr>\n",
       "    <tr>\n",
       "      <th>Dependents</th>\n",
       "      <td>3.207273</td>\n",
       "    </tr>\n",
       "    <tr>\n",
       "      <th>Married</th>\n",
       "      <td>2.236140</td>\n",
       "    </tr>\n",
       "    <tr>\n",
       "      <th>Property_Area</th>\n",
       "      <td>0.677337</td>\n",
       "    </tr>\n",
       "    <tr>\n",
       "      <th>Gender</th>\n",
       "      <td>0.313099</td>\n",
       "    </tr>\n",
       "    <tr>\n",
       "      <th>Self_Employed</th>\n",
       "      <td>0.238095</td>\n",
       "    </tr>\n",
       "    <tr>\n",
       "      <th>Loan_Amount_Term</th>\n",
       "      <td>0.031120</td>\n",
       "    </tr>\n",
       "  </tbody>\n",
       "</table>\n",
       "</div>"
      ],
      "text/plain": [
       "                   Chi Squared Score\n",
       "CoapplicantIncome        5563.095265\n",
       "ApplicantIncome           412.370785\n",
       "Credit_History             46.065990\n",
       "LoanAmount                 45.616735\n",
       "Education                   9.086486\n",
       "Dependents                  3.207273\n",
       "Married                     2.236140\n",
       "Property_Area               0.677337\n",
       "Gender                      0.313099\n",
       "Self_Employed               0.238095\n",
       "Loan_Amount_Term            0.031120"
      ]
     },
     "execution_count": 496,
     "metadata": {},
     "output_type": "execute_result"
    }
   ],
   "source": [
    "featureScores.sort_values(by = 'Chi Squared Score', ascending = False)"
   ]
  },
  {
   "cell_type": "markdown",
   "metadata": {},
   "source": [
    "#### Decision Tree"
   ]
  },
  {
   "cell_type": "code",
   "execution_count": 497,
   "metadata": {
    "execution": {
     "iopub.execute_input": "2022-11-30T23:02:03.696607Z",
     "iopub.status.busy": "2022-11-30T23:02:03.695473Z",
     "iopub.status.idle": "2022-11-30T23:02:03.705138Z",
     "shell.execute_reply": "2022-11-30T23:02:03.704034Z",
     "shell.execute_reply.started": "2022-11-30T23:02:03.696553Z"
    }
   },
   "outputs": [
    {
     "data": {
      "text/plain": [
       "Credit_History       0.337157\n",
       "LoanAmount           0.217581\n",
       "ApplicantIncome      0.162869\n",
       "CoapplicantIncome    0.092034\n",
       "Loan_Amount_Term     0.049764\n",
       "Property_Area        0.047454\n",
       "Dependents           0.031819\n",
       "Married              0.028511\n",
       "Gender               0.014773\n",
       "Education            0.014522\n",
       "Self_Employed        0.003516\n",
       "dtype: float64"
      ]
     },
     "execution_count": 497,
     "metadata": {},
     "output_type": "execute_result"
    }
   ],
   "source": [
    "feature_imp"
   ]
  },
  {
   "cell_type": "markdown",
   "metadata": {},
   "source": [
    "#### Random Forest"
   ]
  },
  {
   "cell_type": "code",
   "execution_count": 498,
   "metadata": {
    "execution": {
     "iopub.execute_input": "2022-11-30T23:02:15.489820Z",
     "iopub.status.busy": "2022-11-30T23:02:15.489363Z",
     "iopub.status.idle": "2022-11-30T23:02:15.499740Z",
     "shell.execute_reply": "2022-11-30T23:02:15.498496Z",
     "shell.execute_reply.started": "2022-11-30T23:02:15.489779Z"
    }
   },
   "outputs": [
    {
     "data": {
      "text/plain": [
       "Credit_History       0.240207\n",
       "ApplicantIncome      0.214730\n",
       "LoanAmount           0.182214\n",
       "CoapplicantIncome    0.116487\n",
       "Property_Area        0.055278\n",
       "Dependents           0.047730\n",
       "Loan_Amount_Term     0.047602\n",
       "Married              0.028446\n",
       "Education            0.025616\n",
       "Gender               0.022284\n",
       "Self_Employed        0.019406\n",
       "dtype: float64"
      ]
     },
     "execution_count": 498,
     "metadata": {},
     "output_type": "execute_result"
    }
   ],
   "source": [
    "feature_imp_random"
   ]
  },
  {
   "cell_type": "markdown",
   "metadata": {},
   "source": [
    "#### Extra Trees"
   ]
  },
  {
   "cell_type": "code",
   "execution_count": 502,
   "metadata": {
    "execution": {
     "iopub.execute_input": "2022-11-30T23:03:26.495831Z",
     "iopub.status.busy": "2022-11-30T23:03:26.495018Z",
     "iopub.status.idle": "2022-11-30T23:03:26.503791Z",
     "shell.execute_reply": "2022-11-30T23:03:26.502639Z",
     "shell.execute_reply.started": "2022-11-30T23:03:26.495788Z"
    }
   },
   "outputs": [
    {
     "data": {
      "text/plain": [
       "Credit_History       0.230239\n",
       "LoanAmount           0.182046\n",
       "ApplicantIncome      0.173030\n",
       "CoapplicantIncome    0.121668\n",
       "Property_Area        0.066301\n",
       "Dependents           0.065108\n",
       "Loan_Amount_Term     0.052531\n",
       "Self_Employed        0.027997\n",
       "Education            0.027367\n",
       "Gender               0.027218\n",
       "Married              0.026494\n",
       "dtype: float64"
      ]
     },
     "execution_count": 502,
     "metadata": {},
     "output_type": "execute_result"
    }
   ],
   "source": [
    "feature_extra"
   ]
  },
  {
   "cell_type": "markdown",
   "metadata": {},
   "source": [
    "#### Checking the results."
   ]
  },
  {
   "cell_type": "code",
   "execution_count": 503,
   "metadata": {
    "execution": {
     "iopub.execute_input": "2022-11-30T23:04:07.935052Z",
     "iopub.status.busy": "2022-11-30T23:04:07.934517Z",
     "iopub.status.idle": "2022-11-30T23:04:07.940860Z",
     "shell.execute_reply": "2022-11-30T23:04:07.939367Z",
     "shell.execute_reply.started": "2022-11-30T23:04:07.935008Z"
    }
   },
   "outputs": [],
   "source": [
    "Naive_dict_v1 = {'Model':'Naive Bayes',\n",
    "               'Scaling':'Normal Data',\n",
    "               'Type':'Gaussian',\n",
    "               'Precision':score_naive_gaussian}"
   ]
  },
  {
   "cell_type": "code",
   "execution_count": 504,
   "metadata": {
    "execution": {
     "iopub.execute_input": "2022-11-30T23:04:12.152945Z",
     "iopub.status.busy": "2022-11-30T23:04:12.152518Z",
     "iopub.status.idle": "2022-11-30T23:04:12.159231Z",
     "shell.execute_reply": "2022-11-30T23:04:12.157866Z",
     "shell.execute_reply.started": "2022-11-30T23:04:12.152912Z"
    }
   },
   "outputs": [],
   "source": [
    "resumo = pd.DataFrame({'Naive_dict_v1':pd.Series(Naive_dict_v1),\n",
    "                      })"
   ]
  },
  {
   "cell_type": "code",
   "execution_count": 505,
   "metadata": {
    "execution": {
     "iopub.execute_input": "2022-11-30T23:04:22.017368Z",
     "iopub.status.busy": "2022-11-30T23:04:22.016979Z",
     "iopub.status.idle": "2022-11-30T23:04:22.023559Z",
     "shell.execute_reply": "2022-11-30T23:04:22.022676Z",
     "shell.execute_reply.started": "2022-11-30T23:04:22.017337Z"
    }
   },
   "outputs": [],
   "source": [
    "Decision_dict = {'Model':'Decision Tree',\n",
    "               'Scaling':'Normal Data',\n",
    "               'Type':gridDecisionTree.best_estimator_.criterion,\n",
    "               'Precision':score_tree}\n",
    "\n",
    "Random_dict = {'Model':'Random Forest',\n",
    "               'Scaling':'Normal Data',\n",
    "               'Type':gridRandomForest.best_estimator_.criterion,\n",
    "               'Precision':score_random}\n",
    "\n",
    "Extra_dict = {'Model':'Extra Trees',\n",
    "               'Scaling':'Normal Data',\n",
    "               'Type':gridExtraTrees.best_estimator_.criterion,\n",
    "               'Precision':score_extra}"
   ]
  },
  {
   "cell_type": "code",
   "execution_count": 508,
   "metadata": {
    "execution": {
     "iopub.execute_input": "2022-11-30T23:05:31.989963Z",
     "iopub.status.busy": "2022-11-30T23:05:31.989551Z",
     "iopub.status.idle": "2022-11-30T23:05:31.997560Z",
     "shell.execute_reply": "2022-11-30T23:05:31.996412Z",
     "shell.execute_reply.started": "2022-11-30T23:05:31.989930Z"
    }
   },
   "outputs": [],
   "source": [
    "resumo_random = pd.DataFrame({'Decision_dict':pd.Series(Decision_dict),\n",
    "                        'Random_dict':pd.Series(Random_dict),\n",
    "                        'Extra Tree':pd.Series(Extra_dict)\n",
    "                      })"
   ]
  },
  {
   "cell_type": "code",
   "execution_count": 506,
   "metadata": {
    "execution": {
     "iopub.execute_input": "2022-11-30T23:05:05.417644Z",
     "iopub.status.busy": "2022-11-30T23:05:05.417260Z",
     "iopub.status.idle": "2022-11-30T23:05:05.423785Z",
     "shell.execute_reply": "2022-11-30T23:05:05.422673Z",
     "shell.execute_reply.started": "2022-11-30T23:05:05.417613Z"
    }
   },
   "outputs": [],
   "source": [
    "K_Means_dict_v1 = {'Model':'K-Means',\n",
    "               'Scaling':'Normal Data',\n",
    "               'Type':'-',\n",
    "               'Precision':classification_kmeans_normal}\n",
    "\n",
    "K_Means_dict_v2 = {'Model':'Means',\n",
    "               'Scaling':'Standard',\n",
    "               'Type':'-',\n",
    "               'Precision':classification_kmeans_standard}"
   ]
  },
  {
   "cell_type": "code",
   "execution_count": 507,
   "metadata": {
    "execution": {
     "iopub.execute_input": "2022-11-30T23:05:22.535547Z",
     "iopub.status.busy": "2022-11-30T23:05:22.535113Z",
     "iopub.status.idle": "2022-11-30T23:05:22.543390Z",
     "shell.execute_reply": "2022-11-30T23:05:22.542034Z",
     "shell.execute_reply.started": "2022-11-30T23:05:22.535508Z"
    }
   },
   "outputs": [],
   "source": [
    "resumo_k_means = pd.DataFrame({'K_Means_dict_v1':pd.Series(K_Means_dict_v1),\n",
    "                       'K_Means_dict_v2':pd.Series(K_Means_dict_v2)\n",
    "                      })"
   ]
  },
  {
   "cell_type": "code",
   "execution_count": 509,
   "metadata": {
    "execution": {
     "iopub.execute_input": "2022-11-30T23:05:43.983599Z",
     "iopub.status.busy": "2022-11-30T23:05:43.983120Z",
     "iopub.status.idle": "2022-11-30T23:05:43.988902Z",
     "shell.execute_reply": "2022-11-30T23:05:43.987957Z",
     "shell.execute_reply.started": "2022-11-30T23:05:43.983537Z"
    }
   },
   "outputs": [],
   "source": [
    "KNN_dict_v1 = {'Model':'KNN',\n",
    "               'Scaling':'Normal Data',\n",
    "               'Type':'-',\n",
    "               'Precision':score_knn}\n",
    "\n",
    "KNN_dict_v2 = {'Model':'KNN',\n",
    "               'Scaling':'Standard',\n",
    "               'Type':'-',\n",
    "               'Precision':score_knn_scaler}"
   ]
  },
  {
   "cell_type": "code",
   "execution_count": 510,
   "metadata": {
    "execution": {
     "iopub.execute_input": "2022-11-30T23:05:48.719558Z",
     "iopub.status.busy": "2022-11-30T23:05:48.718536Z",
     "iopub.status.idle": "2022-11-30T23:05:48.725649Z",
     "shell.execute_reply": "2022-11-30T23:05:48.724560Z",
     "shell.execute_reply.started": "2022-11-30T23:05:48.719512Z"
    }
   },
   "outputs": [],
   "source": [
    "resumo_knn = pd.DataFrame({'KNN_dict_v1':pd.Series(KNN_dict_v1),\n",
    "                       'KNN_dict_v2':pd.Series(KNN_dict_v2)\n",
    "                      })"
   ]
  },
  {
   "cell_type": "code",
   "execution_count": 512,
   "metadata": {
    "execution": {
     "iopub.execute_input": "2022-11-30T23:06:03.064703Z",
     "iopub.status.busy": "2022-11-30T23:06:03.064255Z",
     "iopub.status.idle": "2022-11-30T23:06:03.070056Z",
     "shell.execute_reply": "2022-11-30T23:06:03.069091Z",
     "shell.execute_reply.started": "2022-11-30T23:06:03.064661Z"
    }
   },
   "outputs": [],
   "source": [
    "Logistic_dict_v1 = {'Model':'Logistic Regression',\n",
    "               'Scaling':'Normal Data',\n",
    "               'Type':'-',\n",
    "               'Precision':logistic_normal}"
   ]
  },
  {
   "cell_type": "code",
   "execution_count": 513,
   "metadata": {
    "execution": {
     "iopub.execute_input": "2022-11-30T23:06:11.485146Z",
     "iopub.status.busy": "2022-11-30T23:06:11.484711Z",
     "iopub.status.idle": "2022-11-30T23:06:11.491761Z",
     "shell.execute_reply": "2022-11-30T23:06:11.490631Z",
     "shell.execute_reply.started": "2022-11-30T23:06:11.485107Z"
    }
   },
   "outputs": [],
   "source": [
    "resumo_logistic = pd.DataFrame({'Logistic_dict_v1':pd.Series(Logistic_dict_v1)\n",
    "                      })"
   ]
  },
  {
   "cell_type": "code",
   "execution_count": 514,
   "metadata": {
    "execution": {
     "iopub.execute_input": "2022-11-30T23:06:18.939053Z",
     "iopub.status.busy": "2022-11-30T23:06:18.938639Z",
     "iopub.status.idle": "2022-11-30T23:06:18.944475Z",
     "shell.execute_reply": "2022-11-30T23:06:18.943355Z",
     "shell.execute_reply.started": "2022-11-30T23:06:18.939010Z"
    }
   },
   "outputs": [],
   "source": [
    "svm_dict_v1 = {'Model':'SVM',\n",
    "               'Scaling':'Standard',\n",
    "               'Type':gridSVM.best_estimator_.kernel,\n",
    "               'Precision':score_svm}"
   ]
  },
  {
   "cell_type": "code",
   "execution_count": 515,
   "metadata": {
    "execution": {
     "iopub.execute_input": "2022-11-30T23:06:24.868066Z",
     "iopub.status.busy": "2022-11-30T23:06:24.867032Z",
     "iopub.status.idle": "2022-11-30T23:06:24.873771Z",
     "shell.execute_reply": "2022-11-30T23:06:24.872644Z",
     "shell.execute_reply.started": "2022-11-30T23:06:24.868025Z"
    }
   },
   "outputs": [],
   "source": [
    "resumo_svm = pd.DataFrame({'svm_dict_v1':pd.Series(svm_dict_v1)\n",
    "                      })"
   ]
  },
  {
   "cell_type": "code",
   "execution_count": 521,
   "metadata": {
    "execution": {
     "iopub.execute_input": "2022-11-30T23:08:28.822303Z",
     "iopub.status.busy": "2022-11-30T23:08:28.821887Z",
     "iopub.status.idle": "2022-11-30T23:08:28.827659Z",
     "shell.execute_reply": "2022-11-30T23:08:28.826418Z",
     "shell.execute_reply.started": "2022-11-30T23:08:28.822265Z"
    }
   },
   "outputs": [],
   "source": [
    "ada_dict_v1 = {'Model':'AdaBoost',\n",
    "               'Scaling':'StandardScaler',\n",
    "               'Type':'-',\n",
    "               'Precision':score_ada_scaler}"
   ]
  },
  {
   "cell_type": "code",
   "execution_count": 522,
   "metadata": {
    "execution": {
     "iopub.execute_input": "2022-11-30T23:08:29.408690Z",
     "iopub.status.busy": "2022-11-30T23:08:29.408316Z",
     "iopub.status.idle": "2022-11-30T23:08:29.415145Z",
     "shell.execute_reply": "2022-11-30T23:08:29.413915Z",
     "shell.execute_reply.started": "2022-11-30T23:08:29.408659Z"
    }
   },
   "outputs": [],
   "source": [
    "resumo_ada = pd.DataFrame({'ada_dict_v1':pd.Series(ada_dict_v1)\n",
    "                      })"
   ]
  },
  {
   "cell_type": "code",
   "execution_count": 523,
   "metadata": {
    "execution": {
     "iopub.execute_input": "2022-11-30T23:08:32.934413Z",
     "iopub.status.busy": "2022-11-30T23:08:32.934020Z",
     "iopub.status.idle": "2022-11-30T23:08:32.940018Z",
     "shell.execute_reply": "2022-11-30T23:08:32.938839Z",
     "shell.execute_reply.started": "2022-11-30T23:08:32.934382Z"
    }
   },
   "outputs": [],
   "source": [
    "grad_dict_v1 = {'Model':'GradientBoost',\n",
    "               'Scaling':'StandardScaler',\n",
    "               'Type':'-',\n",
    "               'Precision':score_grad_standard}"
   ]
  },
  {
   "cell_type": "code",
   "execution_count": 524,
   "metadata": {
    "execution": {
     "iopub.execute_input": "2022-11-30T23:08:57.686358Z",
     "iopub.status.busy": "2022-11-30T23:08:57.685934Z",
     "iopub.status.idle": "2022-11-30T23:08:57.693617Z",
     "shell.execute_reply": "2022-11-30T23:08:57.691567Z",
     "shell.execute_reply.started": "2022-11-30T23:08:57.686322Z"
    }
   },
   "outputs": [],
   "source": [
    "resumo_grad = pd.DataFrame({'grad_dict_v1':pd.Series(grad_dict_v1)\n",
    "                      })"
   ]
  },
  {
   "cell_type": "code",
   "execution_count": 525,
   "metadata": {
    "execution": {
     "iopub.execute_input": "2022-11-30T23:09:11.115572Z",
     "iopub.status.busy": "2022-11-30T23:09:11.115183Z",
     "iopub.status.idle": "2022-11-30T23:09:11.125744Z",
     "shell.execute_reply": "2022-11-30T23:09:11.124743Z",
     "shell.execute_reply.started": "2022-11-30T23:09:11.115541Z"
    }
   },
   "outputs": [
    {
     "data": {
      "text/html": [
       "<div>\n",
       "<style scoped>\n",
       "    .dataframe tbody tr th:only-of-type {\n",
       "        vertical-align: middle;\n",
       "    }\n",
       "\n",
       "    .dataframe tbody tr th {\n",
       "        vertical-align: top;\n",
       "    }\n",
       "\n",
       "    .dataframe thead th {\n",
       "        text-align: right;\n",
       "    }\n",
       "</style>\n",
       "<table border=\"1\" class=\"dataframe\">\n",
       "  <thead>\n",
       "    <tr style=\"text-align: right;\">\n",
       "      <th></th>\n",
       "      <th>Naive_dict_v1</th>\n",
       "    </tr>\n",
       "  </thead>\n",
       "  <tbody>\n",
       "    <tr>\n",
       "      <th>Model</th>\n",
       "      <td>Naive Bayes</td>\n",
       "    </tr>\n",
       "    <tr>\n",
       "      <th>Scaling</th>\n",
       "      <td>Normal Data</td>\n",
       "    </tr>\n",
       "    <tr>\n",
       "      <th>Type</th>\n",
       "      <td>Gaussian</td>\n",
       "    </tr>\n",
       "    <tr>\n",
       "      <th>Precision</th>\n",
       "      <td>0.709957</td>\n",
       "    </tr>\n",
       "  </tbody>\n",
       "</table>\n",
       "</div>"
      ],
      "text/plain": [
       "          Naive_dict_v1\n",
       "Model       Naive Bayes\n",
       "Scaling     Normal Data\n",
       "Type           Gaussian\n",
       "Precision      0.709957"
      ]
     },
     "execution_count": 525,
     "metadata": {},
     "output_type": "execute_result"
    }
   ],
   "source": [
    "resumo"
   ]
  },
  {
   "cell_type": "code",
   "execution_count": 526,
   "metadata": {
    "execution": {
     "iopub.execute_input": "2022-11-30T23:09:18.306019Z",
     "iopub.status.busy": "2022-11-30T23:09:18.304947Z",
     "iopub.status.idle": "2022-11-30T23:09:18.318253Z",
     "shell.execute_reply": "2022-11-30T23:09:18.316728Z",
     "shell.execute_reply.started": "2022-11-30T23:09:18.305967Z"
    }
   },
   "outputs": [
    {
     "data": {
      "text/html": [
       "<div>\n",
       "<style scoped>\n",
       "    .dataframe tbody tr th:only-of-type {\n",
       "        vertical-align: middle;\n",
       "    }\n",
       "\n",
       "    .dataframe tbody tr th {\n",
       "        vertical-align: top;\n",
       "    }\n",
       "\n",
       "    .dataframe thead th {\n",
       "        text-align: right;\n",
       "    }\n",
       "</style>\n",
       "<table border=\"1\" class=\"dataframe\">\n",
       "  <thead>\n",
       "    <tr style=\"text-align: right;\">\n",
       "      <th></th>\n",
       "      <th>Decision_dict</th>\n",
       "      <th>Random_dict</th>\n",
       "      <th>Extra Tree</th>\n",
       "    </tr>\n",
       "  </thead>\n",
       "  <tbody>\n",
       "    <tr>\n",
       "      <th>Model</th>\n",
       "      <td>Decision Tree</td>\n",
       "      <td>Random Forest</td>\n",
       "      <td>Extra Trees</td>\n",
       "    </tr>\n",
       "    <tr>\n",
       "      <th>Scaling</th>\n",
       "      <td>Normal Data</td>\n",
       "      <td>Normal Data</td>\n",
       "      <td>Normal Data</td>\n",
       "    </tr>\n",
       "    <tr>\n",
       "      <th>Type</th>\n",
       "      <td>gini</td>\n",
       "      <td>gini</td>\n",
       "      <td>gini</td>\n",
       "    </tr>\n",
       "    <tr>\n",
       "      <th>Precision</th>\n",
       "      <td>0.727273</td>\n",
       "      <td>0.852814</td>\n",
       "      <td>0.848485</td>\n",
       "    </tr>\n",
       "  </tbody>\n",
       "</table>\n",
       "</div>"
      ],
      "text/plain": [
       "           Decision_dict    Random_dict   Extra Tree\n",
       "Model      Decision Tree  Random Forest  Extra Trees\n",
       "Scaling      Normal Data    Normal Data  Normal Data\n",
       "Type                gini           gini         gini\n",
       "Precision       0.727273       0.852814     0.848485"
      ]
     },
     "execution_count": 526,
     "metadata": {},
     "output_type": "execute_result"
    }
   ],
   "source": [
    "resumo_random"
   ]
  },
  {
   "cell_type": "code",
   "execution_count": 527,
   "metadata": {
    "execution": {
     "iopub.execute_input": "2022-11-30T23:09:30.399547Z",
     "iopub.status.busy": "2022-11-30T23:09:30.398720Z",
     "iopub.status.idle": "2022-11-30T23:09:30.410185Z",
     "shell.execute_reply": "2022-11-30T23:09:30.408964Z",
     "shell.execute_reply.started": "2022-11-30T23:09:30.399500Z"
    }
   },
   "outputs": [
    {
     "data": {
      "text/html": [
       "<div>\n",
       "<style scoped>\n",
       "    .dataframe tbody tr th:only-of-type {\n",
       "        vertical-align: middle;\n",
       "    }\n",
       "\n",
       "    .dataframe tbody tr th {\n",
       "        vertical-align: top;\n",
       "    }\n",
       "\n",
       "    .dataframe thead th {\n",
       "        text-align: right;\n",
       "    }\n",
       "</style>\n",
       "<table border=\"1\" class=\"dataframe\">\n",
       "  <thead>\n",
       "    <tr style=\"text-align: right;\">\n",
       "      <th></th>\n",
       "      <th>K_Means_dict_v1</th>\n",
       "      <th>K_Means_dict_v2</th>\n",
       "    </tr>\n",
       "  </thead>\n",
       "  <tbody>\n",
       "    <tr>\n",
       "      <th>Model</th>\n",
       "      <td>K-Means</td>\n",
       "      <td>Means</td>\n",
       "    </tr>\n",
       "    <tr>\n",
       "      <th>Scaling</th>\n",
       "      <td>Normal Data</td>\n",
       "      <td>Standard</td>\n",
       "    </tr>\n",
       "    <tr>\n",
       "      <th>Type</th>\n",
       "      <td>-</td>\n",
       "      <td>-</td>\n",
       "    </tr>\n",
       "    <tr>\n",
       "      <th>Precision</th>\n",
       "      <td>0.484848</td>\n",
       "      <td>0.506494</td>\n",
       "    </tr>\n",
       "  </tbody>\n",
       "</table>\n",
       "</div>"
      ],
      "text/plain": [
       "          K_Means_dict_v1 K_Means_dict_v2\n",
       "Model             K-Means           Means\n",
       "Scaling       Normal Data        Standard\n",
       "Type                    -               -\n",
       "Precision        0.484848        0.506494"
      ]
     },
     "execution_count": 527,
     "metadata": {},
     "output_type": "execute_result"
    }
   ],
   "source": [
    "resumo_k_means"
   ]
  },
  {
   "cell_type": "code",
   "execution_count": 528,
   "metadata": {
    "execution": {
     "iopub.execute_input": "2022-11-30T23:09:40.634225Z",
     "iopub.status.busy": "2022-11-30T23:09:40.633218Z",
     "iopub.status.idle": "2022-11-30T23:09:40.645945Z",
     "shell.execute_reply": "2022-11-30T23:09:40.645025Z",
     "shell.execute_reply.started": "2022-11-30T23:09:40.634183Z"
    }
   },
   "outputs": [
    {
     "data": {
      "text/html": [
       "<div>\n",
       "<style scoped>\n",
       "    .dataframe tbody tr th:only-of-type {\n",
       "        vertical-align: middle;\n",
       "    }\n",
       "\n",
       "    .dataframe tbody tr th {\n",
       "        vertical-align: top;\n",
       "    }\n",
       "\n",
       "    .dataframe thead th {\n",
       "        text-align: right;\n",
       "    }\n",
       "</style>\n",
       "<table border=\"1\" class=\"dataframe\">\n",
       "  <thead>\n",
       "    <tr style=\"text-align: right;\">\n",
       "      <th></th>\n",
       "      <th>KNN_dict_v1</th>\n",
       "      <th>KNN_dict_v2</th>\n",
       "    </tr>\n",
       "  </thead>\n",
       "  <tbody>\n",
       "    <tr>\n",
       "      <th>Model</th>\n",
       "      <td>KNN</td>\n",
       "      <td>KNN</td>\n",
       "    </tr>\n",
       "    <tr>\n",
       "      <th>Scaling</th>\n",
       "      <td>Normal Data</td>\n",
       "      <td>Standard</td>\n",
       "    </tr>\n",
       "    <tr>\n",
       "      <th>Type</th>\n",
       "      <td>-</td>\n",
       "      <td>-</td>\n",
       "    </tr>\n",
       "    <tr>\n",
       "      <th>Precision</th>\n",
       "      <td>0.709957</td>\n",
       "      <td>0.800866</td>\n",
       "    </tr>\n",
       "  </tbody>\n",
       "</table>\n",
       "</div>"
      ],
      "text/plain": [
       "           KNN_dict_v1 KNN_dict_v2\n",
       "Model              KNN         KNN\n",
       "Scaling    Normal Data    Standard\n",
       "Type                 -           -\n",
       "Precision     0.709957    0.800866"
      ]
     },
     "execution_count": 528,
     "metadata": {},
     "output_type": "execute_result"
    }
   ],
   "source": [
    "resumo_knn"
   ]
  },
  {
   "cell_type": "code",
   "execution_count": 529,
   "metadata": {
    "execution": {
     "iopub.execute_input": "2022-11-30T23:09:45.204337Z",
     "iopub.status.busy": "2022-11-30T23:09:45.203920Z",
     "iopub.status.idle": "2022-11-30T23:09:45.213427Z",
     "shell.execute_reply": "2022-11-30T23:09:45.212402Z",
     "shell.execute_reply.started": "2022-11-30T23:09:45.204303Z"
    }
   },
   "outputs": [
    {
     "data": {
      "text/html": [
       "<div>\n",
       "<style scoped>\n",
       "    .dataframe tbody tr th:only-of-type {\n",
       "        vertical-align: middle;\n",
       "    }\n",
       "\n",
       "    .dataframe tbody tr th {\n",
       "        vertical-align: top;\n",
       "    }\n",
       "\n",
       "    .dataframe thead th {\n",
       "        text-align: right;\n",
       "    }\n",
       "</style>\n",
       "<table border=\"1\" class=\"dataframe\">\n",
       "  <thead>\n",
       "    <tr style=\"text-align: right;\">\n",
       "      <th></th>\n",
       "      <th>Logistic_dict_v1</th>\n",
       "    </tr>\n",
       "  </thead>\n",
       "  <tbody>\n",
       "    <tr>\n",
       "      <th>Model</th>\n",
       "      <td>Logistic Regression</td>\n",
       "    </tr>\n",
       "    <tr>\n",
       "      <th>Scaling</th>\n",
       "      <td>Normal Data</td>\n",
       "    </tr>\n",
       "    <tr>\n",
       "      <th>Type</th>\n",
       "      <td>-</td>\n",
       "    </tr>\n",
       "    <tr>\n",
       "      <th>Precision</th>\n",
       "      <td>0.714286</td>\n",
       "    </tr>\n",
       "  </tbody>\n",
       "</table>\n",
       "</div>"
      ],
      "text/plain": [
       "              Logistic_dict_v1\n",
       "Model      Logistic Regression\n",
       "Scaling            Normal Data\n",
       "Type                         -\n",
       "Precision             0.714286"
      ]
     },
     "execution_count": 529,
     "metadata": {},
     "output_type": "execute_result"
    }
   ],
   "source": [
    "resumo_logistic"
   ]
  },
  {
   "cell_type": "code",
   "execution_count": 530,
   "metadata": {
    "execution": {
     "iopub.execute_input": "2022-11-30T23:09:50.738323Z",
     "iopub.status.busy": "2022-11-30T23:09:50.737772Z",
     "iopub.status.idle": "2022-11-30T23:09:50.752392Z",
     "shell.execute_reply": "2022-11-30T23:09:50.750983Z",
     "shell.execute_reply.started": "2022-11-30T23:09:50.738275Z"
    }
   },
   "outputs": [
    {
     "data": {
      "text/html": [
       "<div>\n",
       "<style scoped>\n",
       "    .dataframe tbody tr th:only-of-type {\n",
       "        vertical-align: middle;\n",
       "    }\n",
       "\n",
       "    .dataframe tbody tr th {\n",
       "        vertical-align: top;\n",
       "    }\n",
       "\n",
       "    .dataframe thead th {\n",
       "        text-align: right;\n",
       "    }\n",
       "</style>\n",
       "<table border=\"1\" class=\"dataframe\">\n",
       "  <thead>\n",
       "    <tr style=\"text-align: right;\">\n",
       "      <th></th>\n",
       "      <th>svm_dict_v1</th>\n",
       "    </tr>\n",
       "  </thead>\n",
       "  <tbody>\n",
       "    <tr>\n",
       "      <th>Model</th>\n",
       "      <td>SVM</td>\n",
       "    </tr>\n",
       "    <tr>\n",
       "      <th>Scaling</th>\n",
       "      <td>Standard</td>\n",
       "    </tr>\n",
       "    <tr>\n",
       "      <th>Type</th>\n",
       "      <td>poly</td>\n",
       "    </tr>\n",
       "    <tr>\n",
       "      <th>Precision</th>\n",
       "      <td>0.779221</td>\n",
       "    </tr>\n",
       "  </tbody>\n",
       "</table>\n",
       "</div>"
      ],
      "text/plain": [
       "          svm_dict_v1\n",
       "Model             SVM\n",
       "Scaling      Standard\n",
       "Type             poly\n",
       "Precision    0.779221"
      ]
     },
     "execution_count": 530,
     "metadata": {},
     "output_type": "execute_result"
    }
   ],
   "source": [
    "resumo_svm"
   ]
  },
  {
   "cell_type": "code",
   "execution_count": 531,
   "metadata": {
    "execution": {
     "iopub.execute_input": "2022-11-30T23:09:53.494485Z",
     "iopub.status.busy": "2022-11-30T23:09:53.494113Z",
     "iopub.status.idle": "2022-11-30T23:09:53.505117Z",
     "shell.execute_reply": "2022-11-30T23:09:53.504170Z",
     "shell.execute_reply.started": "2022-11-30T23:09:53.494453Z"
    }
   },
   "outputs": [
    {
     "data": {
      "text/html": [
       "<div>\n",
       "<style scoped>\n",
       "    .dataframe tbody tr th:only-of-type {\n",
       "        vertical-align: middle;\n",
       "    }\n",
       "\n",
       "    .dataframe tbody tr th {\n",
       "        vertical-align: top;\n",
       "    }\n",
       "\n",
       "    .dataframe thead th {\n",
       "        text-align: right;\n",
       "    }\n",
       "</style>\n",
       "<table border=\"1\" class=\"dataframe\">\n",
       "  <thead>\n",
       "    <tr style=\"text-align: right;\">\n",
       "      <th></th>\n",
       "      <th>ada_dict_v1</th>\n",
       "    </tr>\n",
       "  </thead>\n",
       "  <tbody>\n",
       "    <tr>\n",
       "      <th>Model</th>\n",
       "      <td>AdaBoost</td>\n",
       "    </tr>\n",
       "    <tr>\n",
       "      <th>Scaling</th>\n",
       "      <td>StandardScaler</td>\n",
       "    </tr>\n",
       "    <tr>\n",
       "      <th>Type</th>\n",
       "      <td>-</td>\n",
       "    </tr>\n",
       "    <tr>\n",
       "      <th>Precision</th>\n",
       "      <td>0.796537</td>\n",
       "    </tr>\n",
       "  </tbody>\n",
       "</table>\n",
       "</div>"
      ],
      "text/plain": [
       "              ada_dict_v1\n",
       "Model            AdaBoost\n",
       "Scaling    StandardScaler\n",
       "Type                    -\n",
       "Precision        0.796537"
      ]
     },
     "execution_count": 531,
     "metadata": {},
     "output_type": "execute_result"
    }
   ],
   "source": [
    "resumo_ada"
   ]
  },
  {
   "cell_type": "code",
   "execution_count": 532,
   "metadata": {
    "execution": {
     "iopub.execute_input": "2022-11-30T23:09:57.717418Z",
     "iopub.status.busy": "2022-11-30T23:09:57.716993Z",
     "iopub.status.idle": "2022-11-30T23:09:57.727889Z",
     "shell.execute_reply": "2022-11-30T23:09:57.726464Z",
     "shell.execute_reply.started": "2022-11-30T23:09:57.717381Z"
    }
   },
   "outputs": [
    {
     "data": {
      "text/html": [
       "<div>\n",
       "<style scoped>\n",
       "    .dataframe tbody tr th:only-of-type {\n",
       "        vertical-align: middle;\n",
       "    }\n",
       "\n",
       "    .dataframe tbody tr th {\n",
       "        vertical-align: top;\n",
       "    }\n",
       "\n",
       "    .dataframe thead th {\n",
       "        text-align: right;\n",
       "    }\n",
       "</style>\n",
       "<table border=\"1\" class=\"dataframe\">\n",
       "  <thead>\n",
       "    <tr style=\"text-align: right;\">\n",
       "      <th></th>\n",
       "      <th>grad_dict_v1</th>\n",
       "    </tr>\n",
       "  </thead>\n",
       "  <tbody>\n",
       "    <tr>\n",
       "      <th>Model</th>\n",
       "      <td>GradientBoost</td>\n",
       "    </tr>\n",
       "    <tr>\n",
       "      <th>Scaling</th>\n",
       "      <td>StandardScaler</td>\n",
       "    </tr>\n",
       "    <tr>\n",
       "      <th>Type</th>\n",
       "      <td>-</td>\n",
       "    </tr>\n",
       "    <tr>\n",
       "      <th>Precision</th>\n",
       "      <td>0.796537</td>\n",
       "    </tr>\n",
       "  </tbody>\n",
       "</table>\n",
       "</div>"
      ],
      "text/plain": [
       "             grad_dict_v1\n",
       "Model       GradientBoost\n",
       "Scaling    StandardScaler\n",
       "Type                    -\n",
       "Precision        0.796537"
      ]
     },
     "execution_count": 532,
     "metadata": {},
     "output_type": "execute_result"
    }
   ],
   "source": [
    "resumo_grad"
   ]
  },
  {
   "cell_type": "markdown",
   "metadata": {},
   "source": [
    "## <font color='blue'> 5. Conclusion. </font>"
   ]
  },
  {
   "cell_type": "markdown",
   "metadata": {},
   "source": [
    "#### We can see that we have numeric variables and some categorical variables, our database is not very big, which makes our work a little difficult.\n",
    "\n",
    "####  When we look at our database we can see that we have some null values, some we can handle and others we can't, when we analyze the business for example, we have the Credit History variable, and this variable has some null values, if we fill in these null values we may have a very high risk in the business, so we chose to use the base omitting the null values ​​of the credit history variable, the other null values ​​were treated.\n",
    "\n",
    "#### When we look at the correlation part, we see that we do not have a strong correlation between our variables, in the exploratory analysis the variable that most caught our attention was the credit history variable, when there is no credit history we have practically an automatic refusal.\n",
    "\n",
    "#### When we look at our target variable, we can see that we have many more yes values ​​than no, which makes it necessary to balance the classes before starting to run the Machine Learning models.\n",
    "\n",
    "#### Talking about Machine Learning models, we obtained several models with good results, some models failed to predict the two outputs and other models did very well, our main models were the ExtraTrees, Random Forest and KNN models, but the model that had a better result balanced and with the highest accuracy value was the Random Forest model with an accuracy of 85%.\n",
    "\n",
    "#### When we look at the variables that most explain our Machine Learning models, we arrive at a result that is practically the same in all the models we run, with the Credit_History variable in first, Loan Amount and Coapplicant variable in second, and the ApplicantIncome variable in third, so these are the most important variables when analyzing this problem."
   ]
  },
  {
   "cell_type": "markdown",
   "metadata": {},
   "source": [
    "## <font color='red'> if you liked the analysis, leave a \"like\" (up arrow), and comment what you think of the study, if you have any suggestions I would be happy to hear from you.. </font>"
   ]
  },
  {
   "cell_type": "code",
   "execution_count": null,
   "metadata": {},
   "outputs": [],
   "source": []
  }
 ],
 "metadata": {
  "kernelspec": {
   "display_name": "Python 3 (ipykernel)",
   "language": "python",
   "name": "python3"
  },
  "language_info": {
   "codemirror_mode": {
    "name": "ipython",
    "version": 3
   },
   "file_extension": ".py",
   "mimetype": "text/x-python",
   "name": "python",
   "nbconvert_exporter": "python",
   "pygments_lexer": "ipython3",
   "version": "3.9.7"
  }
 },
 "nbformat": 4,
 "nbformat_minor": 4
}
